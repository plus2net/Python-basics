{
  "nbformat": 4,
  "nbformat_minor": 0,
  "metadata": {
    "colab": {
      "provenance": [],
      "authorship_tag": "ABX9TyNY14u8bAzhDebtLdW+qZBQ",
      "include_colab_link": true
    },
    "kernelspec": {
      "name": "python3",
      "display_name": "Python 3"
    }
  },
  "cells": [
    {
      "cell_type": "markdown",
      "metadata": {
        "id": "view-in-github",
        "colab_type": "text"
      },
      "source": [
        "<a href=\"https://colab.research.google.com/github/plus2net/Python-basics/blob/main/online_class_while_loop_v1.ipynb\" target=\"_parent\"><img src=\"https://colab.research.google.com/assets/colab-badge.svg\" alt=\"Open In Colab\"/></a>"
      ]
    },
    {
      "cell_type": "markdown",
      "source": [
        "![alt text](https://www.plus2net.com/images/top2.jpg)        Read more on [Python while loop ](https://www.plus2net.com/python/while-loop.php)"
      ],
      "metadata": {
        "id": "audw05pSF0iu"
      }
    },
    {
      "cell_type": "markdown",
      "metadata": {
        "id": "WMByX06CKKKE"
      },
      "source": [
        "Start with a simple example to understand while loop"
      ]
    },
    {
      "cell_type": "markdown",
      "source": [
        "while loop with else"
      ],
      "metadata": {
        "id": "UZA3pPJnl8A8"
      }
    },
    {
      "cell_type": "markdown",
      "source": [
        "While loop with break"
      ],
      "metadata": {
        "id": "WBe-V5gTmJjr"
      }
    },
    {
      "cell_type": "markdown",
      "source": [
        "while loop with continue"
      ],
      "metadata": {
        "id": "9VFOWh2amcm8"
      }
    },
    {
      "cell_type": "markdown",
      "source": [
        "Add one else part to a whle loop."
      ],
      "metadata": {
        "id": "93cXm3hPme2F"
      }
    },
    {
      "cell_type": "markdown",
      "source": [
        "What is the effect of break and continue with else"
      ],
      "metadata": {
        "id": "4U6Rlgl0moz1"
      }
    },
    {
      "cell_type": "markdown",
      "source": [
        "What is nested for loop, give example"
      ],
      "metadata": {
        "id": "IYyqLFZTnbhF"
      }
    },
    {
      "cell_type": "code",
      "source": [
        "i=j=0\n",
        "while i<5:\n",
        "  while j<5:\n",
        "    print(j,end='')\n",
        "    j=j+1\n",
        "  print(\"\")\n",
        "  j=0\n",
        "  i=i+1"
      ],
      "metadata": {
        "id": "YQ7JRRWcwvuP",
        "colab": {
          "base_uri": "https://localhost:8080/"
        },
        "outputId": "2c6a2f0a-108a-4f4d-9b7f-2a213cb53e54"
      },
      "execution_count": 4,
      "outputs": [
        {
          "output_type": "stream",
          "name": "stdout",
          "text": [
            "01234\n",
            "01234\n",
            "01234\n",
            "01234\n",
            "01234\n"
          ]
        }
      ]
    },
    {
      "cell_type": "markdown",
      "source": [
        "Print all prime numbers upto 100"
      ],
      "metadata": {
        "id": "fueqqE0cmzaj"
      }
    },
    {
      "cell_type": "code",
      "source": [
        "num=100 # Upper limit of prime numbers\n",
        "i=2\n",
        "while i<=num-1:\n",
        "  j=2 # start checking each number from 2\n",
        "  while j <= i/2 : # check upto half the number\n",
        "    if(i%j==0): # reminder of division is 0\n",
        "        break  # come out of loop without else part\n",
        "    j=j+1\n",
        "  else:\n",
        "    print(i, \" is a prime number\") # if break is not encountered\n",
        "  i=i+1"
      ],
      "metadata": {
        "id": "eZRSvRyQxgyt"
      },
      "execution_count": null,
      "outputs": []
    },
    {
      "cell_type": "markdown",
      "source": [
        "Collect user inputs and show the result, user can exit by entering 0"
      ],
      "metadata": {
        "id": "G14tKH8Vh4LI"
      }
    },
    {
      "cell_type": "code",
      "source": [
        "user_input = \"\"\n",
        "my_sum=0\n",
        "while user_input != '0':\n",
        "  user_input = input(\"Enter 0 to quit: \")\n",
        "  my_sum=my_sum + int(user_input)\n",
        "else:\n",
        "  print(\"Exited the loop. The sum :\", my_sum)"
      ],
      "metadata": {
        "colab": {
          "base_uri": "https://localhost:8080/"
        },
        "id": "bMJQvwYFh3oU",
        "outputId": "fad9b6b2-bb16-4536-917e-9f7907c0c2b9"
      },
      "execution_count": 12,
      "outputs": [
        {
          "output_type": "stream",
          "name": "stdout",
          "text": [
            "Enter 0 to quit: 1\n",
            "Enter 0 to quit: 2\n",
            "Enter 0 to quit: 3\n",
            "Enter 0 to quit: 0\n",
            "Exited the loop. The sum : 6\n"
          ]
        }
      ]
    }
  ]
}