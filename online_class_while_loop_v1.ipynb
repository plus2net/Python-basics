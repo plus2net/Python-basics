{
  "nbformat": 4,
  "nbformat_minor": 0,
  "metadata": {
    "colab": {
      "provenance": [],
      "authorship_tag": "ABX9TyPTwN703CgtPki/fgu2Pizu",
      "include_colab_link": true
    },
    "kernelspec": {
      "name": "python3",
      "display_name": "Python 3"
    }
  },
  "cells": [
    {
      "cell_type": "markdown",
      "metadata": {
        "id": "view-in-github",
        "colab_type": "text"
      },
      "source": [
        "<a href=\"https://colab.research.google.com/github/plus2net/Python-basics/blob/main/online_class_while_loop_v1.ipynb\" target=\"_parent\"><img src=\"https://colab.research.google.com/assets/colab-badge.svg\" alt=\"Open In Colab\"/></a>"
      ]
    },
    {
      "cell_type": "markdown",
      "source": [
        "![alt text](https://www.plus2net.com/images/top2.jpg)        Read more on [Python while loop ](https://www.plus2net.com/python/while-loop.php)"
      ],
      "metadata": {
        "id": "audw05pSF0iu"
      }
    },
    {
      "cell_type": "markdown",
      "metadata": {
        "id": "WMByX06CKKKE"
      },
      "source": [
        "Start with a simple example to understand while loop"
      ]
    },
    {
      "cell_type": "code",
      "source": [
        "i=0\n",
        "while (i<5):\n",
        "  print(i)\n",
        "  i=i+1"
      ],
      "metadata": {
        "id": "HK7qiDZd3iz-"
      },
      "execution_count": null,
      "outputs": []
    },
    {
      "cell_type": "markdown",
      "source": [
        "while loop with else"
      ],
      "metadata": {
        "id": "UZA3pPJnl8A8"
      }
    },
    {
      "cell_type": "code",
      "source": [
        "i=0\n",
        "while (i<5):\n",
        "  print(i)\n",
        "  i=i+1\n",
        "else:\n",
        "  print('I am outside loop inside else block')"
      ],
      "metadata": {
        "colab": {
          "base_uri": "https://localhost:8080/"
        },
        "id": "4EB1YGPI37BK",
        "outputId": "f4a92ffe-d90f-4fba-a680-c5ca6184d792"
      },
      "execution_count": null,
      "outputs": [
        {
          "output_type": "stream",
          "name": "stdout",
          "text": [
            "0\n",
            "1\n",
            "2\n",
            "3\n",
            "4\n",
            "I am outside loop inside else block\n"
          ]
        }
      ]
    },
    {
      "cell_type": "markdown",
      "source": [
        "While loop with break"
      ],
      "metadata": {
        "id": "WBe-V5gTmJjr"
      }
    },
    {
      "cell_type": "code",
      "source": [
        "i=0\n",
        "while i<5:\n",
        "  i=i+1\n",
        "  if(i==3):\n",
        "    #continue\n",
        "    break\n",
        "  print(i)\n",
        "else:\n",
        "  print('I am outside loop inside else block')"
      ],
      "metadata": {
        "colab": {
          "base_uri": "https://localhost:8080/"
        },
        "id": "SIhcHYZS4dxs",
        "outputId": "7e742f49-0f28-4e4d-ab54-b81e2c860ec1"
      },
      "execution_count": null,
      "outputs": [
        {
          "output_type": "stream",
          "name": "stdout",
          "text": [
            "1\n",
            "2\n"
          ]
        }
      ]
    },
    {
      "cell_type": "markdown",
      "source": [
        "while loop with continue"
      ],
      "metadata": {
        "id": "9VFOWh2amcm8"
      }
    },
    {
      "cell_type": "code",
      "source": [
        "i=0\n",
        "while i<5:\n",
        "  i=i+1\n",
        "  if(i==3):\n",
        "    continue\n",
        "    #break\n",
        "  print(i)\n",
        "else:\n",
        "  print('I am outside loop inside else block')"
      ],
      "metadata": {
        "id": "xLdot1QhFBJd"
      },
      "execution_count": null,
      "outputs": []
    },
    {
      "cell_type": "markdown",
      "source": [
        "Add one else part to a whle loop."
      ],
      "metadata": {
        "id": "93cXm3hPme2F"
      }
    },
    {
      "cell_type": "code",
      "source": [
        "i=0\n",
        "while i<5:\n",
        "  i=i+1\n",
        "  print(i)\n",
        "else:\n",
        "  print('I am outside loop inside else block')"
      ],
      "metadata": {
        "id": "0XUTUjbhFD8d"
      },
      "execution_count": null,
      "outputs": []
    },
    {
      "cell_type": "markdown",
      "source": [
        "What is the effect of break and continue with else"
      ],
      "metadata": {
        "id": "4U6Rlgl0moz1"
      }
    },
    {
      "cell_type": "code",
      "source": [
        "i=0\n",
        "while i<5:\n",
        "  i=i+1\n",
        "  if(i==3):\n",
        "    #continue\n",
        "    break\n",
        "  print(i)\n",
        "else:\n",
        "  print('I am outside loop inside else block')"
      ],
      "metadata": {
        "id": "pQaDOzsC5Qtm"
      },
      "execution_count": null,
      "outputs": []
    },
    {
      "cell_type": "markdown",
      "source": [
        "What is nested for loop, give example"
      ],
      "metadata": {
        "id": "IYyqLFZTnbhF"
      }
    },
    {
      "cell_type": "code",
      "source": [
        "i=j=0\n",
        "while i<5:\n",
        "  while j<5:\n",
        "    print(j,end='')\n",
        "    j=j+1\n",
        "  print('')\n",
        "  j=0\n",
        "  i=i+1"
      ],
      "metadata": {
        "id": "kkj05mjN5Tyo"
      },
      "execution_count": null,
      "outputs": []
    },
    {
      "cell_type": "code",
      "source": [
        "i=j=0\n",
        "while i<5:\n",
        "  while j<5:\n",
        "    print('*',end='')\n",
        "    j=j+1\n",
        "  print('')\n",
        "  j=0\n",
        "  i=i+1"
      ],
      "metadata": {
        "id": "TlQDgCcOE5nV"
      },
      "execution_count": null,
      "outputs": []
    },
    {
      "cell_type": "markdown",
      "source": [
        "Check if input number is prime number or not"
      ],
      "metadata": {
        "id": "HMZGNFvREywk"
      }
    },
    {
      "cell_type": "code",
      "source": [
        "num=int(input(\"Enter the number you want to check : \"))\n",
        "i=2\n",
        "while(i<num/2):\n",
        "  if(num%i == 0):\n",
        "    print(num, \" is not a prime number\")\n",
        "    break;\n",
        "  i=i+1\n",
        "else:\n",
        "  print(num , \" is a prime number\")"
      ],
      "metadata": {
        "id": "EJ_aTuSsE1TT"
      },
      "execution_count": null,
      "outputs": []
    },
    {
      "cell_type": "markdown",
      "source": [
        "Print all prime numbers upto 100"
      ],
      "metadata": {
        "id": "fueqqE0cmzaj"
      }
    },
    {
      "cell_type": "code",
      "source": [
        "num=50\n",
        "i=2\n",
        "while i<num-1:\n",
        "  j=2\n",
        "  while j<=i/2:\n",
        "    if(i%j==0):\n",
        "      break\n",
        "    j=j+1\n",
        "  else:\n",
        "    print( i , \" is a prime number \")\n",
        "  i=i+1"
      ],
      "metadata": {
        "colab": {
          "base_uri": "https://localhost:8080/"
        },
        "id": "bMLKuJLC6ckw",
        "outputId": "6cbe2d9f-3898-4e69-8106-69032707f03b"
      },
      "execution_count": null,
      "outputs": [
        {
          "output_type": "stream",
          "name": "stdout",
          "text": [
            "2  is a prime number \n",
            "3  is a prime number \n",
            "5  is a prime number \n",
            "7  is a prime number \n",
            "11  is a prime number \n",
            "13  is a prime number \n",
            "17  is a prime number \n",
            "19  is a prime number \n",
            "23  is a prime number \n",
            "29  is a prime number \n",
            "31  is a prime number \n",
            "37  is a prime number \n",
            "41  is a prime number \n",
            "43  is a prime number \n",
            "47  is a prime number \n"
          ]
        }
      ]
    },
    {
      "cell_type": "markdown",
      "source": [
        "Collect user inputs and show the result, user can exit by entering 0"
      ],
      "metadata": {
        "id": "G14tKH8Vh4LI"
      }
    },
    {
      "cell_type": "code",
      "source": [
        "user_input=''\n",
        "my_sum=0\n",
        "while user_input != '0':\n",
        "  user_input=input('Enter 0 to Exit , enter a number : ')\n",
        "  my_sum=my_sum + int(user_input)\n",
        "else:\n",
        "  print('Existed the loop, the sum is :', my_sum)"
      ],
      "metadata": {
        "colab": {
          "base_uri": "https://localhost:8080/"
        },
        "id": "eXcqz1Wc7yCK",
        "outputId": "1cf5e8b7-fbb4-45d8-b053-845a71928e3d"
      },
      "execution_count": null,
      "outputs": [
        {
          "output_type": "stream",
          "name": "stdout",
          "text": [
            "Enter 0 to Exit , enter a number : 8\n",
            "Enter 0 to Exit , enter a number : 9\n",
            "Enter 0 to Exit , enter a number : 10\n",
            "Enter 0 to Exit , enter a number : 0\n",
            "Existed the loop, the sum is : 27\n"
          ]
        }
      ]
    }
  ]
}