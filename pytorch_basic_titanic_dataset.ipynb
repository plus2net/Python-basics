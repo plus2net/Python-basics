{
  "nbformat": 4,
  "nbformat_minor": 0,
  "metadata": {
    "colab": {
      "provenance": [],
      "authorship_tag": "ABX9TyNRkldOjtooGOdteAPZs4ao",
      "include_colab_link": true
    },
    "kernelspec": {
      "name": "python3",
      "display_name": "Python 3"
    },
    "language_info": {
      "name": "python"
    }
  },
  "cells": [
    {
      "cell_type": "markdown",
      "metadata": {
        "id": "view-in-github",
        "colab_type": "text"
      },
      "source": [
        "<a href=\"https://colab.research.google.com/github/plus2net/Python-basics/blob/main/pytorch_basic_titanic_dataset.ipynb\" target=\"_parent\"><img src=\"https://colab.research.google.com/assets/colab-badge.svg\" alt=\"Open In Colab\"/></a>"
      ]
    },
    {
      "cell_type": "code",
      "execution_count": null,
      "metadata": {
        "colab": {
          "base_uri": "https://localhost:8080/"
        },
        "collapsed": true,
        "id": "4TJ6gzU21dUn",
        "outputId": "1849b4bb-8ea3-4197-fb03-d978a2164e19"
      },
      "outputs": [
        {
          "output_type": "stream",
          "name": "stdout",
          "text": [
            "Epoch 1, Loss: 0.6869\n",
            "Epoch 2, Loss: 0.6801\n",
            "Epoch 3, Loss: 0.6812\n",
            "Epoch 4, Loss: 0.6558\n",
            "Epoch 5, Loss: 0.6392\n",
            "Epoch 6, Loss: 0.5929\n",
            "Epoch 7, Loss: 0.5888\n",
            "Epoch 8, Loss: 0.5751\n",
            "Epoch 9, Loss: 0.5144\n",
            "Epoch 10, Loss: 0.5590\n",
            "Epoch 11, Loss: 0.5677\n",
            "Epoch 12, Loss: 0.4687\n",
            "Epoch 13, Loss: 0.4615\n",
            "Epoch 14, Loss: 0.3335\n",
            "Epoch 15, Loss: 0.4906\n",
            "Epoch 16, Loss: 0.3658\n",
            "Epoch 17, Loss: 0.2681\n",
            "Epoch 18, Loss: 0.3153\n",
            "Epoch 19, Loss: 0.3038\n",
            "Epoch 20, Loss: 0.3570\n",
            "Test Accuracy: 0.7343\n"
          ]
        }
      ],
      "source": [
        "import torch\n",
        "import torch.nn as nn\n",
        "import torch.optim as optim\n",
        "import pandas as pd\n",
        "import seaborn as sns\n",
        "from sklearn.model_selection import train_test_split\n",
        "from sklearn.preprocessing import StandardScaler\n",
        "\n",
        "# Load and preprocess the Titanic dataset\n",
        "df = sns.load_dataset('titanic')[['age', 'fare', 'sex', 'pclass', 'survived']].dropna()\n",
        "df['sex'] = df['sex'].map({'male': 0, 'female': 1})\n",
        "\n",
        "# Features and labels\n",
        "X = df[['age', 'fare', 'sex', 'pclass']].values\n",
        "y = df['survived'].values\n",
        "\n",
        "# Split into train and test sets\n",
        "X_train, X_test, y_train, y_test = train_test_split(\n",
        "    X, y, test_size=0.2, random_state=42\n",
        ")\n",
        "\n",
        "# Scale numerical features\n",
        "scaler = StandardScaler()\n",
        "X_train = scaler.fit_transform(X_train)\n",
        "X_test = scaler.transform(X_test)\n",
        "\n",
        "# Convert to PyTorch tensors\n",
        "X_train = torch.tensor(X_train, dtype=torch.float32)\n",
        "y_train = torch.tensor(y_train, dtype=torch.float32).unsqueeze(1)\n",
        "X_test = torch.tensor(X_test, dtype=torch.float32)\n",
        "y_test = torch.tensor(y_test, dtype=torch.float32).unsqueeze(1)\n",
        "\n",
        "# Create data loader\n",
        "train_ds = torch.utils.data.TensorDataset(X_train, y_train)\n",
        "train_loader = torch.utils.data.DataLoader(train_ds, batch_size=32, shuffle=True)\n",
        "\n",
        "# Define the neural network\n",
        "class TitanicNN(nn.Module):\n",
        "    def __init__(self):\n",
        "        super().__init__()\n",
        "        self.net = nn.Sequential(\n",
        "            nn.Linear(4, 16),\n",
        "            nn.ReLU(),\n",
        "            nn.Linear(16, 8),\n",
        "            nn.ReLU(),\n",
        "            nn.Linear(8, 1),\n",
        "            nn.Sigmoid()\n",
        "        )\n",
        "    def forward(self, x):\n",
        "        return self.net(x)\n",
        "\n",
        "model = TitanicNN()\n",
        "criterion = nn.BCELoss()\n",
        "optimizer = optim.Adam(model.parameters(), lr=0.001)\n",
        "\n",
        "# Training loop\n",
        "for epoch in range(20):\n",
        "    model.train()\n",
        "    for xb, yb in train_loader:\n",
        "        preds = model(xb)\n",
        "        loss = criterion(preds, yb)\n",
        "        optimizer.zero_grad()\n",
        "        loss.backward()\n",
        "        optimizer.step()\n",
        "    print(f'Epoch {epoch+1}, Loss: {loss.item():.4f}')\n",
        "\n",
        "# Evaluation on test set\n",
        "model.eval()\n",
        "with torch.no_grad():\n",
        "    preds = model(X_test)\n",
        "    preds = (preds > 0.5).float()\n",
        "    accuracy = (preds.eq(y_test).sum().item() / len(y_test))\n",
        "    print(f'Test Accuracy: {accuracy:.4f}')\n",
        "torch.save(model.state_dict(),'smo.pt') # creating a Model file and saving"
      ]
    },
    {
      "cell_type": "markdown",
      "source": [
        "Using the above created model ( last line )  file to load the pytorch model. Without this file also we can pass the model to below code."
      ],
      "metadata": {
        "id": "o6dvMzvV5lMX"
      }
    },
    {
      "cell_type": "code",
      "source": [
        "#model=TitanicNN()\n",
        "#model.load_state_dict(torch.load('smo.pt'))"
      ],
      "metadata": {
        "colab": {
          "base_uri": "https://localhost:8080/"
        },
        "id": "jdIJWPUW4MTH",
        "outputId": "f9e9c0dc-d27d-46e5-9652-1d291cf30f44"
      },
      "execution_count": null,
      "outputs": [
        {
          "output_type": "execute_result",
          "data": {
            "text/plain": [
              "<All keys matched successfully>"
            ]
          },
          "metadata": {},
          "execution_count": 5
        }
      ]
    },
    {
      "cell_type": "code",
      "source": [
        "import numpy as np\n",
        "\n",
        "# 1. Create a sample: [age, fare, sex, pclass]\n",
        "#    e.g.  28 years old, $72 fare, female (1), 1st class (1)\n",
        "raw_sample = np.array([[28, 72.0, 1, 1]])\n",
        "\n",
        "# 2. Scale using the same StandardScaler\n",
        "sample_scaled = scaler.transform(raw_sample)\n",
        "\n",
        "# 3. Convert to tensor\n",
        "sample_tensor = torch.tensor(sample_scaled, dtype=torch.float32)\n",
        "\n",
        "# 4. Model inference\n",
        "model.eval()\n",
        "with torch.no_grad():\n",
        "    prob = model(sample_tensor).item()           # Probability of survival\n",
        "    pred = int(prob > 0.5)                       # 1 if survived, 0 otherwise\n",
        "\n",
        "print(f\"Survival probability: {prob:.4f}\")\n",
        "print(\"Prediction:\", \"Survived\" if pred==1 else \"Did not survive\")\n"
      ],
      "metadata": {
        "colab": {
          "base_uri": "https://localhost:8080/"
        },
        "id": "a2e6yzZz2EaQ",
        "outputId": "99f2190c-0755-4e4d-f665-cec2f754b98e"
      },
      "execution_count": null,
      "outputs": [
        {
          "output_type": "stream",
          "name": "stdout",
          "text": [
            "Survival probability: 0.9741\n",
            "Prediction: Survived\n"
          ]
        }
      ]
    }
  ]
}