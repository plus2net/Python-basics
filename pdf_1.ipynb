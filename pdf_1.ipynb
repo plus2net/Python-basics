{
  "nbformat": 4,
  "nbformat_minor": 0,
  "metadata": {
    "colab": {
      "provenance": [],
      "mount_file_id": "1Zo4UT2c8k2SG8LX7vK3zKl3AGJA8k8vN",
      "authorship_tag": "ABX9TyMyIY04Cg0nCis0e8Sh0gUT",
      "include_colab_link": true
    },
    "kernelspec": {
      "name": "python3",
      "display_name": "Python 3"
    },
    "language_info": {
      "name": "python"
    }
  },
  "cells": [
    {
      "cell_type": "markdown",
      "metadata": {
        "id": "view-in-github",
        "colab_type": "text"
      },
      "source": [
        "<a href=\"https://colab.research.google.com/github/plus2net/Python-basics/blob/main/pdf_1.ipynb\" target=\"_parent\"><img src=\"https://colab.research.google.com/assets/colab-badge.svg\" alt=\"Open In Colab\"/></a>"
      ]
    },
    {
      "cell_type": "markdown",
      "source": [
        "![alt text](https://www.plus2net.com/images/top2.jpg)        Read more on [PDF using SQLite](https://www.plus2net.com/python/pdf-colab.php)"
      ],
      "metadata": {
        "id": "U2ex0FsRpffU"
      }
    },
    {
      "cell_type": "code",
      "execution_count": 1,
      "metadata": {
        "colab": {
          "base_uri": "https://localhost:8080/"
        },
        "id": "oL4ZSCD-ZHdY",
        "outputId": "869c2c59-d15b-4ac2-98d4-d6dd497bf75b"
      },
      "outputs": [
        {
          "output_type": "stream",
          "name": "stdout",
          "text": [
            "False\n"
          ]
        }
      ],
      "source": [
        "import imp\n",
        "try:\n",
        "    imp.find_module('reportlab') # check for library\n",
        "    found = True\n",
        "except ImportError:\n",
        "    found = False\n",
        "print(found)"
      ]
    },
    {
      "cell_type": "code",
      "source": [
        "pip install reportlab # Install reportlab if not available"
      ],
      "metadata": {
        "id": "jFVQfl70VUM9"
      },
      "execution_count": null,
      "outputs": []
    },
    {
      "cell_type": "markdown",
      "source": [
        "Create one pdf with text"
      ],
      "metadata": {
        "id": "JdrIFJzap-J9"
      }
    },
    {
      "cell_type": "code",
      "source": [
        "from reportlab.pdfgen import canvas\n",
        "my_path='my_pdf_file.pdf' # file name\n",
        "c = canvas.Canvas(my_path,bottomup=0)\n",
        "c.drawString(200,200,\"Hello World\") # write text in page\n",
        "c.showPage() # saves current page\n",
        "c.save() # stores the file and close  the canvas"
      ],
      "metadata": {
        "id": "drD3Ils_X8QA"
      },
      "execution_count": null,
      "outputs": []
    },
    {
      "cell_type": "markdown",
      "source": [
        "Create one pdf with tet and image"
      ],
      "metadata": {
        "id": "LCzUCwq8p64z"
      }
    },
    {
      "cell_type": "code",
      "source": [
        "!wget https://www.plus2net.com/python/download/1.png # download image"
      ],
      "metadata": {
        "id": "nTfNBaVKL6vv",
        "outputId": "a5593251-5747-4d5f-be18-177bc6012b6e",
        "colab": {
          "base_uri": "https://localhost:8080/"
        }
      },
      "execution_count": null,
      "outputs": [
        {
          "output_type": "stream",
          "name": "stdout",
          "text": [
            "--2023-12-10 04:28:01--  https://www.plus2net.com/python/download/1.png\n",
            "Resolving www.plus2net.com (www.plus2net.com)... 68.178.227.154\n",
            "Connecting to www.plus2net.com (www.plus2net.com)|68.178.227.154|:443... connected.\n",
            "HTTP request sent, awaiting response... 200 OK\n",
            "Length: 4243 (4.1K) [image/png]\n",
            "Saving to: ‘1.png’\n",
            "\n",
            "1.png               100%[===================>]   4.14K  --.-KB/s    in 0s      \n",
            "\n",
            "2023-12-10 04:28:02 (1.71 GB/s) - ‘1.png’ saved [4243/4243]\n",
            "\n"
          ]
        }
      ]
    },
    {
      "cell_type": "code",
      "source": [
        "from reportlab.pdfgen import canvas\n",
        "my_path='my_pdf_file.pdf'\n",
        "c = canvas.Canvas(my_path,bottomup=1)\n",
        "c.setFont(\"Helvetica\", 20) # font family and size\n",
        "c.setFillColorRGB(0,0,1) # font colour as RGB\n",
        "c.drawString(200,800,\"Hello World\") # write text in page\n",
        "c.drawImage('1.png',200,600) # Place the image\n",
        "c.showPage() # saves current page\n",
        "c.save() # stores the file and close  the canvas"
      ],
      "metadata": {
        "id": "42RAEDrdOAeN"
      },
      "execution_count": null,
      "outputs": []
    },
    {
      "cell_type": "markdown",
      "source": [
        "List of Fonts available"
      ],
      "metadata": {
        "id": "tcWhnmBZX4I1"
      }
    },
    {
      "cell_type": "code",
      "source": [
        "from reportlab.pdfgen import canvas\n",
        "from reportlab.lib.units import inch\n",
        "from reportlab.lib.pagesizes import letter\n",
        "my_path='my_fonts.pdf'# file path\n",
        "c = canvas.Canvas(my_path,pagesize=letter)\n",
        "c.translate(inch,inch) # starting point of coordinate to one inch\n",
        "c.setFillColorRGB(0,0,1) # fill colour\n",
        "l1=c.getAvailableFonts() # list of available fonts\n",
        "j=1 # to adjust Y coordinate against each row\n",
        "for my_font in l1: # loop through all fonts\n",
        "    c.setFont(my_font,16) # set font family and size\n",
        "    c.drawString(inch,j*inch*0.5,my_font)\n",
        "    j=j+1\n",
        "c.showPage() # saves current page\n",
        "c.save() # stores the file and close  the canvas"
      ],
      "metadata": {
        "id": "klNfzJKfVsNj"
      },
      "execution_count": null,
      "outputs": []
    },
    {
      "cell_type": "markdown",
      "source": [
        "# Displaying dynamic data taken from SQLite database"
      ],
      "metadata": {
        "id": "lVmMAx1YjuiE"
      }
    },
    {
      "cell_type": "code",
      "source": [
        "# Download the database with a BLOB column storing the image.\n",
        "!wget https://www.plus2net.com/python/download/student_blob.db"
      ],
      "metadata": {
        "id": "JFIECH1ep_Xd",
        "outputId": "322e31bd-b559-4258-cf83-5034f75fb956",
        "colab": {
          "base_uri": "https://localhost:8080/"
        }
      },
      "execution_count": null,
      "outputs": [
        {
          "output_type": "stream",
          "name": "stdout",
          "text": [
            "--2023-12-10 04:28:55--  https://www.plus2net.com/python/download/student_blob.db\n",
            "Resolving www.plus2net.com (www.plus2net.com)... 68.178.227.154\n",
            "Connecting to www.plus2net.com (www.plus2net.com)|68.178.227.154|:443... connected.\n",
            "HTTP request sent, awaiting response... 200 OK\n",
            "Length: 24576 (24K)\n",
            "Saving to: ‘student_blob.db’\n",
            "\n",
            "student_blob.db     100%[===================>]  24.00K  --.-KB/s    in 0s      \n",
            "\n",
            "2023-12-10 04:28:56 (208 MB/s) - ‘student_blob.db’ saved [24576/24576]\n",
            "\n"
          ]
        }
      ]
    },
    {
      "cell_type": "code",
      "source": [
        "import sqlite3 # Connection library\n",
        "my_conn = sqlite3.connect('student_blob.db') # connect to Database"
      ],
      "metadata": {
        "id": "7leCZSOZqD9U"
      },
      "execution_count": null,
      "outputs": []
    },
    {
      "cell_type": "code",
      "source": [
        "query=\"PRAGMA table_info([student_profile])\" # SQL to get table structure\n",
        "my_data=list(my_conn.execute(query)) # rows of data as list\n",
        "print(my_data) # structure of the table"
      ],
      "metadata": {
        "colab": {
          "base_uri": "https://localhost:8080/"
        },
        "id": "qv2qV7o_kkLg",
        "outputId": "91cf8dc8-2714-48cf-bc1a-9318ac792037"
      },
      "execution_count": null,
      "outputs": [
        {
          "output_type": "stream",
          "name": "stdout",
          "text": [
            "[(0, 'id', 'INTEGER', 0, None, 0), (1, 'student', 'TEXT', 0, None, 0), (2, 'profile_photo', 'BLOB', 0, None, 0)]\n"
          ]
        }
      ]
    },
    {
      "cell_type": "code",
      "source": [
        "query=\"SELECT *  FROM student_profile LIMIT 0,5\" # sql to display rows\n",
        "my_data=list(my_conn.execute(query)) # rows of data as list\n",
        "print(my_data) # includes the BLOB column data"
      ],
      "metadata": {
        "id": "3qm7mbrikBgC"
      },
      "execution_count": null,
      "outputs": []
    },
    {
      "cell_type": "markdown",
      "source": [
        "Single line of data from SQLite database table to PDF document."
      ],
      "metadata": {
        "id": "jHveF_6yqH90"
      }
    },
    {
      "cell_type": "code",
      "source": [
        "import io\n",
        "from PIL import Image\n",
        "from reportlab.lib.utils import ImageReader\n",
        "from reportlab.lib.units import inch\n",
        "\n",
        "my_path='my_pdf.pdf' # file name\n",
        "r_set=my_conn.execute('SELECT * from student_profile WHERE id=2');\n",
        "for row in r_set:\n",
        "  image = Image.open(io.BytesIO(row[2]))\n",
        "io_img = ImageReader(image) # read image\n",
        "c = canvas.Canvas(my_path,bottomup=1) # create Canvas\n",
        "c.setFont('Times-Bold',16)\n",
        "c.drawString(2*inch,6*inch,str(row[0])) # write namepage\n",
        "c.drawString(3*inch,6*inch,row[1]) # write namepage\n",
        "c.drawImage(io_img,4*inch,6*inch) # Add image\n",
        "c.showPage() # saves current page\n",
        "c.save() # save and close"
      ],
      "metadata": {
        "id": "8ESCoSyIqPEL"
      },
      "execution_count": null,
      "outputs": []
    },
    {
      "cell_type": "markdown",
      "source": [
        "Multiple rows of data in one pdf"
      ],
      "metadata": {
        "id": "CiOC49esqEL9"
      }
    },
    {
      "cell_type": "code",
      "source": [
        "import io\n",
        "from PIL import Image\n",
        "from reportlab.lib.utils import ImageReader\n",
        "from reportlab.lib.units import inch\n",
        "\n",
        "my_path='my_pdf_multiple.pdf'\n",
        "c = canvas.Canvas(my_path,bottomup=1)\n",
        "c.setFont('Times-Bold',16)\n",
        "r_set=my_conn.execute('SELECT * from student_profile ORDER BY id DESC');\n",
        "h=5 # Y coordinate to increase\n",
        "for row in r_set:\n",
        "  c.drawString(1*inch,h*inch-0.5,str(row[0])) # Id column\n",
        "  c.drawString(2*inch,h*inch-0.5,row[1]) # Name column\n",
        "  image = Image.open(io.BytesIO(row[2])) # get image from blob column\n",
        "  io_img = ImageReader(image) # read the image\n",
        "  c.drawImage(io_img,4*inch,h*inch) # Draw the image\n",
        "  h=h+1.5 # increase the Y coordinate\n",
        "c.showPage() # saves current page\n",
        "c.save() # save and close"
      ],
      "metadata": {
        "id": "w1Cr70HFukLL"
      },
      "execution_count": null,
      "outputs": []
    },
    {
      "cell_type": "markdown",
      "source": [
        "[PDF document on Colab ](https://www.plus2net.com/python/pdf-colab.php)\n",
        "\n",
        "[More on SQLite database using Colab platform](https://www.plus2net.com/python/sqlite-colab.php)\n",
        "\n",
        "\n",
        "Web site: www.plus2net.com\n",
        "\n",
        "YouTube: https://www.youtube.com/@plus2net1\n",
        "\n",
        "Facebook: https://www.facebook.com/plus2net\n",
        "\n",
        "Instagram: https://www.instagram.com/plus2net.in/\n",
        "\n",
        "LinkedIn: https://www.linkedin.com/in/plus2net/\n",
        "\n",
        "Write to us  https: //www.plus2net.com/contactus.php"
      ],
      "metadata": {
        "id": "Tq-4NazJqbkj"
      }
    }
  ]
}