{
  "nbformat": 4,
  "nbformat_minor": 0,
  "metadata": {
    "kernelspec": {
      "display_name": "Python 3",
      "language": "python",
      "name": "python3"
    },
    "language_info": {
      "codemirror_mode": {
        "name": "ipython",
        "version": 3
      },
      "file_extension": ".py",
      "mimetype": "text/x-python",
      "name": "python",
      "nbconvert_exporter": "python",
      "pygments_lexer": "ipython3",
      "version": "3.6.3"
    },
    "colab": {
      "provenance": [],
      "include_colab_link": true
    }
  },
  "cells": [
    {
      "cell_type": "markdown",
      "metadata": {
        "id": "view-in-github",
        "colab_type": "text"
      },
      "source": [
        "<a href=\"https://colab.research.google.com/github/plus2net/Python-basics/blob/main/SQLite_remote_db_colab_sqlite3_excel.ipynb\" target=\"_parent\"><img src=\"https://colab.research.google.com/assets/colab-badge.svg\" alt=\"Open In Colab\"/></a>"
      ]
    },
    {
      "cell_type": "markdown",
      "source": [
        "![alt text](https://www.plus2net.com/images/top2.jpg)        Read more on [SQLite Colab Excel](https://www.plus2net.com/python/sqlite-colab-excel.php)"
      ],
      "metadata": {
        "id": "92fALlH3obiE"
      }
    },
    {
      "cell_type": "code",
      "execution_count": null,
      "source": [
        "# download my_db.db the sample SQLite Database from plus2net.com\n",
        "!wget https://www.plus2net.com/python/download/my_db.db"
      ],
      "outputs": [],
      "metadata": {
        "id": "Ylg7JbjIAZME"
      }
    },
    {
      "cell_type": "code",
      "source": [
        "import sqlite3\n",
        "my_conn = sqlite3.connect('my_db.db') # connect to db"
      ],
      "metadata": {
        "id": "RS82XZ3F-l0b"
      },
      "execution_count": null,
      "outputs": []
    },
    {
      "cell_type": "code",
      "source": [
        "query=\"SELECT name FROM sqlite_master WHERE type='table' \"\n",
        "my_data=list(my_conn.execute(query)) # rows of data as list\n",
        "print(my_data) # List of tables"
      ],
      "metadata": {
        "id": "NJC57E6SUVnT",
        "colab": {
          "base_uri": "https://localhost:8080/"
        },
        "outputId": "d7410e0c-c5d6-4d75-b62d-9a42b26ef81d"
      },
      "execution_count": null,
      "outputs": [
        {
          "output_type": "stream",
          "name": "stdout",
          "text": [
            "[('category',), ('subcategory',), ('student',)]\n"
          ]
        }
      ]
    },
    {
      "cell_type": "code",
      "source": [
        "query=\"pragma table_info([student])\"\n",
        "my_data=list(my_conn.execute(query)) # rows of data as list\n",
        "print(my_data) # List of tables"
      ],
      "metadata": {
        "colab": {
          "base_uri": "https://localhost:8080/"
        },
        "id": "-JYWcNzE3RXA",
        "outputId": "1f6c8df0-17df-4f9d-8527-1176389fdbfc"
      },
      "execution_count": null,
      "outputs": [
        {
          "output_type": "stream",
          "name": "stdout",
          "text": [
            "[(0, 'id', 'INTEGER', 0, None, 1), (1, 'name', 'TEXT', 0, None, 0), (2, 'class', 'TEXT', 0, None, 0), (3, 'mark', 'INTEGER', 0, None, 0), (4, 'gender', 'TEXT', 0, None, 0)]\n"
          ]
        }
      ]
    },
    {
      "cell_type": "code",
      "source": [
        "query=\"SELECT *  FROM student LIMIT 0,5\" # sql to collect 5 records\n",
        "my_data=list(my_conn.execute(query)) # rows of data as list\n",
        "print(my_data) # display  rows"
      ],
      "metadata": {
        "id": "IUUF1dR6P62Z"
      },
      "execution_count": null,
      "outputs": []
    },
    {
      "cell_type": "code",
      "source": [
        "import pandas as pd\n",
        "query='SELECT * FROM student' # SQL to collect all records from table\n",
        "df=pd.read_sql(query,my_conn,index_col='id') # create dataframe\n",
        "print(df) # Print the dataframe with all rows"
      ],
      "metadata": {
        "id": "9KI2PqEESX_O"
      },
      "execution_count": null,
      "outputs": []
    },
    {
      "cell_type": "code",
      "source": [
        "df.to_excel('my_student.xlsx') # create Excel file"
      ],
      "metadata": {
        "id": "UopjHTjTS6Jd"
      },
      "execution_count": null,
      "outputs": []
    },
    {
      "cell_type": "markdown",
      "source": [
        "From Excel to SQLite database table"
      ],
      "metadata": {
        "id": "ayRc-lYBe3CN"
      }
    },
    {
      "cell_type": "code",
      "source": [
        "#query=\"DELETE FROM student\" # Query to delete records\n",
        "query='DROP TABLE student' # Query to delete table\n",
        "try:\n",
        "  r_set=my_conn.execute(query)\n",
        "  print(\"No of Records deleted : \",r_set.rowcount)\n",
        "  my_conn.commit()\n",
        "except sqlite3.Error as my_error:\n",
        "  print(\"error: \",my_error)"
      ],
      "metadata": {
        "id": "v0R-rx7ITgws"
      },
      "execution_count": null,
      "outputs": []
    },
    {
      "cell_type": "markdown",
      "source": [
        "Use the student.xlsx file as we created above or download the sample student.xlsx file from plus2net.com , this will be available at left side pannel after download. Use any one of the two ways."
      ],
      "metadata": {
        "id": "YASsaXpp8B1D"
      }
    },
    {
      "cell_type": "code",
      "source": [
        "# create DataFrame by reading xlsx file\n",
        "df = pd.read_excel('my_student.xlsx',index_col='id')\n",
        "## OR download the student.xlsx file from plus2net and then create the dataframe.\n",
        "#!wget https://www.plus2net.com/python/download/student.xlsx # download sample student file\n",
        "#df = pd.read_excel('my_student.xlsx',index_col='id')"
      ],
      "metadata": {
        "id": "JNbwBrNkUhCj"
      },
      "execution_count": null,
      "outputs": []
    },
    {
      "cell_type": "code",
      "source": [
        "# From DataFrame create student2 table\n",
        "df.to_sql(con=my_conn,name='student2',if_exists='append')"
      ],
      "metadata": {
        "id": "8u3RfYNmUvvL"
      },
      "execution_count": null,
      "outputs": []
    },
    {
      "cell_type": "code",
      "source": [
        "query=\"SELECT *  FROM student2 LIMIT 0,5\" # sql to get 5 records\n",
        "my_data=list(my_conn.execute(query)) # rows of data as list\n",
        "print(my_data)"
      ],
      "metadata": {
        "id": "8HdBLiH3U737"
      },
      "execution_count": null,
      "outputs": []
    },
    {
      "cell_type": "markdown",
      "source": [
        "[More on SQLite database using Colab platform](https://www.plus2net.com/python/sqlite-colab.php)\n",
        "\n",
        "\n",
        "Web site: www.plus2net.com\n",
        "\n",
        "YouTube: https://www.youtube.com/@plus2net1\n",
        "\n",
        "Facebook: https://www.facebook.com/plus2net\n",
        "\n",
        "Instagram: https://www.instagram.com/plus2net.in/\n",
        "\n",
        "LinkedIn: https://www.linkedin.com/in/plus2net/\n",
        "\n",
        "Write to us  https: //www.plus2net.com/contactus.php"
      ],
      "metadata": {
        "id": "x32Q9CyYo69X"
      }
    }
  ]
}