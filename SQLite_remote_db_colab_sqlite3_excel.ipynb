{
  "nbformat": 4,
  "nbformat_minor": 0,
  "metadata": {
    "kernelspec": {
      "display_name": "Python 3",
      "language": "python",
      "name": "python3"
    },
    "language_info": {
      "codemirror_mode": {
        "name": "ipython",
        "version": 3
      },
      "file_extension": ".py",
      "mimetype": "text/x-python",
      "name": "python",
      "nbconvert_exporter": "python",
      "pygments_lexer": "ipython3",
      "version": "3.6.3"
    },
    "colab": {
      "provenance": []
    }
  },
  "cells": [
    {
      "cell_type": "code",
      "execution_count": null,
      "source": [
        "# download my_db.db SQLite Database from plus2net.com\n",
        "!wget https://www.plus2net.com/python/download/my_db.db"
      ],
      "outputs": [],
      "metadata": {
        "id": "Ylg7JbjIAZME"
      }
    },
    {
      "cell_type": "code",
      "source": [
        "import sqlite3\n",
        "my_conn = sqlite3.connect('my_db.db') # connect to db"
      ],
      "metadata": {
        "id": "RS82XZ3F-l0b"
      },
      "execution_count": null,
      "outputs": []
    },
    {
      "cell_type": "code",
      "source": [
        "query=\"SELECT name FROM sqlite_master WHERE type='table' \"\n",
        "my_data=list(my_conn.execute(query)) # rows of data as list\n",
        "print(my_data) # List of tables"
      ],
      "metadata": {
        "id": "NJC57E6SUVnT"
      },
      "execution_count": null,
      "outputs": []
    },
    {
      "cell_type": "code",
      "source": [
        "query=\"SELECT *  FROM student LIMIT 0,5\" # sql\n",
        "my_data=list(my_conn.execute(query)) # rows of data as list\n",
        "print(my_data) # display  rows"
      ],
      "metadata": {
        "id": "IUUF1dR6P62Z"
      },
      "execution_count": null,
      "outputs": []
    },
    {
      "cell_type": "code",
      "source": [
        "import pandas as pd\n",
        "query='SELECT * FROM student' # SQL to collect all records from table\n",
        "df=pd.read_sql(query,my_conn,index_col='id') # create dataframe\n",
        "print(df) # Print the dataframe with all rows"
      ],
      "metadata": {
        "id": "9KI2PqEESX_O"
      },
      "execution_count": null,
      "outputs": []
    },
    {
      "cell_type": "code",
      "source": [
        "df.to_excel('my_student.xlsx') # create Excel file"
      ],
      "metadata": {
        "id": "UopjHTjTS6Jd"
      },
      "execution_count": null,
      "outputs": []
    },
    {
      "cell_type": "code",
      "source": [
        "#query=\"DELETE FROM student\"\n",
        "query='DROP TABLE student' # Query to delete table\n",
        "try:\n",
        "  r_set=my_conn.execute(query)\n",
        "  print(\"No of Records deleted : \",r_set.rowcount)\n",
        "  my_conn.commit()\n",
        "except sqlite3.Error as my_error:\n",
        "  print(\"error: \",my_error)"
      ],
      "metadata": {
        "id": "v0R-rx7ITgws"
      },
      "execution_count": null,
      "outputs": []
    },
    {
      "cell_type": "code",
      "source": [
        "# create DataFrame by reading xlsx file\n",
        "df = pd.read_excel('my_student.xlsx',index_col='id')"
      ],
      "metadata": {
        "id": "JNbwBrNkUhCj"
      },
      "execution_count": null,
      "outputs": []
    },
    {
      "cell_type": "code",
      "source": [
        "# From DataFrame create student2 table\n",
        "df.to_sql(con=my_conn,name='student2',if_exists='append')"
      ],
      "metadata": {
        "id": "8u3RfYNmUvvL"
      },
      "execution_count": null,
      "outputs": []
    },
    {
      "cell_type": "code",
      "source": [
        "query=\"SELECT *  FROM student2 LIMIT 0,5\" # sql\n",
        "my_data=list(my_conn.execute(query)) # rows of data as list\n",
        "print(my_data)"
      ],
      "metadata": {
        "id": "8HdBLiH3U737"
      },
      "execution_count": null,
      "outputs": []
    },
    {
      "cell_type": "code",
      "source": [],
      "metadata": {
        "id": "yL1QU5LPU7qj"
      },
      "execution_count": null,
      "outputs": []
    }
  ]
}