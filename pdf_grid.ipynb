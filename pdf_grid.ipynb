{
  "nbformat": 4,
  "nbformat_minor": 0,
  "metadata": {
    "kernelspec": {
      "display_name": "Python 3",
      "language": "python",
      "name": "python3"
    },
    "language_info": {
      "codemirror_mode": {
        "name": "ipython",
        "version": 3
      },
      "file_extension": ".py",
      "mimetype": "text/x-python",
      "name": "python",
      "nbconvert_exporter": "python",
      "pygments_lexer": "ipython3",
      "version": "3.6.3"
    },
    "colab": {
      "provenance": [],
      "include_colab_link": true
    }
  },
  "cells": [
    {
      "cell_type": "markdown",
      "metadata": {
        "id": "view-in-github",
        "colab_type": "text"
      },
      "source": [
        "<a href=\"https://colab.research.google.com/github/plus2net/Python-basics/blob/main/pdf_grid.ipynb\" target=\"_parent\"><img src=\"https://colab.research.google.com/assets/colab-badge.svg\" alt=\"Open In Colab\"/></a>"
      ]
    },
    {
      "cell_type": "markdown",
      "source": [
        "# Creating PDF Documents with Grid and 2D List Data Using ReportLab"
      ],
      "metadata": {
        "id": "HOx1onFiF5-p"
      }
    },
    {
      "cell_type": "code",
      "source": [
        "pip install reportlab # reportlab is used for creating PDF file"
      ],
      "metadata": {
        "id": "2UEhDQQfGU-m"
      },
      "execution_count": null,
      "outputs": []
    },
    {
      "cell_type": "markdown",
      "source": [
        "Import necessary modules from ReportLab."
      ],
      "metadata": {
        "id": "Soa0N4tgwLfW"
      }
    },
    {
      "cell_type": "code",
      "source": [
        "from reportlab.pdfgen import canvas\n",
        "from reportlab.lib.pagesizes import A4"
      ],
      "metadata": {
        "id": "KZig3Fr_6OH7"
      },
      "execution_count": 2,
      "outputs": []
    },
    {
      "cell_type": "markdown",
      "source": [
        "Create a PDF document using path\n"
      ],
      "metadata": {
        "id": "8Csq3Pk-6V4C"
      }
    },
    {
      "cell_type": "code",
      "source": [
        "my_path='my_pdf.pdf'  # Change this path by adding drive and directory name"
      ],
      "metadata": {
        "id": "djEq8BaN6bkA"
      },
      "execution_count": 3,
      "outputs": []
    },
    {
      "cell_type": "markdown",
      "source": [
        "creates a canvas object"
      ],
      "metadata": {
        "id": "d3vsO0WD_wio"
      }
    },
    {
      "cell_type": "code",
      "source": [
        "c = canvas.Canvas(my_path,bottomup=1,pagesize=A4)"
      ],
      "metadata": {
        "id": "9V-WahxC6nlh"
      },
      "execution_count": 4,
      "outputs": []
    },
    {
      "cell_type": "markdown",
      "source": [
        "Using the pagesize get the width and height"
      ],
      "metadata": {
        "id": "3MzME_DW66VQ"
      }
    },
    {
      "cell_type": "code",
      "source": [
        "w,h=int(A4[0]),int(A4[1]) # Width and height as Integer"
      ],
      "metadata": {
        "id": "dvivz61T62ka"
      },
      "execution_count": 5,
      "outputs": []
    },
    {
      "cell_type": "markdown",
      "source": [
        "# Part I : Drawing a simple grid without any data"
      ],
      "metadata": {
        "id": "OREr2b6UpHt0"
      }
    },
    {
      "cell_type": "code",
      "source": [
        "xlist = [20, 70, 120, 170] # Horizontal coordinates\n",
        "ylist = [h - 20, h - 70, h - 120, h - 170] # vertical\n",
        "c.grid(xlist, ylist) # adding grid\n",
        "c.save() # stores the file and close  the canvas"
      ],
      "metadata": {
        "id": "2A5hfG5BpRaD"
      },
      "execution_count": 6,
      "outputs": []
    },
    {
      "cell_type": "markdown",
      "source": [
        "# Part II : Adding List data to the Grid"
      ],
      "metadata": {
        "id": "Kw5z0ZFDucQM"
      }
    },
    {
      "cell_type": "markdown",
      "source": [
        "List of tuples as data"
      ],
      "metadata": {
        "id": "hMlm59kF6_Wj"
      }
    },
    {
      "cell_type": "code",
      "source": [
        "l1=[('id', 'name', 'class', 'mark', 'gender'),\n",
        "(1, 'John Deo', 'Four', 75, 'female'),\n",
        "(2, 'Max Ruin', 'Three', 85, 'male'),\n",
        "(3, 'Arnold', 'Three', 55, 'male')] # data to be used"
      ],
      "metadata": {
        "id": "2Sga5SIz7Hto"
      },
      "execution_count": null,
      "outputs": []
    },
    {
      "cell_type": "markdown",
      "source": [
        "From the List of data get the required number of rows and columns"
      ],
      "metadata": {
        "id": "K1XXnwhRBAYA"
      }
    },
    {
      "cell_type": "code",
      "source": [
        "rows,cols=len(l1),len(l1[0]) # rows and columns of the grid\n",
        "width_cell,height_cell=75,20 # Update to match the data"
      ],
      "metadata": {
        "id": "o7twNwzUA-43"
      },
      "execution_count": null,
      "outputs": []
    },
    {
      "cell_type": "markdown",
      "source": [
        "Get the dimensions for the grid and using this create the grid"
      ],
      "metadata": {
        "id": "4SkiChqm7L-7"
      }
    },
    {
      "cell_type": "code",
      "source": [
        "xlist=list(range(20,width_cell*(cols+1),width_cell))\n",
        "ylist=list(range(h-20,h-(height_cell*(rows+2)),-height_cell))\n",
        "c.grid(xlist, ylist) # add the grid to Canvas"
      ],
      "metadata": {
        "id": "TxH05yZA7Nia"
      },
      "execution_count": null,
      "outputs": []
    },
    {
      "cell_type": "markdown",
      "source": [
        "Create the Loop using number of rows and columns and add the data to the cell."
      ],
      "metadata": {
        "id": "6cvFJMZz7SNB"
      }
    },
    {
      "cell_type": "code",
      "source": [
        "for i in range(rows):\n",
        "    for j in range(cols):\n",
        "        c.drawString(xlist[j]+2,ylist[i]-int(height_cell/1.5),\n",
        "                     str(i) + str(j) +'-'+ str(l1[i][j]))"
      ],
      "metadata": {
        "id": "vqnHBy_t7Vm6"
      },
      "execution_count": null,
      "outputs": []
    },
    {
      "cell_type": "markdown",
      "source": [
        "Save the canvas"
      ],
      "metadata": {
        "id": "FfJle7qyAxkr"
      }
    },
    {
      "cell_type": "code",
      "source": [
        "c.save()"
      ],
      "metadata": {
        "id": "AaXms_SGArkr"
      },
      "execution_count": null,
      "outputs": []
    },
    {
      "cell_type": "markdown",
      "source": [
        "Download the pdf file to your local system"
      ],
      "metadata": {
        "id": "yOrzCEglvO50"
      }
    },
    {
      "cell_type": "code",
      "source": [
        "from google.colab import files\n",
        "files.download('my_pdf.pdf')"
      ],
      "metadata": {
        "id": "8G7H4ezbM1It"
      },
      "execution_count": null,
      "outputs": []
    },
    {
      "cell_type": "markdown",
      "source": [
        "[Download the code and tutorial on pdf using grid](https://www.plus2net.com/python/pdf-grid.php)\n",
        "\n",
        "\n",
        "\n",
        "\n",
        "Web site: www.plus2net.com\n",
        "\n",
        "YouTube: https://www.youtube.com/@plus2net1\n",
        "\n",
        "Facebook: https://www.facebook.com/plus2net\n",
        "\n",
        "Instagram: https://www.instagram.com/plus2net.in/\n",
        "\n",
        "LinkedIn: https://www.linkedin.com/in/plus2net/\n",
        "\n",
        "Write to us  https: //www.plus2net.com/contactus.php"
      ],
      "metadata": {
        "id": "x32Q9CyYo69X"
      }
    }
  ]
}