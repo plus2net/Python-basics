{
  "nbformat": 4,
  "nbformat_minor": 0,
  "metadata": {
    "kernelspec": {
      "display_name": "Python 3",
      "language": "python",
      "name": "python3"
    },
    "language_info": {
      "codemirror_mode": {
        "name": "ipython",
        "version": 3
      },
      "file_extension": ".py",
      "mimetype": "text/x-python",
      "name": "python",
      "nbconvert_exporter": "python",
      "pygments_lexer": "ipython3",
      "version": "3.6.3"
    },
    "colab": {
      "provenance": [],
      "include_colab_link": true
    }
  },
  "cells": [
    {
      "cell_type": "markdown",
      "metadata": {
        "id": "view-in-github",
        "colab_type": "text"
      },
      "source": [
        "<a href=\"https://colab.research.google.com/github/plus2net/Python-basics/blob/main/pdf_long_text_2.ipynb\" target=\"_parent\"><img src=\"https://colab.research.google.com/assets/colab-badge.svg\" alt=\"Open In Colab\"/></a>"
      ]
    },
    {
      "cell_type": "markdown",
      "source": [
        "# Handling Long Text with Automatic Page Breaks in ReportLab"
      ],
      "metadata": {
        "id": "HOx1onFiF5-p"
      }
    },
    {
      "cell_type": "code",
      "source": [
        "pip install reportlab # reportlab is used for creating PDF file"
      ],
      "metadata": {
        "id": "2UEhDQQfGU-m",
        "colab": {
          "base_uri": "https://localhost:8080/"
        },
        "outputId": "79ce23b5-d887-4655-f13c-1c49dbdd99e3"
      },
      "execution_count": 12,
      "outputs": [
        {
          "output_type": "stream",
          "name": "stdout",
          "text": [
            "Requirement already satisfied: reportlab in /usr/local/lib/python3.10/dist-packages (4.2.0)\n",
            "Requirement already satisfied: pillow>=9.0.0 in /usr/local/lib/python3.10/dist-packages (from reportlab) (9.4.0)\n",
            "Requirement already satisfied: chardet in /usr/local/lib/python3.10/dist-packages (from reportlab) (5.2.0)\n"
          ]
        }
      ]
    },
    {
      "cell_type": "markdown",
      "source": [
        "Import necessary modules from ReportLab."
      ],
      "metadata": {
        "id": "Soa0N4tgwLfW"
      }
    },
    {
      "cell_type": "code",
      "source": [
        "from reportlab.lib.pagesizes import letter\n",
        "from reportlab.pdfgen import canvas\n",
        "from reportlab.lib.styles import getSampleStyleSheet\n",
        "from reportlab.platypus import Paragraph"
      ],
      "metadata": {
        "id": "KZig3Fr_6OH7"
      },
      "execution_count": 13,
      "outputs": []
    },
    {
      "cell_type": "markdown",
      "source": [
        "Create a PDF document using path\n"
      ],
      "metadata": {
        "id": "8Csq3Pk-6V4C"
      }
    },
    {
      "cell_type": "code",
      "source": [
        "my_path='my_pdf.pdf'  # Change this path by adding drive and directory name"
      ],
      "metadata": {
        "id": "djEq8BaN6bkA"
      },
      "execution_count": 14,
      "outputs": []
    },
    {
      "cell_type": "markdown",
      "source": [
        "creates a canvas object"
      ],
      "metadata": {
        "id": "d3vsO0WD_wio"
      }
    },
    {
      "cell_type": "code",
      "source": [
        "c = canvas.Canvas(my_path, pagesize=letter)"
      ],
      "metadata": {
        "id": "9V-WahxC6nlh"
      },
      "execution_count": 15,
      "outputs": []
    },
    {
      "cell_type": "markdown",
      "source": [
        "Get a sample style sheet"
      ],
      "metadata": {
        "id": "3MzME_DW66VQ"
      }
    },
    {
      "cell_type": "code",
      "source": [
        "styles = getSampleStyleSheet()\n",
        "style = styles[\"Normal\"]"
      ],
      "metadata": {
        "id": "dvivz61T62ka"
      },
      "execution_count": 16,
      "outputs": []
    },
    {
      "cell_type": "markdown",
      "source": [
        "Long text for the paragraphs"
      ],
      "metadata": {
        "id": "hMlm59kF6_Wj"
      }
    },
    {
      "cell_type": "code",
      "source": [
        "long_text = \"\"\"\n",
        "plus2net.com is an invaluable resource for programmers and students looking to enhance their skills\n",
        "in various web programming languages.\n",
        "\n",
        "The site offers a comprehensive Python section that covers a wide range of topics,\n",
        "from basic syntax and data types to advanced concepts like decorators, generators, and context managers.\n",
        "\n",
        "Detailed tutorials, practical examples, and clear explanations make it easy for learners at all levels\n",
        "to understand and apply Python programming in real-world scenarios.\n",
        "\n",
        "Whether you are just starting out or looking to refine your skills, plus2net.com's Python section\n",
        "is designed to provide the knowledge and tools you need to succeed.\n",
        "...\n",
        "\"\"\" * 5  # Repeated to ensure long text"
      ],
      "metadata": {
        "id": "2Sga5SIz7Hto"
      },
      "execution_count": 17,
      "outputs": []
    },
    {
      "cell_type": "markdown",
      "source": [
        "Define the page dimensions and margins"
      ],
      "metadata": {
        "id": "4SkiChqm7L-7"
      }
    },
    {
      "cell_type": "code",
      "source": [
        "page_width, page_height = letter\n",
        "left_margin = 50\n",
        "right_margin = 50\n",
        "top_margin = 50\n",
        "bottom_margin = 50\n",
        "usable_width = page_width - left_margin - right_margin\n",
        "usable_height = page_height - top_margin - bottom_margin"
      ],
      "metadata": {
        "id": "TxH05yZA7Nia"
      },
      "execution_count": 18,
      "outputs": []
    },
    {
      "cell_type": "markdown",
      "source": [
        "Initial position for the first paragraph"
      ],
      "metadata": {
        "id": "6cvFJMZz7SNB"
      }
    },
    {
      "cell_type": "code",
      "source": [
        "x = left_margin\n",
        "y = page_height - top_margin"
      ],
      "metadata": {
        "id": "vqnHBy_t7Vm6"
      },
      "execution_count": 19,
      "outputs": []
    },
    {
      "cell_type": "markdown",
      "source": [
        "Split the long text into paragraphs"
      ],
      "metadata": {
        "id": "9b3usi_m7bqC"
      }
    },
    {
      "cell_type": "code",
      "source": [
        "paragraphs = long_text.split(\"\\n\")"
      ],
      "metadata": {
        "id": "pJHtYaqr7fNC"
      },
      "execution_count": 20,
      "outputs": []
    },
    {
      "cell_type": "code",
      "source": [
        "for paragraph_text in paragraphs:\n",
        "    paragraph = Paragraph(paragraph_text, style)\n",
        "\n",
        "    # Wrap the paragraph to fit within the usable width\n",
        "    width, height = paragraph.wrap(usable_width, usable_height)\n",
        "\n",
        "    # Check if the paragraph fits on the current page\n",
        "    if y - height < bottom_margin:\n",
        "        # If not, start a new page\n",
        "        c.showPage()\n",
        "        y = page_height - top_margin  # Reset y position\n",
        "\n",
        "    # Draw the paragraph on the canvas\n",
        "    paragraph.drawOn(c, x, y - height)\n",
        "    # Update y position for the next paragraph (12 is the space between paragraphs)\n",
        "    y -= height + 12\n"
      ],
      "metadata": {
        "id": "WCW8whbuAmkY"
      },
      "execution_count": 21,
      "outputs": []
    },
    {
      "cell_type": "markdown",
      "source": [
        "Save the canvas"
      ],
      "metadata": {
        "id": "FfJle7qyAxkr"
      }
    },
    {
      "cell_type": "code",
      "source": [
        "c.save()"
      ],
      "metadata": {
        "id": "AaXms_SGArkr"
      },
      "execution_count": 22,
      "outputs": []
    },
    {
      "cell_type": "markdown",
      "source": [
        "Download the pdf file to your local system"
      ],
      "metadata": {
        "id": "yOrzCEglvO50"
      }
    },
    {
      "cell_type": "code",
      "source": [
        "from google.colab import files\n",
        "files.download('my_pdf.pdf')"
      ],
      "metadata": {
        "colab": {
          "base_uri": "https://localhost:8080/",
          "height": 17
        },
        "id": "8G7H4ezbM1It",
        "outputId": "8a919570-e2a4-42f5-b3df-9537a54bc2d0"
      },
      "execution_count": 23,
      "outputs": [
        {
          "output_type": "display_data",
          "data": {
            "text/plain": [
              "<IPython.core.display.Javascript object>"
            ],
            "application/javascript": [
              "\n",
              "    async function download(id, filename, size) {\n",
              "      if (!google.colab.kernel.accessAllowed) {\n",
              "        return;\n",
              "      }\n",
              "      const div = document.createElement('div');\n",
              "      const label = document.createElement('label');\n",
              "      label.textContent = `Downloading \"${filename}\": `;\n",
              "      div.appendChild(label);\n",
              "      const progress = document.createElement('progress');\n",
              "      progress.max = size;\n",
              "      div.appendChild(progress);\n",
              "      document.body.appendChild(div);\n",
              "\n",
              "      const buffers = [];\n",
              "      let downloaded = 0;\n",
              "\n",
              "      const channel = await google.colab.kernel.comms.open(id);\n",
              "      // Send a message to notify the kernel that we're ready.\n",
              "      channel.send({})\n",
              "\n",
              "      for await (const message of channel.messages) {\n",
              "        // Send a message to notify the kernel that we're ready.\n",
              "        channel.send({})\n",
              "        if (message.buffers) {\n",
              "          for (const buffer of message.buffers) {\n",
              "            buffers.push(buffer);\n",
              "            downloaded += buffer.byteLength;\n",
              "            progress.value = downloaded;\n",
              "          }\n",
              "        }\n",
              "      }\n",
              "      const blob = new Blob(buffers, {type: 'application/binary'});\n",
              "      const a = document.createElement('a');\n",
              "      a.href = window.URL.createObjectURL(blob);\n",
              "      a.download = filename;\n",
              "      div.appendChild(a);\n",
              "      a.click();\n",
              "      div.remove();\n",
              "    }\n",
              "  "
            ]
          },
          "metadata": {}
        },
        {
          "output_type": "display_data",
          "data": {
            "text/plain": [
              "<IPython.core.display.Javascript object>"
            ],
            "application/javascript": [
              "download(\"download_e947f68a-161c-48cc-81cd-7baf85ca5669\", \"my_pdf.pdf\", 3304)"
            ]
          },
          "metadata": {}
        }
      ]
    },
    {
      "cell_type": "markdown",
      "source": [
        "[Download the code and tutorial on Paragraph](https://www.plus2net.com/python/pdf-paragraph.php)\n",
        "\n",
        "\n",
        "\n",
        "\n",
        "Web site: www.plus2net.com\n",
        "\n",
        "YouTube: https://www.youtube.com/@plus2net1\n",
        "\n",
        "Facebook: https://www.facebook.com/plus2net\n",
        "\n",
        "Instagram: https://www.instagram.com/plus2net.in/\n",
        "\n",
        "LinkedIn: https://www.linkedin.com/in/plus2net/\n",
        "\n",
        "Write to us  https: //www.plus2net.com/contactus.php"
      ],
      "metadata": {
        "id": "x32Q9CyYo69X"
      }
    }
  ]
}