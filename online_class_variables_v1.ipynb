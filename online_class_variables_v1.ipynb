{
  "nbformat": 4,
  "nbformat_minor": 0,
  "metadata": {
    "colab": {
      "provenance": [],
      "authorship_tag": "ABX9TyPpb0vJR/XFtIHCutQRE5+1",
      "include_colab_link": true
    },
    "kernelspec": {
      "name": "python3",
      "display_name": "Python 3"
    }
  },
  "cells": [
    {
      "cell_type": "markdown",
      "metadata": {
        "id": "view-in-github",
        "colab_type": "text"
      },
      "source": [
        "<a href=\"https://colab.research.google.com/github/plus2net/Python-basics/blob/main/online_class_variables_v1.ipynb\" target=\"_parent\"><img src=\"https://colab.research.google.com/assets/colab-badge.svg\" alt=\"Open In Colab\"/></a>"
      ]
    },
    {
      "cell_type": "markdown",
      "source": [
        "![alt text](https://www.plus2net.com/images/top2.jpg)        Read more on [Python  Variable](https://www.plus2net.com/python/variables.php)"
      ],
      "metadata": {
        "id": "audw05pSF0iu"
      }
    },
    {
      "cell_type": "markdown",
      "source": [
        "# Rules to create variables\n",
        "* Name starts with lower or upper\n",
        "* case chars or underscore _\n",
        "* Can’t start with number\n",
        "* Can contain number , underscore ,char\n",
        "* No length restriction\n",
        "* Can reassign to different types.\n",
        "* Case sensitive\n",
        "* Reserved words can’t be used ( What is reserved words ?)\n",
        "* Must assign before using\n",
        "Operations within similar variables\n",
        "* Scope of Variables"
      ],
      "metadata": {
        "id": "__zkcEmrF3gR"
      }
    },
    {
      "cell_type": "markdown",
      "metadata": {
        "id": "WMByX06CKKKE"
      },
      "source": [
        "By usnig type() we can print the type of the variable or object"
      ]
    },
    {
      "cell_type": "markdown",
      "source": [
        "What is the version of Python here ?"
      ],
      "metadata": {
        "id": "rH6Bo4d0fL_5"
      }
    },
    {
      "cell_type": "code",
      "source": [
        "!python --version"
      ],
      "metadata": {
        "id": "1JZ58hJ2a2Ly"
      },
      "execution_count": null,
      "outputs": []
    },
    {
      "cell_type": "code",
      "source": [
        "print('Hello World')"
      ],
      "metadata": {
        "id": "QpJsYh6wC2Fn"
      },
      "execution_count": null,
      "outputs": []
    },
    {
      "cell_type": "markdown",
      "source": [
        "Use two variables to store integers and then print the sum of them"
      ],
      "metadata": {
        "id": "PDvLFxQfe_PL"
      }
    },
    {
      "cell_type": "code",
      "source": [
        "v1=4\n",
        "v2=5\n",
        "print(v1+v2)"
      ],
      "metadata": {
        "colab": {
          "base_uri": "https://localhost:8080/"
        },
        "id": "tr6HQ2gNla3P",
        "outputId": "67bc795e-b036-49ef-fd92-07519b6524f3"
      },
      "execution_count": null,
      "outputs": [
        {
          "output_type": "stream",
          "name": "stdout",
          "text": [
            "9\n"
          ]
        }
      ]
    },
    {
      "cell_type": "markdown",
      "source": [
        "Create one variable id and assign one string to it , then print the type()"
      ],
      "metadata": {
        "id": "ZyHhhXeNfQ1F"
      }
    },
    {
      "cell_type": "code",
      "metadata": {
        "id": "xRK08DrtHdfE"
      },
      "source": [
        "id=\"45\"\n",
        "print(type(id)) # str"
      ],
      "execution_count": null,
      "outputs": []
    },
    {
      "cell_type": "markdown",
      "source": [
        "Now assign one integer to this and print the type()"
      ],
      "metadata": {
        "id": "yw86ySSbf1fj"
      }
    },
    {
      "cell_type": "code",
      "metadata": {
        "id": "GJoQVsEzLKQ9"
      },
      "source": [
        "id=45\n",
        "print(type(id)) # what is the output ?"
      ],
      "execution_count": null,
      "outputs": []
    },
    {
      "cell_type": "markdown",
      "source": [
        "assign one integer variable, one string, one more interger varialble staring with _ and one more string variable. Print all in one line"
      ],
      "metadata": {
        "id": "FMMhRl0pf-ZO"
      }
    },
    {
      "cell_type": "code",
      "source": [
        "a=45\n",
        "my_name=\"Raju\"\n",
        "_mark=65\n",
        "Address=\"World\"\n",
        "print ( Address,my_name,_mark,a )"
      ],
      "metadata": {
        "id": "uWLIociNensT",
        "colab": {
          "base_uri": "https://localhost:8080/"
        },
        "outputId": "7c2cd6d3-b503-4d50-b144-1b79db6d8372"
      },
      "execution_count": 1,
      "outputs": [
        {
          "output_type": "stream",
          "name": "stdout",
          "text": [
            "World Raju 65 45\n"
          ]
        }
      ]
    },
    {
      "cell_type": "markdown",
      "metadata": {
        "id": "PqNx6LxZKBjp"
      },
      "source": [
        "Take two numbers as inputs and print the sum of them ( directly )."
      ]
    },
    {
      "cell_type": "code",
      "metadata": {
        "id": "JfpcEXnLDxUm"
      },
      "source": [
        "# reading user inputs\n",
        "# print sum of two numbers\n",
        "a=input(\"Enter first Number\")\n",
        "b=input(\"Enter Second number\")\n",
        "print(\"Sum = \",a+b) # 35 ( why it is 35 for 3 & 5 )"
      ],
      "execution_count": null,
      "outputs": []
    },
    {
      "cell_type": "markdown",
      "source": [
        " Take inputs and it should print sum of them .\n",
        "  By default all inputs are ---- ?"
      ],
      "metadata": {
        "id": "0jwBuO1YgkBC"
      }
    },
    {
      "cell_type": "code",
      "metadata": {
        "id": "2JLQP0Y4DHHE"
      },
      "source": [
        "# reading user inputs\n",
        "# print sum of two numbers\n",
        "a=int(input(\"Enter first Number\"))\n",
        "b=int(input(\"Enter Second number\"))\n",
        "print(\"Sum = \",a+b)"
      ],
      "execution_count": null,
      "outputs": []
    },
    {
      "cell_type": "markdown",
      "source": [
        "Take two variables , Assign one integer and one number string to them and then print the sum of two."
      ],
      "metadata": {
        "id": "0IL-nCYPgxUb"
      }
    },
    {
      "cell_type": "code",
      "source": [
        "a=5\n",
        "b='6'\n",
        "print('Sum :',a+int(b)) # 11\n",
        "print('Sum:',str(a)+b) # 56"
      ],
      "metadata": {
        "id": "z0mEKCay6wEM"
      },
      "execution_count": null,
      "outputs": []
    },
    {
      "cell_type": "markdown",
      "source": [
        "Variables are case sensitive, take one varible and assign one string, then print the variable with one char in upper case."
      ],
      "metadata": {
        "id": "j9g2yhNxhAvT"
      }
    },
    {
      "cell_type": "code",
      "source": [
        "my_mark=45\n",
        "print(My_mark) # my_mark is not same as My_mark"
      ],
      "metadata": {
        "id": "VVpM2TYj6eF7"
      },
      "execution_count": null,
      "outputs": []
    },
    {
      "cell_type": "markdown",
      "source": [
        "Give the name of the variable as def , why there is an error ?"
      ],
      "metadata": {
        "id": "UnrVSKpLhOqB"
      }
    },
    {
      "cell_type": "code",
      "source": [
        "def = 15 # Why error\n",
        "print(def)"
      ],
      "metadata": {
        "id": "_OSnkdBH6Twv"
      },
      "execution_count": null,
      "outputs": []
    },
    {
      "cell_type": "markdown",
      "source": [
        "can use underscore as starting char of variable name. Add two variables"
      ],
      "metadata": {
        "id": "-0tdBZXTjvSn"
      }
    },
    {
      "cell_type": "code",
      "metadata": {
        "id": "2-pU2qhVODVI"
      },
      "source": [
        "_a=5\n",
        "_b=6\n",
        "print(_a+_b) # 11"
      ],
      "execution_count": null,
      "outputs": []
    },
    {
      "cell_type": "markdown",
      "source": [
        "Swap the values of variables x and y without using a temporary variable."
      ],
      "metadata": {
        "id": "YIqvDv8v3Wtd"
      }
    },
    {
      "cell_type": "code",
      "source": [
        "x=5\n",
        "y=10\n",
        "x,y=y,x\n",
        "print(x,y) # 10  5"
      ],
      "metadata": {
        "id": "8zjrX9Bw2yAQ"
      },
      "execution_count": null,
      "outputs": []
    },
    {
      "cell_type": "markdown",
      "source": [
        "Can we start a variable with number, check with an example."
      ],
      "metadata": {
        "id": "xZpYsuh8hddF"
      }
    },
    {
      "cell_type": "code",
      "metadata": {
        "id": "Y09KSGoLOMac"
      },
      "source": [
        "4a=45 # variable can't start with number"
      ],
      "execution_count": null,
      "outputs": []
    },
    {
      "cell_type": "markdown",
      "source": [
        "assigning multiple variables same value same time. Print one value."
      ],
      "metadata": {
        "id": "Qd2rZlOohmPt"
      }
    },
    {
      "cell_type": "code",
      "metadata": {
        "id": "95DBz5RWgZ_I"
      },
      "source": [
        "# assigning multiple variables same value same time\n",
        "a=b=c=d=45\n",
        "print(c) #45"
      ],
      "execution_count": null,
      "outputs": []
    },
    {
      "cell_type": "markdown",
      "source": [
        "Assign multiple variables different values same time. Print sum of two."
      ],
      "metadata": {
        "id": "ivxosQ9X3mIK"
      }
    },
    {
      "cell_type": "code",
      "metadata": {
        "id": "TNBloTMpgjoV"
      },
      "source": [
        "a,b,c=3,5,8\n",
        "print(a+c) #11"
      ],
      "execution_count": null,
      "outputs": []
    },
    {
      "cell_type": "markdown",
      "source": [
        "print without line break"
      ],
      "metadata": {
        "id": "0eiqSHQKgDvA"
      }
    },
    {
      "cell_type": "code",
      "source": [
        "print('welcome')\n",
        "print(' to ')\n",
        "print('Python')"
      ],
      "metadata": {
        "id": "LcdCAjKsfvDh",
        "colab": {
          "base_uri": "https://localhost:8080/"
        },
        "outputId": "4d6c1c1d-9540-4cb6-c63c-5d5dad90052d"
      },
      "execution_count": null,
      "outputs": [
        {
          "output_type": "stream",
          "name": "stdout",
          "text": [
            "welcome\n",
            " to \n",
            "Python\n"
          ]
        }
      ]
    },
    {
      "cell_type": "markdown",
      "source": [
        "Add end='' as option in print command"
      ],
      "metadata": {
        "id": "c4yLdx59gLs1"
      }
    },
    {
      "cell_type": "code",
      "source": [
        "print('welcome',end='')\n",
        "print(' to ',end='')\n",
        "print('Python',end='')"
      ],
      "metadata": {
        "id": "GQQ1cgGtgUa4"
      },
      "execution_count": null,
      "outputs": []
    },
    {
      "cell_type": "code",
      "source": [
        "print(\"welcome\",'to','Python',sep='-') # using separator"
      ],
      "metadata": {
        "id": "46CArceUk0d1"
      },
      "execution_count": null,
      "outputs": []
    },
    {
      "cell_type": "code",
      "source": [
        "a=None\n",
        "b=5\n",
        "print(a+b) # Error"
      ],
      "metadata": {
        "id": "pA0XnplhFVHw"
      },
      "execution_count": null,
      "outputs": []
    },
    {
      "cell_type": "markdown",
      "source": [
        "Delete a variable and then print"
      ],
      "metadata": {
        "id": "VYiWTMojBJ-G"
      }
    },
    {
      "cell_type": "code",
      "source": [
        "a=5\n",
        "del a\n",
        "print(a) # error"
      ],
      "metadata": {
        "id": "YQONRQsrFXFO"
      },
      "execution_count": null,
      "outputs": []
    },
    {
      "cell_type": "markdown",
      "source": [
        "**placeholder {}**"
      ],
      "metadata": {
        "id": "RtJ7s_T6rBko"
      }
    },
    {
      "cell_type": "code",
      "source": [
        "print(\"Welcome {} to {}\".format('Raju','Python'))"
      ],
      "metadata": {
        "id": "jV0Fh47jrFv1"
      },
      "execution_count": null,
      "outputs": []
    },
    {
      "cell_type": "code",
      "source": [
        "print(\"Welcome Raju {2}  {1} of {0} \".format('Python','basics','to'))"
      ],
      "metadata": {
        "id": "0WcR4DwtreHI"
      },
      "execution_count": null,
      "outputs": []
    },
    {
      "cell_type": "code",
      "source": [
        "avg=356.23456\n",
        "print(\"Hi Average ={:.2f})\".format(avg))"
      ],
      "metadata": {
        "colab": {
          "base_uri": "https://localhost:8080/"
        },
        "id": "WRNCwgUatJM7",
        "outputId": "cb342afe-e122-452b-c754-6fb51fe30f5d"
      },
      "execution_count": null,
      "outputs": [
        {
          "output_type": "stream",
          "name": "stdout",
          "text": [
            "Hi Average =356.23)\n"
          ]
        }
      ]
    },
    {
      "cell_type": "code",
      "metadata": {
        "id": "AcZNaWFcVrFJ"
      },
      "source": [
        "# id() gives memory location of the variable.\n",
        "a=6\n",
        "id(a)"
      ],
      "execution_count": null,
      "outputs": []
    },
    {
      "cell_type": "code",
      "metadata": {
        "id": "WG6Lvf4MV6qM"
      },
      "source": [
        "a=6\n",
        "b=a\n",
        "print(id(a),id(b)) # same id"
      ],
      "execution_count": null,
      "outputs": []
    },
    {
      "cell_type": "code",
      "metadata": {
        "id": "U68H1aOVWGZs",
        "colab": {
          "base_uri": "https://localhost:8080/"
        },
        "outputId": "b3349aa4-8c09-4a8e-b078-954907ac718a"
      },
      "source": [
        "a=6\n",
        "b=7\n",
        "print(id(a),id(b))\n",
        "print(type(a))"
      ],
      "execution_count": null,
      "outputs": [
        {
          "output_type": "stream",
          "text": [
            "10914656 10914688\n",
            "<class 'int'>\n"
          ],
          "name": "stdout"
        }
      ]
    },
    {
      "cell_type": "code",
      "metadata": {
        "id": "hshGEWNSXUw4",
        "colab": {
          "base_uri": "https://localhost:8080/"
        },
        "outputId": "5768c07a-2e53-4d15-c619-794b9256cc11"
      },
      "source": [
        "a=6\n",
        "b=a\n",
        "b=7\n",
        "a=7\n",
        "print(id(a),id(b))"
      ],
      "execution_count": null,
      "outputs": [
        {
          "output_type": "stream",
          "name": "stdout",
          "text": [
            "94076669311680 94076669311680\n"
          ]
        }
      ]
    },
    {
      "cell_type": "code",
      "metadata": {
        "id": "oYLR3azjj2D0",
        "colab": {
          "base_uri": "https://localhost:8080/"
        },
        "outputId": "df512b92-62b2-44a8-ba0a-6d7470485c5e"
      },
      "source": [
        "a=6\n",
        "b='Hi'\n",
        "print(id(a),id(b)) # how the address changes"
      ],
      "execution_count": null,
      "outputs": [
        {
          "output_type": "stream",
          "name": "stdout",
          "text": [
            "94076669311648 139898813119984\n"
          ]
        }
      ]
    },
    {
      "cell_type": "code",
      "metadata": {
        "id": "5wyzTkymojbp",
        "outputId": "ffe087c7-7ff2-4772-e2d3-f46a564300b1",
        "colab": {
          "base_uri": "https://localhost:8080/"
        }
      },
      "source": [
        "a=-6\n",
        "b=-6\n",
        "print(\"Using is :\",a is b)\n",
        "print(\"using == :\",a==b)"
      ],
      "execution_count": null,
      "outputs": [
        {
          "output_type": "stream",
          "name": "stdout",
          "text": [
            "Using is : False\n",
            "using == : True\n"
          ]
        }
      ]
    },
    {
      "cell_type": "code",
      "metadata": {
        "id": "AYE4H17NuyrJ",
        "colab": {
          "base_uri": "https://localhost:8080/"
        },
        "outputId": "f0f51dfd-c0b6-42f1-8df3-54e24554103c"
      },
      "source": [
        "a=30\n",
        "b=30\n",
        "print(a is b ) #\n",
        "a=300\n",
        "b=300\n",
        "print(a is b ) #"
      ],
      "execution_count": null,
      "outputs": [
        {
          "output_type": "stream",
          "name": "stdout",
          "text": [
            "True\n",
            "False\n"
          ]
        }
      ]
    },
    {
      "cell_type": "code",
      "metadata": {
        "id": "Bs5-CtpYu8zY",
        "colab": {
          "base_uri": "https://localhost:8080/"
        },
        "outputId": "d09a0152-0ac1-4fd7-b7f4-a1dc4cb76b70"
      },
      "source": [
        "a=300\n",
        "b=300\n",
        "print(a is b ) #"
      ],
      "execution_count": null,
      "outputs": [
        {
          "output_type": "stream",
          "name": "stdout",
          "text": [
            "False\n"
          ]
        }
      ]
    },
    {
      "cell_type": "markdown",
      "source": [
        "Try to answer\n",
        "\n",
        "1.   How to know type of variable\n",
        "2. How to remove line break between two print commands\n",
        "3. What are the rules for declaring variables?\n",
        "4. Can I use uppercase chars as first char of a varaible ?\n",
        "5. Can I use underscore as first char of a variable ?\n",
        "6. Can I use number as first char of a variable ?\n",
        "7. How to print multiple variables using single print command\n",
        "8. Add one separator between the variables in above command\n",
        "9. Why can't we use *def* as a variable name?\n",
        "10. How to know the addres of a vriable ?"
      ],
      "metadata": {
        "id": "1lxWaikM5uJB"
      }
    },
    {
      "cell_type": "markdown",
      "source": [
        "[www.plus2net.com](https://www.plus2net.com)      [YouTube](https://https://www.youtube.com/c/plus2net1) [Contact Us](https://www.plus2net.com/contactus.php)"
      ],
      "metadata": {
        "id": "w2X0R7xey8Nx"
      }
    }
  ]
}