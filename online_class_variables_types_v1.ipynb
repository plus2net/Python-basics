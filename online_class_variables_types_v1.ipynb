{
  "nbformat": 4,
  "nbformat_minor": 0,
  "metadata": {
    "colab": {
      "name": "online-class-variables_types_v1.ipynb",
      "provenance": [],
      "collapsed_sections": [],
      "authorship_tag": "ABX9TyP1Q7twsYm2broBObXxk0db",
      "include_colab_link": true
    },
    "kernelspec": {
      "name": "python3",
      "display_name": "Python 3"
    }
  },
  "cells": [
    {
      "cell_type": "markdown",
      "metadata": {
        "id": "view-in-github",
        "colab_type": "text"
      },
      "source": [
        "<a href=\"https://colab.research.google.com/github/plus2net/Python-basics/blob/main/online_class_variables_types_v1.ipynb\" target=\"_parent\"><img src=\"https://colab.research.google.com/assets/colab-badge.svg\" alt=\"Open In Colab\"/></a>"
      ]
    },
    {
      "cell_type": "markdown",
      "source": [
        "![alt text](https://www.plus2net.com/images/top2.jpg)        Read more on [Python  Variable type](https://www.plus2net.com/python/type.php)"
      ],
      "metadata": {
        "id": "audw05pSF0iu"
      }
    },
    {
      "cell_type": "markdown",
      "source": [
        "\n",
        "\n",
        "*   None\n",
        "*   Numeric ( Integer , float, complex ) \n",
        "*   Sequence (list, tuple, set, range)\n",
        "* Bool\n",
        "* String ( or str )\n",
        "* Dictionary "
      ],
      "metadata": {
        "id": "__zkcEmrF3gR"
      }
    },
    {
      "cell_type": "markdown",
      "metadata": {
        "id": "WMByX06CKKKE"
      },
      "source": [
        "By usnig type() we can print the type of the variable or object"
      ]
    },
    {
      "cell_type": "code",
      "source": [
        "v1=4\n",
        "print(v1)"
      ],
      "metadata": {
        "colab": {
          "base_uri": "https://localhost:8080/"
        },
        "id": "tr6HQ2gNla3P",
        "outputId": "f792bc47-c7b2-4904-c3ee-74c1394b40e4"
      },
      "execution_count": null,
      "outputs": [
        {
          "output_type": "stream",
          "name": "stdout",
          "text": [
            "4\n"
          ]
        }
      ]
    },
    {
      "cell_type": "code",
      "metadata": {
        "id": "xRK08DrtHdfE"
      },
      "source": [
        "print(type(5))          #<class 'int'>\n",
        "print(type(3.4))        #<class 'float'>\n",
        "print(type(5+9j))       #<class 'complex'>"
      ],
      "execution_count": null,
      "outputs": []
    },
    {
      "cell_type": "markdown",
      "source": [
        "list,type, set , dict  "
      ],
      "metadata": {
        "id": "b3v2E3Pm9qES"
      }
    },
    {
      "cell_type": "code",
      "metadata": {
        "id": "GJoQVsEzLKQ9"
      },
      "source": [
        "print(type(['One','Tow','Three']))          # <class 'list'>\n",
        "print(type(('One','Tow','Three')))          # <class 'tuple'>\n",
        "print(type({'One','Tow','Three'}))          # <class 'set'>\n",
        "print(type({1:'Alex',2:'Ronald',3:'John'})) # <class 'dict'> "
      ],
      "execution_count": null,
      "outputs": []
    },
    {
      "cell_type": "markdown",
      "metadata": {
        "id": "PqNx6LxZKBjp"
      },
      "source": [
        "None type data "
      ]
    },
    {
      "cell_type": "code",
      "metadata": {
        "id": "JfpcEXnLDxUm",
        "colab": {
          "base_uri": "https://localhost:8080/"
        },
        "outputId": "b2818c4c-aa13-4b61-bfcb-2ee2e272b68f"
      },
      "source": [
        "a=None\n",
        "print(type(a))"
      ],
      "execution_count": null,
      "outputs": [
        {
          "output_type": "stream",
          "name": "stdout",
          "text": [
            "<class 'NoneType'>\n"
          ]
        }
      ]
    },
    {
      "cell_type": "code",
      "metadata": {
        "id": "2JLQP0Y4DHHE"
      },
      "source": [
        "x=range(5)      # 5 is stop value\n",
        "print(type(x))  # <class 'range'>"
      ],
      "execution_count": null,
      "outputs": []
    },
    {
      "cell_type": "code",
      "source": [
        "a=True\n",
        "print(type(a)) # <class 'bool'>"
      ],
      "metadata": {
        "id": "yw-OIPSfEZ96"
      },
      "execution_count": null,
      "outputs": []
    },
    {
      "cell_type": "code",
      "source": [
        "print(type(\"Welcome\"))  #<class 'str'>"
      ],
      "metadata": {
        "id": "YJTv3zYyEt9V"
      },
      "execution_count": null,
      "outputs": []
    },
    {
      "cell_type": "markdown",
      "source": [
        "You can create your own data type. "
      ],
      "metadata": {
        "id": "Gqdhaeu6-qBf"
      }
    },
    {
      "cell_type": "code",
      "source": [
        "class Animal():\n",
        "    #instance attributes\n",
        "    def __init__(self1,name1,age):\n",
        "        self1.name= name1\n",
        "        self1.age=age\n",
        "\n",
        "#instantiate the Animal  class\n",
        "tiger=Animal(\"Ronald\",5)  # tiger is an object of Animal class\n",
        "\n",
        "print(type(tiger)) # <class '__main__.Animal'>"
      ],
      "metadata": {
        "id": "5A14UVjuEzSy"
      },
      "execution_count": null,
      "outputs": []
    },
    {
      "cell_type": "markdown",
      "source": [
        "Converting one data type to other "
      ],
      "metadata": {
        "id": "ghmM-GJJ-2A9"
      }
    },
    {
      "cell_type": "code",
      "metadata": {
        "id": "2-pU2qhVODVI"
      },
      "source": [
        "my_int=5 # integer data type\n",
        "print(type(my_int)) # <class 'int'>\n",
        "my_int=str(5) # converted to string \n",
        "print(type(my_int)) # <class 'str'>"
      ],
      "execution_count": null,
      "outputs": []
    },
    {
      "cell_type": "code",
      "source": [
        "my_int=5\n",
        "print(type(my_int)) # <class 'int'>\n",
        "my_int=float(5)\n",
        "print(type(my_int)) # <class 'float'>"
      ],
      "metadata": {
        "id": "gwj3-2u0_0d_"
      },
      "execution_count": null,
      "outputs": []
    },
    {
      "cell_type": "code",
      "source": [
        "my_data=5.0\n",
        "print(type(my_data)) # <class 'float'>\n",
        "my_data=int(my_data)\n",
        "print(my_data)       # 5\n",
        "print(type(my_data)) # <class 'int'>"
      ],
      "metadata": {
        "id": "vDFpI8qA_8_q"
      },
      "execution_count": null,
      "outputs": []
    },
    {
      "cell_type": "code",
      "source": [
        "my_int1=5\n",
        "my_int2=3\n",
        "my_int=complex(my_int1,my_int2)\n",
        "print(type(my_int)) # <class 'complex'>"
      ],
      "metadata": {
        "id": "y9A2CKZJB8x-"
      },
      "execution_count": null,
      "outputs": []
    },
    {
      "cell_type": "markdown",
      "source": [
        "Float type to Integer by using int()"
      ],
      "metadata": {
        "id": "9uMOLt-7CH9Y"
      }
    },
    {
      "cell_type": "code",
      "source": [
        "my_float=5.4\n",
        "my_int=int(my_float)\n",
        "print(type(my_int)) # <class 'int'>"
      ],
      "metadata": {
        "id": "C8UmetIZCAa3"
      },
      "execution_count": null,
      "outputs": []
    },
    {
      "cell_type": "markdown",
      "source": [
        "Can you convert all data types ? "
      ],
      "metadata": {
        "id": "mbYUUq2-CMJ9"
      }
    },
    {
      "cell_type": "code",
      "source": [
        "my_int='56'\n",
        "print(type(my_int)) # <class 'str'>\n",
        "my_int=int(my_int)\n",
        "print(type(my_int)) # <class 'int'>"
      ],
      "metadata": {
        "id": "_bnpxF7fI8ql"
      },
      "execution_count": null,
      "outputs": []
    },
    {
      "cell_type": "markdown",
      "source": [
        "Why there is an error below ? "
      ],
      "metadata": {
        "id": "kPHrI2epJnt0"
      }
    },
    {
      "cell_type": "code",
      "source": [
        "my_int='abc'\n",
        "print(type(my_int)) # <class 'str'>\n",
        "my_int=int(my_int) # ValueError: invalid literal for int() with base 10: 'abc'"
      ],
      "metadata": {
        "id": "HUt0sZWHJZB0"
      },
      "execution_count": null,
      "outputs": []
    },
    {
      "cell_type": "markdown",
      "source": [
        "Try to answer \n",
        "\n",
        "1.   How to know type of variable ?\n",
        "2. How to convert integer data type to float ?\n",
        "3. Can we add two strings?\n",
        "4. Can I add integer to String ?\n",
        "5. Can we convert all data to different data types ?\n"
      ],
      "metadata": {
        "id": "1lxWaikM5uJB"
      }
    }
  ]
}