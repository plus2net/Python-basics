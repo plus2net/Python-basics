{
  "nbformat": 4,
  "nbformat_minor": 0,
  "metadata": {
    "colab": {
      "provenance": [],
      "authorship_tag": "ABX9TyPWPZ2ex+/GZmuqxJiYyjNo",
      "include_colab_link": true
    },
    "kernelspec": {
      "name": "python3",
      "display_name": "Python 3"
    },
    "language_info": {
      "name": "python"
    }
  },
  "cells": [
    {
      "cell_type": "markdown",
      "metadata": {
        "id": "view-in-github",
        "colab_type": "text"
      },
      "source": [
        "<a href=\"https://colab.research.google.com/github/plus2net/Python-basics/blob/main/Gemini_api_2_image_1.ipynb\" target=\"_parent\"><img src=\"https://colab.research.google.com/assets/colab-badge.svg\" alt=\"Open In Colab\"/></a>"
      ]
    },
    {
      "cell_type": "markdown",
      "metadata": {
        "id": "6ffd0148"
      },
      "source": [
        "# Task\n",
        "Load the image from the URL \"https://www.go2india.in/gallery/photo.php?id=8508\", then use the Gemini model to generate a description of the image and display the description."
      ]
    },
    {
      "cell_type": "markdown",
      "metadata": {
        "id": "a8c53487"
      },
      "source": [
        "## Load the image data\n",
        "\n",
        "### Subtask:\n",
        "Load the image data into a variable.\n"
      ]
    },
    {
      "cell_type": "markdown",
      "metadata": {
        "id": "6495830c"
      },
      "source": [
        "**Reasoning**:\n",
        "The subtask is to load the image data from the given URL. This involves importing the `requests` library, defining the image URL, fetching the data using `requests.get()`, and storing the content. These steps can be combined into a single code block.\n",
        "\n"
      ]
    },
    {
      "cell_type": "code",
      "metadata": {
        "id": "154e3d1e"
      },
      "source": [
        "import requests\n",
        "# Url of the image\n",
        "image_url = \"https://www.go2india.in/upimg/9565.jpg\"\n",
        "response = requests.get(image_url)\n",
        "image_data = response.content"
      ],
      "execution_count": null,
      "outputs": []
    },
    {
      "cell_type": "markdown",
      "metadata": {
        "id": "c9e36ebb"
      },
      "source": [
        "## Prepare image for gemini\n",
        "\n",
        "### Subtask:\n",
        "Convert the image data to a format suitable for sending to the Gemini model.\n"
      ]
    },
    {
      "cell_type": "markdown",
      "metadata": {
        "id": "cec10631"
      },
      "source": [
        "**Reasoning**:\n",
        "Convert the image data to a format suitable for sending to the Gemini model by using PIL and BytesIO.\n",
        "\n"
      ]
    },
    {
      "cell_type": "code",
      "metadata": {
        "id": "699d7f5f"
      },
      "source": [
        "from PIL import Image\n",
        "from io import BytesIO\n",
        "image = Image.open(BytesIO(image_data))\n",
        "print(image_data[:20]) # for testing check the binary data."
      ],
      "execution_count": null,
      "outputs": []
    },
    {
      "cell_type": "code",
      "source": [
        "import google.generativeai as genai\n",
        "from google.colab import userdata\n",
        "\n",
        "try:\n",
        "  GOOGLE_API_KEY = userdata.get('GOOGLE_API_KEY')\n",
        "  genai.configure(api_key=GOOGLE_API_KEY)\n",
        "\n",
        "  # Initialize the model that supports generateContent\n",
        "  model = genai.GenerativeModel('gemini-2.5-flash')\n",
        "\n",
        "  prompt = [\"Describe the image \", image]\n",
        "  response = model.generate_content(prompt)\n",
        "\n",
        "except Exception as e:\n",
        "  print(f\"An error occurred: {e}\")\n",
        "  print(\"Please check your API key and ensure the 'image' variable is defined.\")\n",
        "\n",
        "print(response.text)"
      ],
      "metadata": {
        "id": "CGQ29RQMwEVV"
      },
      "execution_count": null,
      "outputs": []
    },
    {
      "cell_type": "markdown",
      "metadata": {
        "id": "4e509b2d"
      },
      "source": [
        "## Generate description\n",
        "\n",
        "### Subtask:\n",
        "Send the image data to the Gemini model with a prompt to describe it.\n"
      ]
    },
    {
      "cell_type": "markdown",
      "metadata": {
        "id": "762fe3e8"
      },
      "source": [
        "**Reasoning**:\n",
        "The model object was not defined in the current scope. Re-initialize the model.\n",
        "\n"
      ]
    },
    {
      "cell_type": "code",
      "metadata": {
        "id": "eYNyTvIfy__M"
      },
      "source": [
        "import google.generativeai as genai\n",
        "from google.colab import userdata\n",
        "from IPython.display import display, Markdown\n",
        "image = Image.open('hand-written-text.jpg', mode=\"r\")  # create image object\n",
        "image.thumbnail([512,512])\n",
        "display(image)\n",
        "try:\n",
        "  GOOGLE_API_KEY = userdata.get('GOOGLE_API_KEY')\n",
        "  genai.configure(api_key=GOOGLE_API_KEY)\n",
        "  # Initialize the model that supports generateContent\n",
        "  model = genai.GenerativeModel('gemini-2.5-flash')\n",
        "\n",
        "  prompt = [\"Describe the image \", image]\n",
        "  response = model.generate_content(prompt)\n",
        "  Markdown(response.text)\n",
        "except Exception as e:\n",
        "  print(f\"An error occurred: {e}\")\n",
        "  print(\"Please check your API key and ensure the 'image' variable is defined.\")"
      ],
      "execution_count": null,
      "outputs": []
    },
    {
      "cell_type": "code",
      "source": [],
      "metadata": {
        "id": "b3ho_ZGBr7zc"
      },
      "execution_count": null,
      "outputs": []
    }
  ]
}