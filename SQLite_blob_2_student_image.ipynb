{
  "nbformat": 4,
  "nbformat_minor": 0,
  "metadata": {
    "kernelspec": {
      "display_name": "Python 3",
      "language": "python",
      "name": "python3"
    },
    "language_info": {
      "codemirror_mode": {
        "name": "ipython",
        "version": 3
      },
      "file_extension": ".py",
      "mimetype": "text/x-python",
      "name": "python",
      "nbconvert_exporter": "python",
      "pygments_lexer": "ipython3",
      "version": "3.6.3"
    },
    "colab": {
      "provenance": [],
      "include_colab_link": true
    }
  },
  "cells": [
    {
      "cell_type": "markdown",
      "metadata": {
        "id": "view-in-github",
        "colab_type": "text"
      },
      "source": [
        "<a href=\"https://colab.research.google.com/github/plus2net/Python-basics/blob/main/SQLite_blob_2_student_image.ipynb\" target=\"_parent\"><img src=\"https://colab.research.google.com/assets/colab-badge.svg\" alt=\"Open In Colab\"/></a>"
      ]
    },
    {
      "cell_type": "markdown",
      "source": [
        "![alt text](https://www.plus2net.com/images/top2.jpg)        Read more on [SQLite Colab display image](https://www.plus2net.com/python/sqlite-colab-image.php)"
      ],
      "metadata": {
        "id": "92fALlH3obiE"
      }
    },
    {
      "cell_type": "code",
      "execution_count": 22,
      "source": [
        "# download the images from plus2net.com before creating the database\n",
        "!wget https://www.plus2net.com/python/download/1.png\n",
        "!wget https://www.plus2net.com/python/download/2.png\n",
        "!wget https://www.plus2net.com/python/download/3.png\n",
        "!wget https://www.plus2net.com/python/download/4.png"
      ],
      "outputs": [
        {
          "output_type": "stream",
          "name": "stdout",
          "text": [
            "--2024-06-06 11:07:14--  https://www.plus2net.com/python/download/1.png\n",
            "Resolving www.plus2net.com (www.plus2net.com)... 68.178.227.154\n",
            "Connecting to www.plus2net.com (www.plus2net.com)|68.178.227.154|:443... connected.\n",
            "HTTP request sent, awaiting response... 200 OK\n",
            "Length: 4243 (4.1K) [image/png]\n",
            "Saving to: ‘1.png’\n",
            "\n",
            "1.png               100%[===================>]   4.14K  --.-KB/s    in 0s      \n",
            "\n",
            "2024-06-06 11:07:15 (1.91 GB/s) - ‘1.png’ saved [4243/4243]\n",
            "\n",
            "--2024-06-06 11:07:15--  https://www.plus2net.com/python/download/2.png\n",
            "Resolving www.plus2net.com (www.plus2net.com)... 68.178.227.154\n",
            "Connecting to www.plus2net.com (www.plus2net.com)|68.178.227.154|:443... connected.\n",
            "HTTP request sent, awaiting response... 200 OK\n",
            "Length: 4563 (4.5K) [image/png]\n",
            "Saving to: ‘2.png’\n",
            "\n",
            "2.png               100%[===================>]   4.46K  --.-KB/s    in 0s      \n",
            "\n",
            "2024-06-06 11:07:16 (1.75 GB/s) - ‘2.png’ saved [4563/4563]\n",
            "\n",
            "--2024-06-06 11:07:16--  https://www.plus2net.com/python/download/3.png\n",
            "Resolving www.plus2net.com (www.plus2net.com)... 68.178.227.154\n",
            "Connecting to www.plus2net.com (www.plus2net.com)|68.178.227.154|:443... connected.\n",
            "HTTP request sent, awaiting response... 200 OK\n",
            "Length: 4663 (4.6K) [image/png]\n",
            "Saving to: ‘3.png’\n",
            "\n",
            "3.png               100%[===================>]   4.55K  --.-KB/s    in 0s      \n",
            "\n",
            "2024-06-06 11:07:17 (1.01 GB/s) - ‘3.png’ saved [4663/4663]\n",
            "\n",
            "--2024-06-06 11:07:17--  https://www.plus2net.com/python/download/4.png\n",
            "Resolving www.plus2net.com (www.plus2net.com)... 68.178.227.154\n",
            "Connecting to www.plus2net.com (www.plus2net.com)|68.178.227.154|:443... connected.\n",
            "HTTP request sent, awaiting response... 200 OK\n",
            "Length: 4318 (4.2K) [image/png]\n",
            "Saving to: ‘4.png’\n",
            "\n",
            "4.png               100%[===================>]   4.22K  --.-KB/s    in 0s      \n",
            "\n",
            "2024-06-06 11:07:18 (1021 MB/s) - ‘4.png’ saved [4318/4318]\n",
            "\n"
          ]
        }
      ],
      "metadata": {
        "id": "Ylg7JbjIAZME",
        "colab": {
          "base_uri": "https://localhost:8080/"
        },
        "outputId": "6fa0098a-1279-4d8c-8edd-be5c4a03415a"
      }
    },
    {
      "cell_type": "code",
      "source": [
        "import sqlite3 # Connection library\n",
        "my_conn = sqlite3.connect('student_blob_2.db') # connect to db"
      ],
      "metadata": {
        "id": "RS82XZ3F-l0b"
      },
      "execution_count": 23,
      "outputs": []
    },
    {
      "cell_type": "markdown",
      "source": [
        "Delete student table if required."
      ],
      "metadata": {
        "id": "UGIlqke8f8Qs"
      }
    },
    {
      "cell_type": "code",
      "source": [
        "try:\n",
        "  my_conn.execute('DROP table student_b')  # Delete the table if required.\n",
        "except sqlite3.Error as my_error:\n",
        "    print(\"error: \",my_error)\n",
        "else:\n",
        "  print(\"Student Table Deleted \")"
      ],
      "metadata": {
        "colab": {
          "base_uri": "https://localhost:8080/"
        },
        "id": "REdnO39-c92y",
        "outputId": "d8f969f8-41ac-4120-9163-4ed9153b48e6"
      },
      "execution_count": 24,
      "outputs": [
        {
          "output_type": "stream",
          "name": "stdout",
          "text": [
            "error:  no such table: student_b\n"
          ]
        }
      ]
    },
    {
      "cell_type": "markdown",
      "source": [
        "Create the blank table if not available."
      ],
      "metadata": {
        "id": "CsVjTRZxdG5W"
      }
    },
    {
      "cell_type": "code",
      "source": [
        "try:\n",
        "  my_conn.execute('''\n",
        "  CREATE TABLE IF NOT EXISTS student_b(id integer primary key,\n",
        "                      name text,\n",
        "                      class text,\n",
        "                      gender text,\n",
        "                      photo blob\n",
        "                      );''')\n",
        "except sqlite3.Error as my_error:\n",
        "    print(\"error: \",my_error)\n",
        "else:\n",
        "  print(\"Student Table created successfully\")"
      ],
      "metadata": {
        "colab": {
          "base_uri": "https://localhost:8080/"
        },
        "id": "ITksgUbHdDuu",
        "outputId": "535cf65f-9b6a-4788-89af-de4561aaf4fd"
      },
      "execution_count": 25,
      "outputs": [
        {
          "output_type": "stream",
          "name": "stdout",
          "text": [
            "Student Table created successfully\n"
          ]
        }
      ]
    },
    {
      "cell_type": "markdown",
      "source": [
        "Import the image, io and matplotlib required to display the blob images from student table."
      ],
      "metadata": {
        "id": "Gcp4kO7wcvHb"
      }
    },
    {
      "cell_type": "code",
      "source": [
        "from PIL import Image\n",
        "import io\n",
        "import matplotlib.pyplot as plt"
      ],
      "metadata": {
        "id": "4Rz9Ep-7Q5Xl"
      },
      "execution_count": 26,
      "outputs": []
    },
    {
      "cell_type": "markdown",
      "source": [
        "Check the student table structure."
      ],
      "metadata": {
        "id": "eCiBCuhFccgb"
      }
    },
    {
      "cell_type": "code",
      "source": [
        "query=\"pragma table_info([student_b])\"\n",
        "my_data=list(my_conn.execute(query)) # structure\n",
        "print(my_data) # Listing structure of table"
      ],
      "metadata": {
        "colab": {
          "base_uri": "https://localhost:8080/"
        },
        "id": "-JYWcNzE3RXA",
        "outputId": "c7f90e2c-6f61-4172-bbda-feea27db6799"
      },
      "execution_count": 27,
      "outputs": [
        {
          "output_type": "stream",
          "name": "stdout",
          "text": [
            "[(0, 'id', 'INTEGER', 0, None, 1), (1, 'name', 'TEXT', 0, None, 0), (2, 'class', 'TEXT', 0, None, 0), (3, 'gender', 'TEXT', 0, None, 0), (4, 'photo', 'BLOB', 0, None, 0)]\n"
          ]
        }
      ]
    },
    {
      "cell_type": "markdown",
      "source": [
        "List of student details with image name to store in table"
      ],
      "metadata": {
        "id": "MAmVhVnNcTHM"
      }
    },
    {
      "cell_type": "code",
      "source": [
        "my_students=[[1,'Alex J','Four','Female','1.png'],\n",
        "             [2,'Ramana K','Three','Male','2.png'],\n",
        "             [3,'Jack','Five','FeMale','3.png'],\n",
        "             [4,'Ronne','Six','FeMale','4.png']]"
      ],
      "metadata": {
        "id": "AifK3TToN0p9"
      },
      "execution_count": 28,
      "outputs": []
    },
    {
      "cell_type": "markdown",
      "source": [
        "Insert the rows of data to student table."
      ],
      "metadata": {
        "id": "nA_vnaHmcLnm"
      }
    },
    {
      "cell_type": "code",
      "source": [
        "for ids in my_students:\n",
        "  fob=open(ids[4],'rb') #file object\n",
        "  blob_data=fob.read() # Binary data is ready\n",
        "\n",
        "  my_data=(None, ids[1], ids[2], ids[3],blob_data) # Data to store\n",
        "  q=\"INSERT INTO student_b values(?,?,?,?,?)\" # query with place holders\n",
        "  try:\n",
        "    r_set=my_conn.execute(q,my_data)\n",
        "  except sqlite3.Error as my_error:\n",
        "    print(\"error: \",my_error)\n",
        "  else:\n",
        "    print(\"Number of records added  : \",r_set.rowcount)"
      ],
      "metadata": {
        "colab": {
          "base_uri": "https://localhost:8080/"
        },
        "id": "mVvNtFPkz-AW",
        "outputId": "656b0cfd-d6b2-4c20-cd80-bc3534ebc3b9"
      },
      "execution_count": 29,
      "outputs": [
        {
          "output_type": "stream",
          "name": "stdout",
          "text": [
            "Number of records added  :  1\n",
            "Number of records added  :  1\n",
            "Number of records added  :  1\n",
            "Number of records added  :  1\n"
          ]
        }
      ]
    },
    {
      "cell_type": "markdown",
      "source": [
        "Display id, name, class, gender with image to check the records."
      ],
      "metadata": {
        "id": "_9OiPiSpb6oV"
      }
    },
    {
      "cell_type": "code",
      "source": [
        "r_set=my_conn.execute('SELECT * from student_b ');\n",
        "for row in r_set:\n",
        "  image = Image.open(io.BytesIO(row[4]))\n",
        "  plt.figure(figsize=(1,1))\n",
        "  plt.axis(False)\n",
        "  plt.imshow(image)\n",
        "  print(row[0],row[1],row[2],row[3],'')\n",
        "  plt.show()\n",
        "  print()"
      ],
      "metadata": {
        "colab": {
          "base_uri": "https://localhost:8080/",
          "height": 544
        },
        "id": "bhhWerAkaJvV",
        "outputId": "7464cbcf-ee32-4fbd-c008-e991f613fa82"
      },
      "execution_count": 30,
      "outputs": [
        {
          "output_type": "stream",
          "name": "stdout",
          "text": [
            "1 Alex J Four Female \n"
          ]
        },
        {
          "output_type": "display_data",
          "data": {
            "text/plain": [
              "<Figure size 100x100 with 1 Axes>"
            ],
            "image/png": "[encoded data removed]"
          },
          "metadata": {}
        },
        {
          "output_type": "stream",
          "name": "stdout",
          "text": [
            "\n",
            "2 Ramana K Three Male \n"
          ]
        },
        {
          "output_type": "display_data",
          "data": {
            "text/plain": [
              "<Figure size 100x100 with 1 Axes>"
            ],
            "image/png": "[encoded data removed]"
          },
          "metadata": {}
        },
        {
          "output_type": "stream",
          "name": "stdout",
          "text": [
            "\n",
            "3 Jack Five FeMale \n"
          ]
        },
        {
          "output_type": "display_data",
          "data": {
            "text/plain": [
              "<Figure size 100x100 with 1 Axes>"
            ],
            "image/png": "[encoded data removed]"
          },
          "metadata": {}
        },
        {
          "output_type": "stream",
          "name": "stdout",
          "text": [
            "\n",
            "4 Ronne Six FeMale \n"
          ]
        },
        {
          "output_type": "display_data",
          "data": {
            "text/plain": [
              "<Figure size 100x100 with 1 Axes>"
            ],
            "image/png": "[encoded data removed]"
          },
          "metadata": {}
        },
        {
          "output_type": "stream",
          "name": "stdout",
          "text": [
            "\n"
          ]
        }
      ]
    },
    {
      "cell_type": "markdown",
      "source": [
        "Download the database file student.db to your local system"
      ],
      "metadata": {
        "id": "xk6fs7o6bzV2"
      }
    },
    {
      "cell_type": "code",
      "source": [
        "from google.colab import files\n",
        "files.download('student_blob_2.db')"
      ],
      "metadata": {
        "colab": {
          "base_uri": "https://localhost:8080/",
          "height": 17
        },
        "id": "AIdCBsVZbipE",
        "outputId": "21dcdeae-1b42-4fde-af24-8561bf2bbb69"
      },
      "execution_count": 31,
      "outputs": [
        {
          "output_type": "display_data",
          "data": {
            "text/plain": [
              "<IPython.core.display.Javascript object>"
            ],
            "application/javascript": [
              "\n",
              "    async function download(id, filename, size) {\n",
              "      if (!google.colab.kernel.accessAllowed) {\n",
              "        return;\n",
              "      }\n",
              "      const div = document.createElement('div');\n",
              "      const label = document.createElement('label');\n",
              "      label.textContent = `Downloading \"${filename}\": `;\n",
              "      div.appendChild(label);\n",
              "      const progress = document.createElement('progress');\n",
              "      progress.max = size;\n",
              "      div.appendChild(progress);\n",
              "      document.body.appendChild(div);\n",
              "\n",
              "      const buffers = [];\n",
              "      let downloaded = 0;\n",
              "\n",
              "      const channel = await google.colab.kernel.comms.open(id);\n",
              "      // Send a message to notify the kernel that we're ready.\n",
              "      channel.send({})\n",
              "\n",
              "      for await (const message of channel.messages) {\n",
              "        // Send a message to notify the kernel that we're ready.\n",
              "        channel.send({})\n",
              "        if (message.buffers) {\n",
              "          for (const buffer of message.buffers) {\n",
              "            buffers.push(buffer);\n",
              "            downloaded += buffer.byteLength;\n",
              "            progress.value = downloaded;\n",
              "          }\n",
              "        }\n",
              "      }\n",
              "      const blob = new Blob(buffers, {type: 'application/binary'});\n",
              "      const a = document.createElement('a');\n",
              "      a.href = window.URL.createObjectURL(blob);\n",
              "      a.download = filename;\n",
              "      div.appendChild(a);\n",
              "      a.click();\n",
              "      div.remove();\n",
              "    }\n",
              "  "
            ]
          },
          "metadata": {}
        },
        {
          "output_type": "display_data",
          "data": {
            "text/plain": [
              "<IPython.core.display.Javascript object>"
            ],
            "application/javascript": [
              "download(\"download_7916242d-9a55-4b45-9b25-e8ba26baf0fe\", \"student_blob_2.db\", 8192)"
            ]
          },
          "metadata": {}
        }
      ]
    },
    {
      "cell_type": "markdown",
      "source": [
        "[More on SQLite database using Colab platform](https://www.plus2net.com/python/sqlite-colab.php)\n",
        "\n",
        "\n",
        "Web site: www.plus2net.com\n",
        "\n",
        "YouTube: https://www.youtube.com/@plus2net1\n",
        "\n",
        "Facebook: https://www.facebook.com/plus2net\n",
        "\n",
        "Instagram: https://www.instagram.com/plus2net.in/\n",
        "\n",
        "LinkedIn: https://www.linkedin.com/in/plus2net/\n",
        "\n",
        "Write to us  https: //www.plus2net.com/contactus.php"
      ],
      "metadata": {
        "id": "x32Q9CyYo69X"
      }
    }
  ]
}