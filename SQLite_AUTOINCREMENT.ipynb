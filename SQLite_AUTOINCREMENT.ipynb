{
  "nbformat": 4,
  "nbformat_minor": 0,
  "metadata": {
    "kernelspec": {
      "display_name": "Python 3",
      "language": "python",
      "name": "python3"
    },
    "language_info": {
      "codemirror_mode": {
        "name": "ipython",
        "version": 3
      },
      "file_extension": ".py",
      "mimetype": "text/x-python",
      "name": "python",
      "nbconvert_exporter": "python",
      "pygments_lexer": "ipython3",
      "version": "3.6.3"
    },
    "colab": {
      "provenance": [],
      "include_colab_link": true
    }
  },
  "cells": [
    {
      "cell_type": "markdown",
      "metadata": {
        "id": "view-in-github",
        "colab_type": "text"
      },
      "source": [
        "<a href=\"https://colab.research.google.com/github/plus2net/Python-basics/blob/main/SQLite_AUTOINCREMENT.ipynb\" target=\"_parent\"><img src=\"https://colab.research.google.com/assets/colab-badge.svg\" alt=\"Open In Colab\"/></a>"
      ]
    },
    {
      "cell_type": "markdown",
      "source": [
        "![alt text](https://www.plus2net.com/images/top2.jpg)        Read more on [SQLite Insert](https://www.plus2net.com/python/sqlite-insert.php)"
      ],
      "metadata": {
        "id": "92fALlH3obiE"
      }
    },
    {
      "cell_type": "code",
      "execution_count": 1,
      "source": [
        "import sqlite3\n",
        "my_conn = sqlite3.connect('my_db.db')\n",
        "print(\"Connected to database successfully\")"
      ],
      "outputs": [
        {
          "output_type": "stream",
          "name": "stdout",
          "text": [
            "Connected to database successfully\n"
          ]
        }
      ],
      "metadata": {
        "id": "Ylg7JbjIAZME",
        "colab": {
          "base_uri": "https://localhost:8080/"
        },
        "outputId": "1dfb56ff-ae70-4e15-c2ff-76e73ee5c86f"
      }
    },
    {
      "cell_type": "code",
      "source": [
        "my_conn.execute('''CREATE TABLE IF NOT EXISTS student(id integer primary key AUTOINCREMENT,\n",
        "                      name text,\n",
        "                      class text,\n",
        "                      mark integer,\n",
        "                      gender text  )''')\n"
      ],
      "metadata": {
        "colab": {
          "base_uri": "https://localhost:8080/"
        },
        "id": "J8a9dUX44OBK",
        "outputId": "e0cc0a17-27d2-4b55-dff8-e7249014230c"
      },
      "execution_count": 32,
      "outputs": [
        {
          "output_type": "execute_result",
          "data": {
            "text/plain": [
              "<sqlite3.Cursor at 0x78a2cc1a8fc0>"
            ]
          },
          "metadata": {},
          "execution_count": 32
        }
      ]
    },
    {
      "cell_type": "code",
      "source": [
        "my_query=\"INSERT INTO student(name,class,mark,gender) \\\n",
        "          values('New Name', 'Four', 65, 'Female')\"\n",
        "r_set=my_conn.execute(my_query)\n",
        "print(r_set.lastrowid)"
      ],
      "metadata": {
        "colab": {
          "base_uri": "https://localhost:8080/"
        },
        "id": "ezKCOfvjXGmQ",
        "outputId": "54f8a421-b83a-48db-da64-39dd6b5f69c2"
      },
      "execution_count": 46,
      "outputs": [
        {
          "output_type": "stream",
          "name": "stdout",
          "text": [
            "7\n"
          ]
        }
      ]
    },
    {
      "cell_type": "code",
      "source": [
        "query=\"SELECT *  FROM student \"\n",
        "my_data=list(my_conn.execute(query)) #\n",
        "print(my_data)"
      ],
      "metadata": {
        "id": "-Tbk4pb9XoZH"
      },
      "execution_count": null,
      "outputs": []
    },
    {
      "cell_type": "code",
      "source": [
        "query=\"DELETE FROM student WHERE id=4\"\n",
        "my_data=my_conn.execute(query) #\n",
        "#print(my_data)\n",
        "print(\"No of Records deleted : \",my_data.rowcount)"
      ],
      "metadata": {
        "id": "W6Lg8C-aX_Lm"
      },
      "execution_count": null,
      "outputs": []
    },
    {
      "cell_type": "code",
      "source": [
        "query='DROP TABLE student'\n",
        "my_data=my_conn.execute(query) #\n",
        "#print(my_data)\n",
        "print(\"No of Records deleted : \",my_data.rowcount)"
      ],
      "metadata": {
        "id": "74TEFUuiYMCm"
      },
      "execution_count": null,
      "outputs": []
    },
    {
      "cell_type": "markdown",
      "source": [
        "[More on SQLite insert ](https://www.plus2net.com/python/sqlite-insert.php)\n",
        "\n",
        "\n",
        "Web site: www.plus2net.com\n",
        "\n",
        "YouTube: https://www.youtube.com/@plus2net1\n",
        "\n",
        "Facebook: https://www.facebook.com/plus2net\n",
        "\n",
        "Instagram: https://www.instagram.com/plus2net.in/\n",
        "\n",
        "LinkedIn: https://www.linkedin.com/in/plus2net/\n",
        "\n",
        "Write to us  https: //www.plus2net.com/contactus.php"
      ],
      "metadata": {
        "id": "x32Q9CyYo69X"
      }
    }
  ]
}