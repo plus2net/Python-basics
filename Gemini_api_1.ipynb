{
  "nbformat": 4,
  "nbformat_minor": 0,
  "metadata": {
    "colab": {
      "provenance": [],
      "authorship_tag": "ABX9TyO7YZeZCZm5TYNzkz/XLQfl",
      "include_colab_link": true
    },
    "kernelspec": {
      "name": "python3",
      "display_name": "Python 3"
    },
    "language_info": {
      "name": "python"
    }
  },
  "cells": [
    {
      "cell_type": "markdown",
      "metadata": {
        "id": "view-in-github",
        "colab_type": "text"
      },
      "source": [
        "<a href=\"https://colab.research.google.com/github/plus2net/Python-basics/blob/main/Gemini_api_1.ipynb\" target=\"_parent\"><img src=\"https://colab.research.google.com/assets/colab-badge.svg\" alt=\"Open In Colab\"/></a>"
      ]
    },
    {
      "cell_type": "markdown",
      "source": [
        "List all available models from Gemini"
      ],
      "metadata": {
        "id": "dn0GDAukhpq9"
      }
    },
    {
      "cell_type": "code",
      "source": [
        "import google.generativeai as genai\n",
        "from google.colab import userdata\n",
        "\n",
        "try:\n",
        "  GOOGLE_API_KEY = userdata.get('GOOGLE_API_KEY')\n",
        "  genai.configure(api_key=GOOGLE_API_KEY)\n",
        "\n",
        "  # List available models\n",
        "  for m in genai.list_models():\n",
        "    print(f\"Name: {m.name}\")\n",
        "    print(f\"Supported generation methods: {m.supported_generation_methods}\")\n",
        "    print(\"-\" * 20)\n",
        "\n",
        "except Exception as e:\n",
        "  print(f\"An error occurred: {e}\")\n",
        "  print(\"Check your API key with the name 'GOOGLE_API_KEY'.\")"
      ],
      "metadata": {
        "id": "T-HNhr06hlNE"
      },
      "execution_count": null,
      "outputs": []
    },
    {
      "cell_type": "markdown",
      "source": [
        "Fixed input and output from AI"
      ],
      "metadata": {
        "id": "eZNc7GSih51U"
      }
    },
    {
      "cell_type": "code",
      "metadata": {
        "id": "62171e20"
      },
      "source": [
        "import google.generativeai as genai\n",
        "from google.colab import userdata\n",
        "\n",
        "try:\n",
        "  GOOGLE_API_KEY = userdata.get('GOOGLE_API_KEY')\n",
        "  genai.configure(api_key=GOOGLE_API_KEY)\n",
        "\n",
        "  # Initialize the model that supports generateContent\n",
        "  # You can choose another model from the list if you prefer, e.g., 'gemini-1.5-pro-latest'\n",
        "  model = genai.GenerativeModel('gemini-1.5-flash-latest')\n",
        "\n",
        "  # Generate content\n",
        "  response = model.generate_content(\"Write a short poem about the stars.\")\n",
        "  print(response.text)\n",
        "\n",
        "except Exception as e:\n",
        "  print(f\"An error occurred: {e}\")\n",
        "  print(\"Check your API key in the name 'GOOGLE_API_KEY'.\")"
      ],
      "execution_count": null,
      "outputs": []
    },
    {
      "cell_type": "markdown",
      "source": [
        "User input and getting output from AI"
      ],
      "metadata": {
        "id": "ZUMhUok8hfCE"
      }
    },
    {
      "cell_type": "code",
      "metadata": {
        "id": "27b14590"
      },
      "source": [
        "import google.generativeai as genai\n",
        "from google.colab import userdata\n",
        "\n",
        "try:\n",
        "  GOOGLE_API_KEY = userdata.get('GOOGLE_API_KEY')\n",
        "  genai.configure(api_key=GOOGLE_API_KEY)\n",
        "\n",
        "  # Initialize the model that supports generateContent\n",
        "  # You can choose another model from the list if you prefer,\n",
        "  # e.g., 'gemini-1.5-pro-latest'\n",
        "  model = genai.GenerativeModel('gemini-1.5-flash-latest')\n",
        "\n",
        "  # Get prompt from user input\n",
        "  user_prompt = input(\"Enter your prompt for the model: \")\n",
        "\n",
        "  # Generate content based on user input\n",
        "  response = model.generate_content(user_prompt)\n",
        "  print(response.text)\n",
        "\n",
        "except Exception as e:\n",
        "  print(f\"An error occurred: {e}\")\n",
        "  print(\"Please check your API key.\")"
      ],
      "execution_count": null,
      "outputs": []
    }
  ]
}