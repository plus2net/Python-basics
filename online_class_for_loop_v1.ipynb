{
  "nbformat": 4,
  "nbformat_minor": 0,
  "metadata": {
    "colab": {
      "provenance": [],
      "authorship_tag": "ABX9TyMZSqxVTfuwcb0Wj8JBW/Qa",
      "include_colab_link": true
    },
    "kernelspec": {
      "name": "python3",
      "display_name": "Python 3"
    }
  },
  "cells": [
    {
      "cell_type": "markdown",
      "metadata": {
        "id": "view-in-github",
        "colab_type": "text"
      },
      "source": [
        "<a href=\"https://colab.research.google.com/github/plus2net/Python-basics/blob/main/online_class_for_loop_v1.ipynb\" target=\"_parent\"><img src=\"https://colab.research.google.com/assets/colab-badge.svg\" alt=\"Open In Colab\"/></a>"
      ]
    },
    {
      "cell_type": "markdown",
      "source": [
        "![alt text](https://www.plus2net.com/images/top2.jpg)        Read more on [Python for loop ](https://www.plus2net.com/python/for-loop.php)"
      ],
      "metadata": {
        "id": "audw05pSF0iu"
      }
    },
    {
      "cell_type": "markdown",
      "metadata": {
        "id": "WMByX06CKKKE"
      },
      "source": [
        "Start with a simple example to understand for loop with range"
      ]
    },
    {
      "cell_type": "markdown",
      "source": [
        "for loop range with start and stop value"
      ],
      "metadata": {
        "id": "UZA3pPJnl8A8"
      }
    },
    {
      "cell_type": "markdown",
      "source": [
        "for loop with start stop and step value"
      ],
      "metadata": {
        "id": "gcMY1u56mGzs"
      }
    },
    {
      "cell_type": "markdown",
      "source": [
        "For loop with break"
      ],
      "metadata": {
        "id": "WBe-V5gTmJjr"
      }
    },
    {
      "cell_type": "markdown",
      "source": [
        "for loop with continue"
      ],
      "metadata": {
        "id": "9VFOWh2amcm8"
      }
    },
    {
      "cell_type": "markdown",
      "source": [
        "Add one else part to a for loop."
      ],
      "metadata": {
        "id": "93cXm3hPme2F"
      }
    },
    {
      "cell_type": "markdown",
      "source": [
        "What is the effect of break and continue with else"
      ],
      "metadata": {
        "id": "4U6Rlgl0moz1"
      }
    },
    {
      "cell_type": "markdown",
      "source": [
        "What is nested for loop, give example"
      ],
      "metadata": {
        "id": "IYyqLFZTnbhF"
      }
    },
    {
      "cell_type": "markdown",
      "source": [
        "Print all prime numbers upto 100"
      ],
      "metadata": {
        "id": "fueqqE0cmzaj"
      }
    }
  ]
}