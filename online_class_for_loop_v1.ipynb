{
  "nbformat": 4,
  "nbformat_minor": 0,
  "metadata": {
    "colab": {
      "provenance": [],
      "authorship_tag": "ABX9TyMHEhtko52F6pxdhJBXxFBR",
      "include_colab_link": true
    },
    "kernelspec": {
      "name": "python3",
      "display_name": "Python 3"
    }
  },
  "cells": [
    {
      "cell_type": "markdown",
      "metadata": {
        "id": "view-in-github",
        "colab_type": "text"
      },
      "source": [
        "<a href=\"https://colab.research.google.com/github/plus2net/Python-basics/blob/main/online_class_for_loop_v1.ipynb\" target=\"_parent\"><img src=\"https://colab.research.google.com/assets/colab-badge.svg\" alt=\"Open In Colab\"/></a>"
      ]
    },
    {
      "cell_type": "markdown",
      "source": [
        "![alt text](https://www.plus2net.com/images/top2.jpg)        Read more on [Python for loop ](https://www.plus2net.com/python/for-loop.php)"
      ],
      "metadata": {
        "id": "audw05pSF0iu"
      }
    },
    {
      "cell_type": "markdown",
      "metadata": {
        "id": "WMByX06CKKKE"
      },
      "source": [
        "Start with a simple example to understand for loop with range"
      ]
    },
    {
      "cell_type": "code",
      "source": [
        "for x in range(5):\n",
        "  print(x)\n",
        "print('I am outside the loop')"
      ],
      "metadata": {
        "id": "AQNWUSDiuKeq"
      },
      "execution_count": null,
      "outputs": []
    },
    {
      "cell_type": "markdown",
      "source": [
        "for loop range with start and stop value"
      ],
      "metadata": {
        "id": "UZA3pPJnl8A8"
      }
    },
    {
      "cell_type": "code",
      "source": [
        "for x in range(5,10):\n",
        "  print(x)\n",
        "print('I am outside the loop')"
      ],
      "metadata": {
        "id": "naEngpbou5lW"
      },
      "execution_count": null,
      "outputs": []
    },
    {
      "cell_type": "markdown",
      "source": [
        "for loop with start stop and step value"
      ],
      "metadata": {
        "id": "gcMY1u56mGzs"
      }
    },
    {
      "cell_type": "code",
      "source": [
        "for x in range(5,26,5):\n",
        "  print(x)\n",
        "print('I am outside the loop')"
      ],
      "metadata": {
        "id": "39zEA0ZTvCoE"
      },
      "execution_count": null,
      "outputs": []
    },
    {
      "cell_type": "code",
      "source": [
        "for x in range(5,25,5):\n",
        "  if(x==15):\n",
        "    #continue\n",
        "    break\n",
        "  print(x)\n",
        "print('I am outside the loop')"
      ],
      "metadata": {
        "id": "aH0r2p3_vWVy"
      },
      "execution_count": null,
      "outputs": []
    },
    {
      "cell_type": "markdown",
      "source": [
        "For loop with break"
      ],
      "metadata": {
        "id": "WBe-V5gTmJjr"
      }
    },
    {
      "cell_type": "markdown",
      "source": [
        "for loop with continue"
      ],
      "metadata": {
        "id": "9VFOWh2amcm8"
      }
    },
    {
      "cell_type": "markdown",
      "source": [
        "Add one else part to a for loop."
      ],
      "metadata": {
        "id": "93cXm3hPme2F"
      }
    },
    {
      "cell_type": "code",
      "source": [
        "for x in range(5,25,5):\n",
        "  if(x==15):\n",
        "    #continue\n",
        "    break\n",
        "  print(x)\n",
        "else:\n",
        "  print('Out of the loop but with else ')\n",
        "print('I am outside the loop')"
      ],
      "metadata": {
        "id": "sxQWw1NewLAv"
      },
      "execution_count": null,
      "outputs": []
    },
    {
      "cell_type": "markdown",
      "source": [
        "What is the effect of break and continue with else"
      ],
      "metadata": {
        "id": "4U6Rlgl0moz1"
      }
    },
    {
      "cell_type": "markdown",
      "source": [
        "What is nested for loop, give example"
      ],
      "metadata": {
        "id": "IYyqLFZTnbhF"
      }
    },
    {
      "cell_type": "code",
      "source": [
        "for i in range(5):\n",
        "  for j in range(5):\n",
        "    print('*',end='')\n",
        "  print(\"\")"
      ],
      "metadata": {
        "id": "YQ7JRRWcwvuP"
      },
      "execution_count": null,
      "outputs": []
    },
    {
      "cell_type": "markdown",
      "source": [
        "Print all prime numbers upto 100"
      ],
      "metadata": {
        "id": "fueqqE0cmzaj"
      }
    },
    {
      "cell_type": "code",
      "source": [
        "num=50\n",
        "for i in range(2,num-1):\n",
        "  for j in range(2,i-1):\n",
        "    if(i%j==0):\n",
        "      break\n",
        "  else:\n",
        "    print(i, \" is a prime number\")"
      ],
      "metadata": {
        "id": "eZRSvRyQxgyt"
      },
      "execution_count": null,
      "outputs": []
    },
    {
      "cell_type": "markdown",
      "source": [
        "Use one list to display"
      ],
      "metadata": {
        "id": "jV7IC1G3y9NH"
      }
    },
    {
      "cell_type": "code",
      "source": [
        "names=['King','Queen','Jack & others']\n",
        "for str1 in names:\n",
        "  print(str1)"
      ],
      "metadata": {
        "id": "b8ehlWcby_3Z"
      },
      "execution_count": null,
      "outputs": []
    }
  ]
}