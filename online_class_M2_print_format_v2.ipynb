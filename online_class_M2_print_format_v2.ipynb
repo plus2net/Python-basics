{
  "nbformat": 4,
  "nbformat_minor": 0,
  "metadata": {
    "colab": {
      "provenance": [],
      "authorship_tag": "ABX9TyPcFRIWHDth5z7qYubDY9As",
      "include_colab_link": true
    },
    "kernelspec": {
      "name": "python3",
      "display_name": "Python 3"
    }
  },
  "cells": [
    {
      "cell_type": "markdown",
      "metadata": {
        "id": "view-in-github",
        "colab_type": "text"
      },
      "source": [
        "<a href=\"https://colab.research.google.com/github/plus2net/Python-basics/blob/main/online_class_M2_print_format_v2.ipynb\" target=\"_parent\"><img src=\"https://colab.research.google.com/assets/colab-badge.svg\" alt=\"Open In Colab\"/></a>"
      ]
    },
    {
      "cell_type": "markdown",
      "source": [
        "![alt text](https://www.plus2net.com/images/top2.jpg)        Read more on [Python  print()](https://www.plus2net.com/python/print.php) |  [Python  format()](https://www.plus2net.com/python/format.php)"
      ],
      "metadata": {
        "id": "audw05pSF0iu"
      }
    },
    {
      "cell_type": "code",
      "source": [
        "my_str='Welcome {} plus2net'\n",
        "print(my_str.format('to')) # Welcome to plus2net"
      ],
      "metadata": {
        "id": "1JZ58hJ2a2Ly"
      },
      "execution_count": null,
      "outputs": []
    },
    {
      "cell_type": "markdown",
      "source": [
        "Use multiple place holders"
      ],
      "metadata": {
        "id": "WC3I_OXPjbQq"
      }
    },
    {
      "cell_type": "code",
      "source": [
        "my_str='Product : {} , Prise is Rs {}'\n",
        "print(my_str.format('Mango','45'))"
      ],
      "metadata": {
        "id": "QpJsYh6wC2Fn"
      },
      "execution_count": null,
      "outputs": []
    },
    {
      "cell_type": "markdown",
      "source": [
        "Use index position for place holders."
      ],
      "metadata": {
        "id": "VItZkXi1jL-b"
      }
    },
    {
      "cell_type": "code",
      "source": [
        "my_str='Price is Rs : {1} , Product {0}'\n",
        "print(my_str.format('Mango','45'))"
      ],
      "metadata": {
        "id": "KKPtfC9MjD8i"
      },
      "execution_count": null,
      "outputs": []
    },
    {
      "cell_type": "markdown",
      "source": [
        "Allocate some place for the place holder and align the data in left , center and right direction."
      ],
      "metadata": {
        "id": "F7BzgBhLjrOO"
      }
    },
    {
      "cell_type": "code",
      "source": [
        "my_str='Left Aligned Product  : {:<25},Price:45'\n",
        "print(my_str.format('Mango'))\n",
        "\n",
        "my_str='Right Aligned Product : {:>25},Price:45'\n",
        "print(my_str.format('Banana'))\n",
        "\n",
        "my_str='Center Aligned Product: {:^25},Price:45'\n",
        "print(my_str.format('Apple'))"
      ],
      "metadata": {
        "colab": {
          "base_uri": "https://localhost:8080/"
        },
        "id": "wGvF5A38jy0S",
        "outputId": "e6348a91-8cb4-42fe-85c5-19ab576c39f8"
      },
      "execution_count": 3,
      "outputs": [
        {
          "output_type": "stream",
          "name": "stdout",
          "text": [
            "Left Aligned Product  : Mango                    ,Price:45\n",
            "Right Aligned Product :                    Banana,Price:45\n",
            "Center Aligned Product:           Apple          ,Price:45\n"
          ]
        }
      ]
    },
    {
      "cell_type": "markdown",
      "source": [
        "Convert Decimal to Binary, Hex, and Octal"
      ],
      "metadata": {
        "id": "cuvKd-gkkOLr"
      }
    },
    {
      "cell_type": "code",
      "source": [
        "my_str='Binary value from decimal is: {:b}'\n",
        "print(my_str.format(10))\n",
        "\n",
        "my_str='HEX value from decimal is {:X}'\n",
        "print(my_str.format(30))\n",
        "\n",
        "my_str='HEX value from decimal is {:x}'\n",
        "print(my_str.format(30))\n",
        "\n",
        "my_str='Octal value from decimal is {:o}'\n",
        "print(my_str.format(30))"
      ],
      "metadata": {
        "colab": {
          "base_uri": "https://localhost:8080/"
        },
        "id": "yscYGNfYkF2S",
        "outputId": "424390ed-343f-4b66-c63a-da086ab82836"
      },
      "execution_count": 4,
      "outputs": [
        {
          "output_type": "stream",
          "name": "stdout",
          "text": [
            "Binary value from decimal is: 1010\n",
            "HEX value from decimal is 1E\n",
            "HEX value from decimal is 1e\n",
            "Octal value from decimal is 36\n"
          ]
        }
      ]
    },
    {
      "cell_type": "markdown",
      "source": [
        "We can format to display 4 decimal places"
      ],
      "metadata": {
        "id": "zuGm8UbZlk60"
      }
    },
    {
      "cell_type": "code",
      "source": [
        "my_str='Price is Rs :{my_price:.4f}'\n",
        "print(my_str.format(my_price=120.75))"
      ],
      "metadata": {
        "colab": {
          "base_uri": "https://localhost:8080/"
        },
        "id": "gGGSbhfGloZL",
        "outputId": "e1e83706-384e-49e5-a8d2-a02724391121"
      },
      "execution_count": 5,
      "outputs": [
        {
          "output_type": "stream",
          "name": "stdout",
          "text": [
            "Price is Rs :120.7500\n"
          ]
        }
      ]
    },
    {
      "cell_type": "markdown",
      "source": [
        "Total space we can define along with decimal place. Note that in above code we used 8 positions including the decimal ( dot ) . Now we will format for 9 places ( in total including integer , dot and decimal place )"
      ],
      "metadata": {
        "id": "op6CQcPHl3F1"
      }
    },
    {
      "cell_type": "code",
      "source": [
        "my_str='Price is Rs :{my_price:9.4f}'\n",
        "print(my_str.format(my_price=120.75))"
      ],
      "metadata": {
        "id": "ArlgGEhmmRiz"
      },
      "execution_count": null,
      "outputs": []
    },
    {
      "cell_type": "markdown",
      "source": [
        "Sign type for numbers\n",
        "This is applicable only for numbers"
      ],
      "metadata": {
        "id": "ae3mWaMGmg7O"
      }
    },
    {
      "cell_type": "code",
      "source": [
        "my_str=\"Sign numbers is {:-}\"\n",
        "print(my_str.format(-30))\n",
        "\n",
        "my_str=\"Sign numbers is {:-}\"\n",
        "print(my_str.format(+30))\n",
        "\n",
        "my_str=\"Sign numbers is {:+}\"\n",
        "print(my_str.format(30))\n",
        "\n",
        "my_str=\"Sign numbers is {:+}\"\n",
        "print(my_str.format(-30))\n",
        "\n",
        "my_str=\"Sign numbers is {: }\"\n",
        "print(my_str.format(30))\n",
        "\n",
        "my_str=\"Sign numbers is {: }\"\n",
        "print(my_str.format(-30))"
      ],
      "metadata": {
        "id": "N5oPiGDcmhxc"
      },
      "execution_count": null,
      "outputs": []
    },
    {
      "cell_type": "markdown",
      "source": [
        "Formatting for 1000 place\n",
        "One comma to be added for every thousand place. Here is the input with output."
      ],
      "metadata": {
        "id": "kL0c_I6Emo6b"
      }
    },
    {
      "cell_type": "code",
      "source": [
        "def format_number(number):\n",
        "    return (\"{:,}\".format(number))\n",
        "print(format_number(1000000)) # 1,000,000"
      ],
      "metadata": {
        "id": "vsGAmsrDmp6D"
      },
      "execution_count": null,
      "outputs": []
    },
    {
      "cell_type": "markdown",
      "source": [
        "[www.plus2net.com](https://www.plus2net.com)      [YouTube](https://https://www.youtube.com/c/plus2net1) [Contact Us](https://www.plus2net.com/contactus.php)"
      ],
      "metadata": {
        "id": "w2X0R7xey8Nx"
      }
    }
  ]
}