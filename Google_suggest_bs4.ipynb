{
  "nbformat": 4,
  "nbformat_minor": 0,
  "metadata": {
    "colab": {
      "provenance": [],
      "authorship_tag": "ABX9TyMrcRgrR41d1HYRBuTM2xgH",
      "include_colab_link": true
    },
    "kernelspec": {
      "name": "python3",
      "display_name": "Python 3"
    },
    "language_info": {
      "name": "python"
    }
  },
  "cells": [
    {
      "cell_type": "markdown",
      "metadata": {
        "id": "view-in-github",
        "colab_type": "text"
      },
      "source": [
        "<a href=\"https://colab.research.google.com/github/plus2net/Python-basics/blob/main/Google_suggest_bs4.ipynb\" target=\"_parent\"><img src=\"https://colab.research.google.com/assets/colab-badge.svg\" alt=\"Open In Colab\"/></a>"
      ]
    },
    {
      "cell_type": "markdown",
      "source": [
        "![alt text](https://www.plus2net.com/images/top2.jpg)        Read more on [Google Suggest keywords. ](https://www.plus2net.com/python/bs4-google-suggest.php)"
      ],
      "metadata": {
        "id": "B-rFbH1FpBcT"
      }
    },
    {
      "cell_type": "markdown",
      "metadata": {
        "id": "493cac40"
      },
      "source": [
        "# Task\n",
        "By using keywords get the google suggest matchings"
      ]
    },
    {
      "cell_type": "code",
      "source": [
        "import requests\n",
        "from bs4 import BeautifulSoup\n",
        "str1='Python' # search string\n",
        "link = \"https://suggestqueries.google.com/complete/search?output=toolbar&hl=en&q=\"+str1\n",
        "content = requests.get(link)\n",
        "soup = BeautifulSoup(content.text, \"xml\") # creating bs4 object\n",
        "for d in soup.find_all('CompleteSuggestion'): # loop through all suggestions\n",
        "        print(d.suggestion['data'])"
      ],
      "metadata": {
        "id": "4v3inGjEZUDt"
      },
      "execution_count": null,
      "outputs": []
    },
    {
      "cell_type": "markdown",
      "source": [
        "Take user input as keywords to get google suggestions"
      ],
      "metadata": {
        "id": "W3L9bH2_Zmq5"
      }
    },
    {
      "cell_type": "code",
      "source": [
        "import requests\n",
        "from bs4 import BeautifulSoup\n",
        "#str1='Python' # search string\n",
        "str1=input(\"Enter keyword: \") # user input for search string\n",
        "link = \"https://suggestqueries.google.com/complete/search?output=toolbar&hl=en&q=\"+str1\n",
        "content = requests.get(link)\n",
        "soup = BeautifulSoup(content.text, \"xml\") # creating bs4 object\n",
        "for d in soup.find_all('CompleteSuggestion'): # loop through all suggestions\n",
        "        print(d.suggestion['data'])"
      ],
      "metadata": {
        "colab": {
          "base_uri": "https://localhost:8080/"
        },
        "collapsed": true,
        "id": "2D7-q4SvZr5k",
        "outputId": "e77f6dc1-793e-4def-9f01-ed66eed52996"
      },
      "execution_count": 5,
      "outputs": [
        {
          "output_type": "stream",
          "name": "stdout",
          "text": [
            "Enter keyword: bs4 python example\n",
            "bs4 python example\n",
            "beautifulsoup python example\n",
            "beautifulsoup python example code\n",
            "beautifulsoup example python 3\n",
            "python beautifulsoup example html\n",
            "how to install bs4 in python\n",
            "from bs4 import beautifulsoup meaning\n",
            "difference between bs4 and beautifulsoup\n",
            "from bs4 import beautifulsoup not working\n"
          ]
        }
      ]
    },
    {
      "cell_type": "markdown",
      "source": [
        "Using Multiple keywords from a list"
      ],
      "metadata": {
        "id": "rxnAL-TbaGo-"
      }
    },
    {
      "cell_type": "code",
      "source": [
        "import requests\n",
        "from bs4 import BeautifulSoup\n",
        "kw=['Tkinter','Python'] # expand the list with more keywords\n",
        "kw_data=[]\n",
        "for s in kw:\n",
        "    link = \"https://suggestqueries.google.com/complete/search?output=toolbar&hl=en&q=\"+s\n",
        "    content = requests.get(link)\n",
        "    soup = BeautifulSoup(content.text, \"xml\")\n",
        "    my_list=[]\n",
        "    for d in soup.find_all('CompleteSuggestion'):\n",
        "        #print(d.suggestion['data']) # printing the data\n",
        "        my_list.append(d.suggestion['data']) # adding to list\n",
        "    kw_data.append(my_list)\n",
        "print(kw_data)"
      ],
      "metadata": {
        "colab": {
          "base_uri": "https://localhost:8080/"
        },
        "id": "COPKAsifaFvO",
        "outputId": "bab0bfa1-b8c0-4c9b-a7af-db99351754e8"
      },
      "execution_count": 3,
      "outputs": [
        {
          "output_type": "stream",
          "name": "stdout",
          "text": [
            "[['tkinter', 'tkinter python', 'tkinter install', 'tkinter tutorial', 'tkinter button', 'tkinter designer', 'tkinter grid', 'tkinter examples', 'tkinter gui', 'tkinter text box'], ['python', 'python download', 'python programming', 'python snake', 'python compiler', 'python online', 'python dictionary', 'python for loop', 'python install', 'python classes']]\n"
          ]
        }
      ]
    },
    {
      "cell_type": "markdown",
      "source": [
        "Storing the keywords in SQLite database table."
      ],
      "metadata": {
        "id": "XmHVDySypDbR"
      }
    },
    {
      "cell_type": "code",
      "source": [
        "# suggest_to_sqlite.py\n",
        "# Fetch Google autocomplete suggestions for a keyword\n",
        "# and store them into a local SQLite DB.\n",
        "\n",
        "import sqlite3\n",
        "import requests\n",
        "from bs4 import BeautifulSoup\n",
        "from datetime import datetime\n",
        "from pathlib import Path\n",
        "\n",
        "DB_PATH = Path(\"suggestions.db\")  # change if you want a different location\n",
        "UA = \"Mozilla/5.0 (compatible; Plus2net-Suggest-Collector/1.0)\"\n",
        "TIMEOUT = 20\n",
        "\n",
        "def init_db(db_path: Path):\n",
        "    con = sqlite3.connect(str(db_path))\n",
        "    cur = con.cursor()\n",
        "    cur.execute(\"\"\"\n",
        "        CREATE TABLE IF NOT EXISTS suggestions (\n",
        "            id INTEGER PRIMARY KEY AUTOINCREMENT,\n",
        "            keyword TEXT NOT NULL,\n",
        "            suggestion TEXT NOT NULL,\n",
        "            source TEXT NOT NULL,\n",
        "            fetched_at TEXT NOT NULL,\n",
        "            UNIQUE(keyword, suggestion, source)\n",
        "        )\n",
        "    \"\"\")\n",
        "    # helpful index for lookups by keyword\n",
        "    cur.execute(\"CREATE INDEX IF NOT EXISTS idx_suggestions_keyword ON suggestions(keyword)\")\n",
        "    con.commit()\n",
        "    con.close()\n",
        "\n",
        "def fetch_suggestions(keyword: str) -> list[str]:\n",
        "    url = \"https://suggestqueries.google.com/complete/search\"\n",
        "    params = {\"output\": \"toolbar\", \"hl\": \"en\", \"q\": keyword}\n",
        "    headers = {\"User-Agent\": UA}\n",
        "    r = requests.get(url, params=params, headers=headers, timeout=TIMEOUT)\n",
        "    r.raise_for_status()\n",
        "    soup = BeautifulSoup(r.text, \"xml\")\n",
        "    sugs = [node[\"data\"] for node in soup.find_all(\"suggestion\")]\n",
        "    return sugs\n",
        "\n",
        "def save_suggestions(db_path: Path, keyword: str, suggestions: list[str], source: str = \"google\"):\n",
        "    con = sqlite3.connect(str(db_path))\n",
        "    cur = con.cursor()\n",
        "    now = datetime.utcnow().isoformat(timespec=\"seconds\") + \"Z\"\n",
        "    rows = [(keyword, s, source, now) for s in suggestions]\n",
        "    # use INSERT OR IGNORE to avoid duplicates on (keyword, suggestion, source)\n",
        "    cur.executemany(\"\"\"\n",
        "        INSERT OR IGNORE INTO suggestions (keyword, suggestion, source, fetched_at)\n",
        "        VALUES (?, ?, ?, ?)\n",
        "    \"\"\", rows)\n",
        "    con.commit()\n",
        "    inserted = cur.rowcount  # number of rows changed by last operation (works for executemany in sqlite3)\n",
        "    con.close()\n",
        "    return inserted\n",
        "\n",
        "def main():\n",
        "    init_db(DB_PATH)\n",
        "    keyword = input(\"Enter keyword: \").strip()\n",
        "    if not keyword:\n",
        "        print(\"No keyword provided.\")\n",
        "        return\n",
        "\n",
        "    try:\n",
        "        suggestions = fetch_suggestions(keyword)\n",
        "    except requests.RequestException as e:\n",
        "        print(\"Error fetching suggestions:\", e)\n",
        "        return\n",
        "\n",
        "    if not suggestions:\n",
        "        print(\"No suggestions found.\")\n",
        "        return\n",
        "\n",
        "    # print to console\n",
        "    print(\"\\nSuggestions:\")\n",
        "    for s in suggestions:\n",
        "        print(\" -\", s)\n",
        "\n",
        "    # save to DB\n",
        "    inserted = save_suggestions(DB_PATH, keyword, suggestions)\n",
        "    print(f\"\\nSaved {inserted} new suggestion(s) to {DB_PATH}\")\n",
        "\n",
        "    # optional: show last few rows for this keyword\n",
        "    con = sqlite3.connect(str(DB_PATH))\n",
        "    cur = con.cursor()\n",
        "    cur.execute(\"\"\"\n",
        "        SELECT suggestion, fetched_at FROM suggestions\n",
        "        WHERE keyword = ?\n",
        "        ORDER BY fetched_at DESC, suggestion ASC\n",
        "        LIMIT 10\n",
        "    \"\"\", (keyword,))\n",
        "    rows = cur.fetchall()\n",
        "    con.close()\n",
        "\n",
        "    print(\"\\nRecent entries in DB for this keyword:\")\n",
        "    for s, ts in rows:\n",
        "        print(f\" - {s}  ({ts})\")\n",
        "\n",
        "if __name__ == \"__main__\":\n",
        "    main()\n"
      ],
      "metadata": {
        "colab": {
          "base_uri": "https://localhost:8080/"
        },
        "id": "1cV99N8QoRRH",
        "outputId": "86a51e57-75fd-42fb-b984-8c0e1a0c20d8"
      },
      "execution_count": 6,
      "outputs": [
        {
          "output_type": "stream",
          "name": "stdout",
          "text": [
            "Enter keyword: sqlite connection\n",
            "\n",
            "Suggestions:\n",
            " - sqlite connection string\n",
            " - sqlite connection pool\n",
            " - sqlite connection\n",
            " - sqlite connection string c#\n",
            " - sqlite connection string example\n",
            " - sqlite connection string python\n",
            " - sqlite connection pooling c#\n",
            " - sqlite connection string options\n",
            " - sqlite connection vs cursor\n",
            " - sqlite connection in python\n",
            "\n",
            "Saved 10 new suggestion(s) to suggestions.db\n",
            "\n",
            "Recent entries in DB for this keyword:\n",
            " - sqlite connection  (2025-08-19T04:41:12Z)\n",
            " - sqlite connection in python  (2025-08-19T04:41:12Z)\n",
            " - sqlite connection pool  (2025-08-19T04:41:12Z)\n",
            " - sqlite connection pooling c#  (2025-08-19T04:41:12Z)\n",
            " - sqlite connection string  (2025-08-19T04:41:12Z)\n",
            " - sqlite connection string c#  (2025-08-19T04:41:12Z)\n",
            " - sqlite connection string example  (2025-08-19T04:41:12Z)\n",
            " - sqlite connection string options  (2025-08-19T04:41:12Z)\n",
            " - sqlite connection string python  (2025-08-19T04:41:12Z)\n",
            " - sqlite connection vs cursor  (2025-08-19T04:41:12Z)\n"
          ]
        }
      ]
    }
  ]
}