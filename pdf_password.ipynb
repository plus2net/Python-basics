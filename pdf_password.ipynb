{
  "nbformat": 4,
  "nbformat_minor": 0,
  "metadata": {
    "kernelspec": {
      "display_name": "Python 3",
      "language": "python",
      "name": "python3"
    },
    "language_info": {
      "codemirror_mode": {
        "name": "ipython",
        "version": 3
      },
      "file_extension": ".py",
      "mimetype": "text/x-python",
      "name": "python",
      "nbconvert_exporter": "python",
      "pygments_lexer": "ipython3",
      "version": "3.6.3"
    },
    "colab": {
      "provenance": [],
      "include_colab_link": true
    }
  },
  "cells": [
    {
      "cell_type": "markdown",
      "metadata": {
        "id": "view-in-github",
        "colab_type": "text"
      },
      "source": [
        "<a href=\"https://colab.research.google.com/github/plus2net/Python-basics/blob/main/pdf_password.ipynb\" target=\"_parent\"><img src=\"https://colab.research.google.com/assets/colab-badge.svg\" alt=\"Open In Colab\"/></a>"
      ]
    },
    {
      "cell_type": "markdown",
      "source": [
        "![alt text](https://www.plus2net.com/images/top2.jpg)        Read more on [Adding password to PDF file](https://www.plus2net.com/python/pdf-password.php)"
      ],
      "metadata": {
        "id": "92fALlH3obiE"
      }
    },
    {
      "cell_type": "markdown",
      "source": [
        "# Part I : Creating a Single Password-Protected PDF"
      ],
      "metadata": {
        "id": "4U_NqUt2Rpn4"
      }
    },
    {
      "cell_type": "code",
      "execution_count": null,
      "source": [
        "pip install reportlab # Run this to add the module"
      ],
      "outputs": [],
      "metadata": {
        "id": "Ylg7JbjIAZME"
      }
    },
    {
      "cell_type": "code",
      "source": [
        "from reportlab.pdfgen import canvas\n",
        "from reportlab.lib import pdfencrypt\n",
        "pw=pdfencrypt.StandardEncryption('test') # password is test\n",
        "my_path='my_pdf.pdf'# file path\n",
        "c = canvas.Canvas(my_path,bottomup=0,encrypt=pw)\n",
        "c.drawString(50,200,\"Hello World\") # write text in page\n",
        "c.showPage() # saves current page\n",
        "c.save() # stores the file and close  the canvas"
      ],
      "metadata": {
        "id": "szy2IT7JR2Ie"
      },
      "execution_count": 3,
      "outputs": []
    },
    {
      "cell_type": "markdown",
      "source": [
        "Download the my_pdf.pdf file to local system"
      ],
      "metadata": {
        "id": "UtqVCCtkSX6P"
      }
    },
    {
      "cell_type": "code",
      "source": [
        "from google.colab import files\n",
        "files.download('my_pdf.pdf') # download the file"
      ],
      "metadata": {
        "id": "IA_KXfVJSMHg"
      },
      "execution_count": null,
      "outputs": []
    },
    {
      "cell_type": "markdown",
      "source": [
        "# Part II : Creating multiple Password-Protected PDFs"
      ],
      "metadata": {
        "id": "Sf-aXvBxShmJ"
      }
    },
    {
      "cell_type": "code",
      "source": [
        "from reportlab.pdfgen import canvas\n",
        "from datetime import datetime\n",
        "from reportlab.lib import pdfencrypt\n",
        "\n",
        "path='my_pdf_'# file path\n",
        "\n",
        "l1 = [(1, 'John Deo', 'Four', 75, 'female','2010-02-25'),\n",
        "      (2, 'Max Ruin', 'Three', 85, 'male','2010-12-12'),\n",
        "      (3, 'Arnold', 'Three', 55, 'male','2011-03-31')]  # Data to be used\n",
        "for rows in l1:\n",
        "    f=rows[0] # first column or id as file name\n",
        "    my_path=path+str(f)+'.pdf' # Path with file name\n",
        "\n",
        "    dt=datetime.strptime(rows[5],'%Y-%m-%d') # date object\n",
        "    str_dt=datetime.strftime(dt,'%b') # Month part only like Jan, Feb , Mar\n",
        "    str_name=rows[1][0:3] # first 3 chars of the name\n",
        "    str_pw=(str_name+str_dt).lower() # johfeb maxdec arnmar\n",
        "\n",
        "    pw=pdfencrypt.StandardEncryption(str_pw)\n",
        "    c = canvas.Canvas(my_path,bottomup=0,encrypt=pw)\n",
        "    my_data=str(rows[0]) + ','+ rows[1] + ','+ rows[2]+ ','+ str(rows[3])+ ','+ rows[4]\n",
        "    c.drawString(50,200,my_data) # write text in page\n",
        "\n",
        "    c.showPage() # saves current page\n",
        "    c.save() # stores the file and close  the canvas"
      ],
      "metadata": {
        "id": "KmRQ-I6jSqTO"
      },
      "execution_count": null,
      "outputs": []
    },
    {
      "cell_type": "markdown",
      "source": [
        "# Part III : Restricting Editing and Printing Permissions in PDFs"
      ],
      "metadata": {
        "id": "5BSRIYCETCKP"
      }
    },
    {
      "cell_type": "code",
      "source": [
        "from reportlab.pdfgen import canvas\n",
        "from reportlab.lib import pdfencrypt\n",
        "\n",
        "pw = pdfencrypt.StandardEncryption(userPassword='xyz',\n",
        "                                   ownerPassword='abc',\n",
        "                                   canPrint=False,\n",
        "                                   canModify=False,\n",
        "                                   canCopy=False,\n",
        "                                   canAnnotate=False)\n",
        "\n",
        "#my_path = 'D:\\\\testing\\\\my_pdf\\\\my_pdf.pdf'  # pdf file path\n",
        "my_path = 'my_pdf.pdf'  # pdf file path\n",
        "c = canvas.Canvas(my_path, bottomup=0, encrypt=pw)  # canvas\n",
        "c.drawString(50, 200, \"this is protected\")  # write text in page\n",
        "c.showPage()  # saves current page\n",
        "c.save()  # stores the file and closes the canvas"
      ],
      "metadata": {
        "id": "lMkTyr5dTUHH"
      },
      "execution_count": 4,
      "outputs": []
    },
    {
      "cell_type": "markdown",
      "source": [
        "Download the pdf file to your local system"
      ],
      "metadata": {
        "id": "yOrzCEglvO50"
      }
    },
    {
      "cell_type": "code",
      "source": [
        "from google.colab import files\n",
        "files.download('my_pdf.pdf')"
      ],
      "metadata": {
        "colab": {
          "base_uri": "https://localhost:8080/",
          "height": 17
        },
        "id": "8G7H4ezbM1It",
        "outputId": "2566eb2d-d48f-4d41-f891-0b7d8d856050"
      },
      "execution_count": null,
      "outputs": [
        {
          "output_type": "display_data",
          "data": {
            "text/plain": [
              "<IPython.core.display.Javascript object>"
            ],
            "application/javascript": [
              "\n",
              "    async function download(id, filename, size) {\n",
              "      if (!google.colab.kernel.accessAllowed) {\n",
              "        return;\n",
              "      }\n",
              "      const div = document.createElement('div');\n",
              "      const label = document.createElement('label');\n",
              "      label.textContent = `Downloading \"${filename}\": `;\n",
              "      div.appendChild(label);\n",
              "      const progress = document.createElement('progress');\n",
              "      progress.max = size;\n",
              "      div.appendChild(progress);\n",
              "      document.body.appendChild(div);\n",
              "\n",
              "      const buffers = [];\n",
              "      let downloaded = 0;\n",
              "\n",
              "      const channel = await google.colab.kernel.comms.open(id);\n",
              "      // Send a message to notify the kernel that we're ready.\n",
              "      channel.send({})\n",
              "\n",
              "      for await (const message of channel.messages) {\n",
              "        // Send a message to notify the kernel that we're ready.\n",
              "        channel.send({})\n",
              "        if (message.buffers) {\n",
              "          for (const buffer of message.buffers) {\n",
              "            buffers.push(buffer);\n",
              "            downloaded += buffer.byteLength;\n",
              "            progress.value = downloaded;\n",
              "          }\n",
              "        }\n",
              "      }\n",
              "      const blob = new Blob(buffers, {type: 'application/binary'});\n",
              "      const a = document.createElement('a');\n",
              "      a.href = window.URL.createObjectURL(blob);\n",
              "      a.download = filename;\n",
              "      div.appendChild(a);\n",
              "      a.click();\n",
              "      div.remove();\n",
              "    }\n",
              "  "
            ]
          },
          "metadata": {}
        },
        {
          "output_type": "display_data",
          "data": {
            "text/plain": [
              "<IPython.core.display.Javascript object>"
            ],
            "application/javascript": [
              "download(\"download_eec19e60-fe58-499d-9487-add3b8a14794\", \"my_pdf.pdf\", 55239)"
            ]
          },
          "metadata": {}
        }
      ]
    },
    {
      "cell_type": "markdown",
      "source": [
        "[Download the code and tutorial on Password protected PDF files](https://www.plus2net.com/python/pdf-password.php)\n",
        "\n",
        "\n",
        "Web site: www.plus2net.com\n",
        "\n",
        "YouTube: https://www.youtube.com/@plus2net1\n",
        "\n",
        "Facebook: https://www.facebook.com/plus2net\n",
        "\n",
        "Instagram: https://www.instagram.com/plus2net.in/\n",
        "\n",
        "LinkedIn: https://www.linkedin.com/in/plus2net/\n",
        "\n",
        "Write to us  https: //www.plus2net.com/contactus.php"
      ],
      "metadata": {
        "id": "x32Q9CyYo69X"
      }
    }
  ]
}