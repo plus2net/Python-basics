{
  "nbformat": 4,
  "nbformat_minor": 0,
  "metadata": {
    "colab": {
      "provenance": [],
      "authorship_tag": "ABX9TyN4BuZ/XEACKT/TrvWdYgKI",
      "include_colab_link": true
    },
    "kernelspec": {
      "name": "python3",
      "display_name": "Python 3"
    }
  },
  "cells": [
    {
      "cell_type": "markdown",
      "metadata": {
        "id": "view-in-github",
        "colab_type": "text"
      },
      "source": [
        "<a href=\"https://colab.research.google.com/github/plus2net/Python-basics/blob/main/online_class_variables_types_v2.ipynb\" target=\"_parent\"><img src=\"https://colab.research.google.com/assets/colab-badge.svg\" alt=\"Open In Colab\"/></a>"
      ]
    },
    {
      "cell_type": "markdown",
      "source": [
        "![alt text](https://www.plus2net.com/images/top2.jpg)        Read more on [Python  Variable type](https://www.plus2net.com/python/type.php)"
      ],
      "metadata": {
        "id": "audw05pSF0iu"
      }
    },
    {
      "cell_type": "markdown",
      "source": [
        "\n",
        "\n",
        "*   None\n",
        "*   Numeric ( Integer , float, complex )\n",
        "*   Sequence (list, tuple, set, range)\n",
        "* Bool\n",
        "* String ( or str )\n",
        "* Dictionary"
      ],
      "metadata": {
        "id": "__zkcEmrF3gR"
      }
    },
    {
      "cell_type": "markdown",
      "metadata": {
        "id": "WMByX06CKKKE"
      },
      "source": [
        "By usnig type() we can print the type of the variable or object"
      ]
    },
    {
      "cell_type": "markdown",
      "source": [
        "Use integer, float and complex variable and check the type"
      ],
      "metadata": {
        "id": "6thqHvIYh74U"
      }
    },
    {
      "cell_type": "markdown",
      "source": [
        "list,type, set , dict  "
      ],
      "metadata": {
        "id": "b3v2E3Pm9qES"
      }
    },
    {
      "cell_type": "markdown",
      "metadata": {
        "id": "PqNx6LxZKBjp"
      },
      "source": [
        "None type data"
      ]
    },
    {
      "cell_type": "markdown",
      "source": [
        "Use range and check type"
      ],
      "metadata": {
        "id": "yDcTT5TZiDWx"
      }
    },
    {
      "cell_type": "markdown",
      "source": [
        "Use Boolean type variable"
      ],
      "metadata": {
        "id": "FsAHgOuriGaZ"
      }
    },
    {
      "cell_type": "markdown",
      "source": [
        "print one string data type"
      ],
      "metadata": {
        "id": "yyWsfJx3iL0z"
      }
    },
    {
      "cell_type": "markdown",
      "source": [
        "You can create your own data type."
      ],
      "metadata": {
        "id": "Gqdhaeu6-qBf"
      }
    },
    {
      "cell_type": "code",
      "source": [
        "class Animal():\n",
        "    #instance attributes\n",
        "    def __init__(self1,name1,age):\n",
        "        self1.name= name1\n",
        "        self1.age=age\n",
        "\n",
        "#instantiate the Animal  class\n",
        "tiger=Animal(\"Ronald\",5)  # tiger is an object of Animal class\n",
        "\n",
        "print(type(tiger)) # <class '__main__.Animal'>"
      ],
      "metadata": {
        "id": "5A14UVjuEzSy"
      },
      "execution_count": null,
      "outputs": []
    },
    {
      "cell_type": "markdown",
      "source": [
        "Converting one data type to other , first integer then string"
      ],
      "metadata": {
        "id": "ghmM-GJJ-2A9"
      }
    },
    {
      "cell_type": "markdown",
      "source": [
        "Use the same variable to store different type of data , use integer and conver it to float"
      ],
      "metadata": {
        "id": "sFEzwWVghtRS"
      }
    },
    {
      "cell_type": "markdown",
      "source": [
        "Use the same variable to store different type of data , first float and then integer"
      ],
      "metadata": {
        "id": "he9SE3_shoC6"
      }
    },
    {
      "cell_type": "markdown",
      "source": [
        "Create one complex data type"
      ],
      "metadata": {
        "id": "NqHPifRXiqna"
      }
    },
    {
      "cell_type": "markdown",
      "source": [
        "Convert foat to Integer type"
      ],
      "metadata": {
        "id": "9uMOLt-7CH9Y"
      }
    },
    {
      "cell_type": "markdown",
      "source": [
        "Can you convert all data types ?"
      ],
      "metadata": {
        "id": "mbYUUq2-CMJ9"
      }
    },
    {
      "cell_type": "markdown",
      "source": [
        "Why there is an error below ?"
      ],
      "metadata": {
        "id": "kPHrI2epJnt0"
      }
    },
    {
      "cell_type": "code",
      "source": [
        "my_int='abc'\n",
        "print(type(my_int)) # <class 'str'>\n",
        "my_int=int(my_int) # ValueError: invalid literal for int() with base 10: 'abc'"
      ],
      "metadata": {
        "id": "HUt0sZWHJZB0"
      },
      "execution_count": null,
      "outputs": []
    },
    {
      "cell_type": "markdown",
      "source": [
        "Try to answer\n",
        "\n",
        "1.   How to know type of variable ?\n",
        "2. How to convert integer data type to float ?\n",
        "3. Can we add two strings?\n",
        "4. Can I add integer to String ?\n",
        "5. Can we convert all data to different data types ?\n"
      ],
      "metadata": {
        "id": "1lxWaikM5uJB"
      }
    }
  ]
}