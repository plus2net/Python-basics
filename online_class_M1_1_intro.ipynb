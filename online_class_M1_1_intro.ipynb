{
  "nbformat": 4,
  "nbformat_minor": 0,
  "metadata": {
    "colab": {
      "provenance": [],
      "authorship_tag": "ABX9TyOYF3/aaRGWZA8b9IhuN7zY",
      "include_colab_link": true
    },
    "kernelspec": {
      "name": "python3",
      "display_name": "Python 3"
    }
  },
  "cells": [
    {
      "cell_type": "markdown",
      "metadata": {
        "id": "view-in-github",
        "colab_type": "text"
      },
      "source": [
        "<a href=\"https://colab.research.google.com/github/plus2net/Python-basics/blob/main/online_class_M1_1_intro.ipynb\" target=\"_parent\"><img src=\"https://colab.research.google.com/assets/colab-badge.svg\" alt=\"Open In Colab\"/></a>"
      ]
    },
    {
      "cell_type": "markdown",
      "source": [
        "![alt text](https://www.plus2net.com/images/top2.jpg)        Read more on [Python ](https://www.plus2net.com/python/site_map.php)"
      ],
      "metadata": {
        "id": "audw05pSF0iu"
      }
    },
    {
      "cell_type": "markdown",
      "source": [
        "# Introduction to Colab and how to use\n"
      ],
      "metadata": {
        "id": "RzkR34yLDBpl"
      }
    },
    {
      "cell_type": "code",
      "source": [
        "# this is comment\n",
        "print('Hello world')"
      ],
      "metadata": {
        "colab": {
          "base_uri": "https://localhost:8080/"
        },
        "id": "PQe07wqfxIxS",
        "outputId": "321c4424-6b6d-465b-e570-514af987156e"
      },
      "execution_count": null,
      "outputs": [
        {
          "output_type": "stream",
          "name": "stdout",
          "text": [
            "Hello world\n"
          ]
        }
      ]
    },
    {
      "cell_type": "markdown",
      "source": [
        "What is a cell in Colab  ? There are two types: Code and Text.  We get a button at left to run a Code cell.\n"
      ],
      "metadata": {
        "id": "1lxWaikM5uJB"
      }
    },
    {
      "cell_type": "markdown",
      "source": [
        "What is the version of python my colab is using ?"
      ],
      "metadata": {
        "id": "mItZ1jrhDXd1"
      }
    },
    {
      "cell_type": "code",
      "source": [
        "import sys\n",
        "print(sys.version)"
      ],
      "metadata": {
        "colab": {
          "base_uri": "https://localhost:8080/"
        },
        "id": "PNPk3K9Nxple",
        "outputId": "d5749f86-0e27-42c2-f8e8-2cd6943cfde8"
      },
      "execution_count": null,
      "outputs": [
        {
          "output_type": "stream",
          "name": "stdout",
          "text": [
            "3.11.11 (main, Dec  4 2024, 08:55:07) [GCC 11.4.0]\n"
          ]
        }
      ]
    },
    {
      "cell_type": "markdown",
      "source": [
        "Show me the list of libraries installed here. ( Libraries are like available tools in our toolbox to do a job )"
      ],
      "metadata": {
        "id": "obgO5XGlFBTT"
      }
    },
    {
      "cell_type": "code",
      "source": [
        "%pip freeze"
      ],
      "metadata": {
        "collapsed": true,
        "id": "nSSAqcgKzUpI"
      },
      "execution_count": null,
      "outputs": []
    },
    {
      "cell_type": "code",
      "source": [
        "!pip list"
      ],
      "metadata": {
        "collapsed": true,
        "id": "FGj5_UzVzetR"
      },
      "execution_count": null,
      "outputs": []
    },
    {
      "cell_type": "code",
      "source": [
        "import numpy\n",
        "print(numpy.__version__)"
      ],
      "metadata": {
        "id": "3mDX6kqiz3IH"
      },
      "execution_count": null,
      "outputs": []
    },
    {
      "cell_type": "code",
      "source": [
        "pip install pandas"
      ],
      "metadata": {
        "collapsed": true,
        "id": "qzop9MB-0C_S"
      },
      "execution_count": null,
      "outputs": []
    },
    {
      "cell_type": "markdown",
      "source": [
        "Try to understand the meaning of ! and & in above code."
      ],
      "metadata": {
        "id": "8vrYQlmNN1Zi"
      }
    },
    {
      "cell_type": "code",
      "source": [
        "pip install tk"
      ],
      "metadata": {
        "id": "5_t1vJ3X0JV4",
        "collapsed": true
      },
      "execution_count": null,
      "outputs": []
    },
    {
      "cell_type": "code",
      "source": [
        "import _tkinter\n",
        "print(_tkinter.TCL_VERSION)"
      ],
      "metadata": {
        "colab": {
          "base_uri": "https://localhost:8080/"
        },
        "id": "od04rTdj0U3S",
        "outputId": "8f457a2b-219f-4eb1-fee0-9444c1db7833"
      },
      "execution_count": null,
      "outputs": [
        {
          "output_type": "stream",
          "name": "stdout",
          "text": [
            "8.6\n"
          ]
        }
      ]
    },
    {
      "cell_type": "code",
      "source": [
        "import matplotlib.pyplot as plt\n",
        "x=[1,2,3,4,5]\n",
        "y=[2,4,6,8,4]\n",
        "plt.plot(x,y)\n",
        "plt.show()"
      ],
      "metadata": {
        "colab": {
          "base_uri": "https://localhost:8080/",
          "height": 430
        },
        "id": "6xRmKlwd2dud",
        "outputId": "63085ec4-3622-415d-b190-dfbabcd76dc4"
      },
      "execution_count": null,
      "outputs": [
        {
          "output_type": "display_data",
          "data": {
            "text/plain": [
              "<Figure size 640x480 with 1 Axes>"
            ],
            "image/png": "[encoded data removed]"
          },
          "metadata": {}
        }
      ]
    }
  ]
}