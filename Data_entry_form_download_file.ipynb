{
  "nbformat": 4,
  "nbformat_minor": 0,
  "metadata": {
    "colab": {
      "provenance": [],
      "authorship_tag": "ABX9TyN/9g44rW0kIXhsujd6Z/gW",
      "include_colab_link": true
    },
    "kernelspec": {
      "name": "python3",
      "display_name": "Python 3"
    },
    "language_info": {
      "name": "python"
    }
  },
  "cells": [
    {
      "cell_type": "markdown",
      "metadata": {
        "id": "view-in-github",
        "colab_type": "text"
      },
      "source": [
        "<a href=\"https://colab.research.google.com/github/plus2net/Python-basics/blob/main/Data_entry_form_download_file.ipynb\" target=\"_parent\"><img src=\"https://colab.research.google.com/assets/colab-badge.svg\" alt=\"Open In Colab\"/></a>"
      ]
    },
    {
      "cell_type": "markdown",
      "source": [
        "![alt text](https://www.plus2net.com/images/top2.jpg)        Read more on [Data Entry form to store in CSV file using colab   . ](https://www.plus2net.com/python/colab-ipywidgets-data-entry.php)"
      ],
      "metadata": {
        "id": "B-rFbH1FpBcT"
      }
    },
    {
      "cell_type": "markdown",
      "metadata": {
        "id": "493cac40"
      },
      "source": [
        "# Task\n",
        "Create a data entry form for student details (name, class, mark, gender) with an auto-incrementing ID, save the entries to a CSV file named \"student.csv\", and provide a download link for the CSV file."
      ]
    },
    {
      "cell_type": "markdown",
      "metadata": {
        "id": "0c40af88"
      },
      "source": [
        "**Reasoning**:\n",
        "Define the function to handle form submission, process the data, append it to the CSV, and clear the form fields.\n",
        "\n"
      ]
    },
    {
      "cell_type": "markdown",
      "metadata": {
        "id": "5a7f33a3"
      },
      "source": [
        "## Display existing data (optional but recommended)\n",
        "\n",
        "### Subtask:\n",
        "Add a step to display the current content of the CSV file after each entry. This helps verify that the data is being saved correctly.\n"
      ]
    },
    {
      "cell_type": "markdown",
      "metadata": {
        "id": "b801647c"
      },
      "source": [
        "**Reasoning**:\n",
        "Modify the `add_student` function to read and display the updated CSV content after each successful entry, clearing previous output.\n",
        "\n"
      ]
    },
    {
      "cell_type": "markdown",
      "metadata": {
        "id": "b759134a"
      },
      "source": [
        "## Provide csv download link\n",
        "\n",
        "### Subtask:\n",
        "Generate a cell that creates a download link for the `student.csv` file.\n"
      ]
    },
    {
      "cell_type": "markdown",
      "source": [
        "*******************************************************"
      ],
      "metadata": {
        "id": "RdMio8Gii1qW"
      }
    },
    {
      "cell_type": "markdown",
      "metadata": {
        "id": "38e46a61"
      },
      "source": [
        "Download sample student.csv file , By using the code given below all rows of data can be removed.\n",
        "\n"
      ]
    },
    {
      "cell_type": "code",
      "source": [
        "!wget https://www.plus2net.com/python/download/student.csv"
      ],
      "metadata": {
        "id": "ScjQ0o2vmmqi"
      },
      "execution_count": null,
      "outputs": []
    },
    {
      "cell_type": "markdown",
      "source": [
        "Create the form for data entry"
      ],
      "metadata": {
        "id": "vLTiN7DmoyBD"
      }
    },
    {
      "cell_type": "code",
      "metadata": {
        "id": "b7fc5a02"
      },
      "source": [
        "import ipywidgets as widgets\n",
        "from IPython.display import display\n",
        "\n",
        "# Create input widgets\n",
        "name_input = widgets.Text(description=\"Name:\")\n",
        "class_input = widgets.Dropdown(options=[\"Four\", \"Five\", \"Six\"],\n",
        "                    description=\"Class:\") # Changed to Dropdown\n",
        "mark_input = widgets.IntText(description=\"Mark:\")\n",
        "gender_input = widgets.RadioButtons(\n",
        "    options=[\"Male\", \"Female\", \"Other\"],\n",
        "    description=\"Gender:\")\n",
        "add_button = widgets.Button(description=\"Add Student\")\n",
        "\n",
        "# Arrange widgets in a horizontal layout\n",
        "form_layout = widgets.HBox([name_input,\n",
        "                            class_input,\n",
        "                            mark_input,\n",
        "                            gender_input,\n",
        "                            add_button])\n",
        "\n",
        "# Display the form\n",
        "display(form_layout)"
      ],
      "execution_count": null,
      "outputs": []
    },
    {
      "cell_type": "markdown",
      "source": [
        "Function to append data and display rows"
      ],
      "metadata": {
        "id": "LkH6Sg5xjFo_"
      }
    },
    {
      "cell_type": "code",
      "metadata": {
        "id": "eab13a36"
      },
      "source": [
        "import pandas as pd\n",
        "import os\n",
        "from IPython.display import display, clear_output\n",
        "\n",
        "def add_student(button):\n",
        "    \"\"\"Handles adding a student's details to the CSV file and displays the updated data.\"\"\"\n",
        "    name = name_input.value\n",
        "    student_class = class_input.value\n",
        "    mark = mark_input.value\n",
        "    gender = gender_input.value\n",
        "\n",
        "    file_path = \"student.csv\"\n",
        "\n",
        "    # Ensure the file exists with a header if it's being created for the first time\n",
        "    if not os.path.exists(file_path):\n",
        "        df = pd.DataFrame(columns=['id', 'name', 'class', 'mark', 'gender'])\n",
        "        df.to_csv(file_path, index=False)\n",
        "\n",
        "    # Read the existing data\n",
        "    df = pd.read_csv(file_path)\n",
        "\n",
        "    # Filter out rows with missing 'name' before processing\n",
        "    df.dropna(subset=['name'], inplace=True)\n",
        "\n",
        "    # Determine the next ID\n",
        "    next_id = df['id'].max() + 1 if not df.empty else 1\n",
        "\n",
        "    # Create a new DataFrame for the current student data\n",
        "    new_student_df = pd.DataFrame([{'id': next_id, 'name': name, 'class': student_class, 'mark': mark, 'gender': gender}])\n",
        "\n",
        "    # Append the new student data to the existing data\n",
        "    df = pd.concat([df, new_student_df], ignore_index=True)\n",
        "\n",
        "    # Write the entire DataFrame back to the CSV file\n",
        "    df.to_csv(file_path, mode='w', header=True, index=False)\n",
        "\n",
        "\n",
        "    # Clear the input fields\n",
        "    name_input.value = \"\"\n",
        "    class_input.value = \"Four\" # Changed to a valid option\n",
        "    mark_input.value = 0\n",
        "    gender_input.value = \"Male\" # Reset to default or a sensible value\n",
        "\n",
        "    # Read and display the updated CSV (this read will also filter out rows with missing name)\n",
        "    clear_output(wait=True) # Clear previous output\n",
        "    updated_df = pd.read_csv(file_path)\n",
        "    # Filter out rows with missing 'name' for display as well\n",
        "    updated_df.dropna(subset=['name'], inplace=True)\n",
        "\n",
        "    display(form_layout) # Redisplay the form\n",
        "    display(updated_df) # Display the updated DataFrame\n",
        "\n",
        "# Link the function to the button's on_click event\n",
        "add_button.on_click(add_student)"
      ],
      "execution_count": null,
      "outputs": []
    },
    {
      "cell_type": "markdown",
      "source": [
        "Display all records from the student file."
      ],
      "metadata": {
        "id": "sAD5xXLzikOP"
      }
    },
    {
      "cell_type": "code",
      "metadata": {
        "colab": {
          "base_uri": "https://localhost:8080/"
        },
        "id": "e4f43cf0",
        "outputId": "6a11fe1c-3095-4c31-d053-371fb6d2285e"
      },
      "source": [
        "# Read and print the raw content of the CSV file\n",
        "try:\n",
        "    with open(\"student.csv\", \"r\") as f:\n",
        "        print(f.read())\n",
        "except FileNotFoundError:\n",
        "    print(\"student.csv not found. Please add some data using the form first.\")"
      ],
      "execution_count": null,
      "outputs": [
        {
          "output_type": "stream",
          "name": "stdout",
          "text": [
            "id,name,class,mark,gender\n",
            "1,asdf,Five,55,Other\n",
            "2,asdfasdfsdf,Five,88,Female\n",
            "3,smo,Five,89,Male\n",
            "\n"
          ]
        }
      ]
    },
    {
      "cell_type": "markdown",
      "source": [
        "Delete all rows of data from CSV file."
      ],
      "metadata": {
        "id": "OfBAMNdUiobW"
      }
    },
    {
      "cell_type": "code",
      "metadata": {
        "colab": {
          "base_uri": "https://localhost:8080/"
        },
        "id": "b86da59b",
        "outputId": "6d004c13-f9cd-4fc2-b548-8d3cc910211a"
      },
      "source": [
        "import pandas as pd\n",
        "import os\n",
        "\n",
        "file_path = \"student.csv\"\n",
        "\n",
        "if os.path.exists(file_path):\n",
        "    # Read the header\n",
        "    df = pd.read_csv(file_path)\n",
        "    # Create an empty DataFrame with the same columns\n",
        "    empty_df = pd.DataFrame(columns=df.columns)\n",
        "    # Write the empty DataFrame back to the CSV, keeping the header\n",
        "    empty_df.to_csv(file_path, mode='w', header=True, index=False)\n",
        "    print(f\"All data rows deleted from {file_path}. The header remains.\")\n",
        "else:\n",
        "    print(f\"{file_path} not found. No data to delete.\")"
      ],
      "execution_count": null,
      "outputs": [
        {
          "output_type": "stream",
          "name": "stdout",
          "text": [
            "All data rows deleted from student.csv. The header remains.\n"
          ]
        }
      ]
    },
    {
      "cell_type": "markdown",
      "source": [
        "Allow file download to local system."
      ],
      "metadata": {
        "id": "SIJvIn23itKG"
      }
    },
    {
      "cell_type": "code",
      "source": [
        "from google.colab import files\n",
        "files.download('student.csv')"
      ],
      "metadata": {
        "id": "WZcCPjsMiDkH"
      },
      "execution_count": null,
      "outputs": []
    }
  ]
}