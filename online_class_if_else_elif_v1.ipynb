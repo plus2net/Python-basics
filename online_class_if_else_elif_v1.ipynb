{
  "nbformat": 4,
  "nbformat_minor": 0,
  "metadata": {
    "colab": {
      "provenance": [],
      "authorship_tag": "ABX9TyMOn65oO6Pc1N9wB7aLVHLO",
      "include_colab_link": true
    },
    "kernelspec": {
      "name": "python3",
      "display_name": "Python 3"
    }
  },
  "cells": [
    {
      "cell_type": "markdown",
      "metadata": {
        "id": "view-in-github",
        "colab_type": "text"
      },
      "source": [
        "<a href=\"https://colab.research.google.com/github/plus2net/Python-basics/blob/main/online_class_if_else_elif_v1.ipynb\" target=\"_parent\"><img src=\"https://colab.research.google.com/assets/colab-badge.svg\" alt=\"Open In Colab\"/></a>"
      ]
    },
    {
      "cell_type": "markdown",
      "source": [
        "![alt text](https://www.plus2net.com/images/top2.jpg)        Read more on [Python  if else elif ](https://www.plus2net.com/python/if-else.php)"
      ],
      "metadata": {
        "id": "audw05pSF0iu"
      }
    },
    {
      "cell_type": "markdown",
      "metadata": {
        "id": "WMByX06CKKKE"
      },
      "source": [
        "Start with a simple example to understand True and False"
      ]
    },
    {
      "cell_type": "code",
      "source": [
        "x=10\n",
        "y=20\n",
        "if(x>y):\n",
        "    print(\"x is greater than y\")\n",
        "else:\n",
        "    print(\"y is greater than x\")"
      ],
      "metadata": {
        "id": "aI2inD7r0nOs",
        "colab": {
          "base_uri": "https://localhost:8080/"
        },
        "outputId": "9eba838f-4fa2-426d-dd33-6b51d6998e8a"
      },
      "execution_count": 2,
      "outputs": [
        {
          "output_type": "stream",
          "name": "stdout",
          "text": [
            "y is greater than x\n"
          ]
        }
      ]
    }
  ]
}