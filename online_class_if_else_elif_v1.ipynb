{
  "nbformat": 4,
  "nbformat_minor": 0,
  "metadata": {
    "colab": {
      "provenance": [],
      "authorship_tag": "ABX9TyMw5MT2ttVMQB7rthtRd2Qx",
      "include_colab_link": true
    },
    "kernelspec": {
      "name": "python3",
      "display_name": "Python 3"
    }
  },
  "cells": [
    {
      "cell_type": "markdown",
      "metadata": {
        "id": "view-in-github",
        "colab_type": "text"
      },
      "source": [
        "<a href=\"https://colab.research.google.com/github/plus2net/Python-basics/blob/main/online_class_if_else_elif_v1.ipynb\" target=\"_parent\"><img src=\"https://colab.research.google.com/assets/colab-badge.svg\" alt=\"Open In Colab\"/></a>"
      ]
    },
    {
      "cell_type": "markdown",
      "source": [
        "![alt text](https://www.plus2net.com/images/top2.jpg)        Read more on [Python  if else elif ](https://www.plus2net.com/python/if-else.php)"
      ],
      "metadata": {
        "id": "audw05pSF0iu"
      }
    },
    {
      "cell_type": "markdown",
      "metadata": {
        "id": "WMByX06CKKKE"
      },
      "source": [
        "Start with a simple example to understand True and False"
      ]
    },
    {
      "cell_type": "code",
      "source": [
        "x=30\n",
        "y=20\n",
        "if(x>y):\n",
        "    print(\"x is greater than y\")\n",
        "else:\n",
        "    print(\"y is greater than x\")"
      ],
      "metadata": {
        "id": "aI2inD7r0nOs"
      },
      "execution_count": null,
      "outputs": []
    },
    {
      "cell_type": "code",
      "source": [
        "x=50\n",
        "y=20\n",
        "if(x>y):\n",
        "  print(\"x is greater than y\")\n",
        "elif(y>15):\n",
        "  print('Y is greeate than 15')\n",
        "else:\n",
        "  print(' Y is greater than x but less than 15')"
      ],
      "metadata": {
        "id": "MdXxa4M4lYOl"
      },
      "execution_count": null,
      "outputs": []
    },
    {
      "cell_type": "markdown",
      "source": [
        "Using Short code"
      ],
      "metadata": {
        "id": "kZ0iZfrIrmlc"
      }
    },
    {
      "cell_type": "code",
      "source": [
        "x=10\n",
        "y=20\n",
        "if(y>x):print('x is greate than y')"
      ],
      "metadata": {
        "colab": {
          "base_uri": "https://localhost:8080/"
        },
        "id": "3OVDWTLPmTw6",
        "outputId": "3504e65c-4031-4070-f72d-0925cb54893a"
      },
      "execution_count": null,
      "outputs": [
        {
          "output_type": "stream",
          "name": "stdout",
          "text": [
            "x is greate than y\n"
          ]
        }
      ]
    },
    {
      "cell_type": "code",
      "source": [
        "x=60\n",
        "y=20\n",
        "print(' Y is big ') if (y>x) else print('x is greate than y')"
      ],
      "metadata": {
        "colab": {
          "base_uri": "https://localhost:8080/"
        },
        "id": "ovCaYLj4mg_v",
        "outputId": "627488b4-553b-4fa5-a797-a4b0d33777c4"
      },
      "execution_count": null,
      "outputs": [
        {
          "output_type": "stream",
          "name": "stdout",
          "text": [
            "x is greate than y\n"
          ]
        }
      ]
    },
    {
      "cell_type": "code",
      "source": [
        "mark=75\n",
        "status='Pass' if mark>50 else 'Fail'\n",
        "print(status)"
      ],
      "metadata": {
        "colab": {
          "base_uri": "https://localhost:8080/"
        },
        "id": "uJMHz9XAm_cL",
        "outputId": "717d7632-8d75-445b-ab68-a69a2132035a"
      },
      "execution_count": null,
      "outputs": [
        {
          "output_type": "stream",
          "name": "stdout",
          "text": [
            "Pass\n"
          ]
        }
      ]
    },
    {
      "cell_type": "markdown",
      "source": [
        "Absolute value of input number"
      ],
      "metadata": {
        "id": "QAjfBEJnrfQq"
      }
    },
    {
      "cell_type": "code",
      "source": [
        "i=int(input(\"input a number \"))\n",
        "if(i<0):i=-i\n",
        "print(\"Absolute value is : \",i)"
      ],
      "metadata": {
        "id": "tQ2Xu8acnK0V"
      },
      "execution_count": null,
      "outputs": []
    },
    {
      "cell_type": "markdown",
      "source": [
        "Nested Conditional Statements: Sort three user input numbers"
      ],
      "metadata": {
        "id": "PrAmGmAprcuM"
      }
    },
    {
      "cell_type": "code",
      "source": [
        "#n1=int(input('First Number : '))\n",
        "#n2=int(input('Second Number : '))\n",
        "#n3=int(input('Third Number : '))\n",
        "n1=10\n",
        "n2=50\n",
        "n3=80\n",
        "if(n1>=n2 and n1>=n3):\n",
        "  if(n2>=n3):\n",
        "    print(n1,n2,n3)\n",
        "  else:\n",
        "    print(n1,n3,n2)\n",
        "\n",
        "elif(n2>=n1 and n2>=n3):\n",
        "  if(n1>=n3):\n",
        "    print(n2,n1,n3)\n",
        "  else:\n",
        "    print(n2,n3,n1)\n",
        "\n",
        "elif(n3>=n1 and n3>=n2):\n",
        "  if(n1>=n2):\n",
        "    print(n3,n1,n2)\n",
        "  else:\n",
        "    print(n3,n2,n1)"
      ],
      "metadata": {
        "id": "cU2KLaeynV2y"
      },
      "execution_count": null,
      "outputs": []
    },
    {
      "cell_type": "code",
      "source": [
        "month='Dec'\n",
        "if month=='Jan' or month=='Feb' or month=='March':\n",
        "    print(\"This is last quarter of the Financial year\")\n",
        "else:\n",
        "    print(\"Financial year is not ending now\")"
      ],
      "metadata": {
        "id": "pb8JEZhwoXn_"
      },
      "execution_count": null,
      "outputs": []
    },
    {
      "cell_type": "markdown",
      "source": [
        "Boolean Logic:"
      ],
      "metadata": {
        "id": "ke3StCGMrXj7"
      }
    },
    {
      "cell_type": "code",
      "source": [
        "temperature = 30\n",
        "is_sunny = True\n",
        "\n",
        "if temperature > 25 and is_sunny:\n",
        "    print(\"It's a hot and sunny day!\")\n",
        "else:\n",
        "    print(\"It's not a hot and sunny day.\")"
      ],
      "metadata": {
        "id": "c0PcUxPionEq"
      },
      "execution_count": null,
      "outputs": []
    },
    {
      "cell_type": "code",
      "source": [
        "is_weekend = False\n",
        "is_holiday = True\n",
        "\n",
        "if is_weekend or is_holiday:\n",
        "    print(\"Today is a holiday\")\n",
        "else:\n",
        "    print(\"It might be a working day.\")"
      ],
      "metadata": {
        "colab": {
          "base_uri": "https://localhost:8080/"
        },
        "id": "yUe9EeDeovRD",
        "outputId": "5cf67200-a5ca-4136-9869-08294bd2d1cd"
      },
      "execution_count": null,
      "outputs": [
        {
          "output_type": "stream",
          "name": "stdout",
          "text": [
            "Today is a holiday\n"
          ]
        }
      ]
    },
    {
      "cell_type": "code",
      "source": [
        "grade='A'\n",
        "if not(grade=='A'):\n",
        "    print(\"You are not in grade A \")\n",
        "else:\n",
        "    print(\"You are in A grade \")"
      ],
      "metadata": {
        "colab": {
          "base_uri": "https://localhost:8080/"
        },
        "id": "fMaxQBFEo1lR",
        "outputId": "823ab696-7b3e-40ed-a0cf-41758f5637e5"
      },
      "execution_count": null,
      "outputs": [
        {
          "output_type": "stream",
          "name": "stdout",
          "text": [
            "You are in A grade \n"
          ]
        }
      ]
    },
    {
      "cell_type": "code",
      "source": [
        "is_weekend = True\n",
        "is_holiday = False\n",
        "weather_is_good = False\n",
        "\n",
        "if (is_weekend or is_holiday) and not weather_is_good:\n",
        "    print(\"It's a perfect day for staying indoors and reading a book.\")\n",
        "else:\n",
        "    print(\"Let's go outside and enjoy the day!\")"
      ],
      "metadata": {
        "colab": {
          "base_uri": "https://localhost:8080/"
        },
        "id": "J6A1nUb6o8xx",
        "outputId": "01420833-7f35-4dee-cfe0-9da34df2387a"
      },
      "execution_count": null,
      "outputs": [
        {
          "output_type": "stream",
          "name": "stdout",
          "text": [
            "It's a perfect day for staying indoors and reading a book.\n"
          ]
        }
      ]
    },
    {
      "cell_type": "markdown",
      "source": [
        "Checking condition inside a Loop"
      ],
      "metadata": {
        "id": "ntSZG1VqrNpr"
      }
    },
    {
      "cell_type": "code",
      "source": [
        "for x in range(5,25,5):\n",
        "  if(x==15):\n",
        "    break\n",
        "  print(x)"
      ],
      "metadata": {
        "id": "KcrTS8B8rKzr"
      },
      "execution_count": null,
      "outputs": []
    },
    {
      "cell_type": "markdown",
      "source": [
        "Handling None value in if - else"
      ],
      "metadata": {
        "id": "bUZVzY4FrESu"
      }
    },
    {
      "cell_type": "code",
      "source": [
        "my_variable = None\n",
        "\n",
        "if my_variable:\n",
        "    print(\"The variable has a truthy value.\")\n",
        "else:\n",
        "    print(\"The variable is None or otherwise falsy.\")"
      ],
      "metadata": {
        "id": "4pNJguRgpKzG"
      },
      "execution_count": null,
      "outputs": []
    },
    {
      "cell_type": "markdown",
      "source": [
        "Check Divisibility"
      ],
      "metadata": {
        "id": "GVIYkb6GrAEq"
      }
    },
    {
      "cell_type": "code",
      "source": [
        "i=int(input(\"Enter any number : \"))\n",
        "if (i%5==0):print(\"Number is divisible by 5\")\n",
        "else: print(\"Number is not divisible by 5\")"
      ],
      "metadata": {
        "id": "oW_rVZp2q-rj"
      },
      "execution_count": null,
      "outputs": []
    }
  ]
}