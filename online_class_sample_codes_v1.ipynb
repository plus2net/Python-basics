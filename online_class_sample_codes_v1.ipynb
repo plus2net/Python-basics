{
  "nbformat": 4,
  "nbformat_minor": 0,
  "metadata": {
    "colab": {
      "provenance": [],
      "authorship_tag": "ABX9TyNdeMXWukLbl5WTcV3kRDQq",
      "include_colab_link": true
    },
    "kernelspec": {
      "name": "python3",
      "display_name": "Python 3"
    }
  },
  "cells": [
    {
      "cell_type": "markdown",
      "metadata": {
        "id": "view-in-github",
        "colab_type": "text"
      },
      "source": [
        "<a href=\"https://colab.research.google.com/github/plus2net/Python-basics/blob/main/online_class_sample_codes_v1.ipynb\" target=\"_parent\"><img src=\"https://colab.research.google.com/assets/colab-badge.svg\" alt=\"Open In Colab\"/></a>"
      ]
    },
    {
      "cell_type": "markdown",
      "source": [
        "![alt text](https://www.plus2net.com/images/top2.jpg)        Read more on [Python sample codes](https://www.plus2net.com/python/sample-codes.php)"
      ],
      "metadata": {
        "id": "audw05pSF0iu"
      }
    },
    {
      "cell_type": "markdown",
      "metadata": {
        "id": "WMByX06CKKKE"
      },
      "source": [
        "Factorial of an input number by looping and by recursive functions"
      ]
    },
    {
      "cell_type": "markdown",
      "source": [
        "Factors of an input number"
      ],
      "metadata": {
        "id": "UZA3pPJnl8A8"
      }
    },
    {
      "cell_type": "markdown",
      "source": [
        "Prime Numbers"
      ],
      "metadata": {
        "id": "WBe-V5gTmJjr"
      }
    },
    {
      "cell_type": "markdown",
      "source": [
        "Fibonacci numbers by looping and by recursive functions"
      ],
      "metadata": {
        "id": "9VFOWh2amcm8"
      }
    },
    {
      "cell_type": "markdown",
      "source": [
        "Sum of digits of an input number"
      ],
      "metadata": {
        "id": "93cXm3hPme2F"
      }
    }
  ]
}