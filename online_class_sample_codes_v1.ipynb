{
  "nbformat": 4,
  "nbformat_minor": 0,
  "metadata": {
    "colab": {
      "provenance": [],
      "authorship_tag": "ABX9TyPm7oeibjvQBLw2IWY0PAQj",
      "include_colab_link": true
    },
    "kernelspec": {
      "name": "python3",
      "display_name": "Python 3"
    }
  },
  "cells": [
    {
      "cell_type": "markdown",
      "metadata": {
        "id": "view-in-github",
        "colab_type": "text"
      },
      "source": [
        "<a href=\"https://colab.research.google.com/github/plus2net/Python-basics/blob/main/online_class_sample_codes_v1.ipynb\" target=\"_parent\"><img src=\"https://colab.research.google.com/assets/colab-badge.svg\" alt=\"Open In Colab\"/></a>"
      ]
    },
    {
      "cell_type": "markdown",
      "source": [
        "![alt text](https://www.plus2net.com/images/top2.jpg)        Read more on [Python sample codes](https://www.plus2net.com/python/sample-codes.php)"
      ],
      "metadata": {
        "id": "audw05pSF0iu"
      }
    },
    {
      "cell_type": "markdown",
      "metadata": {
        "id": "WMByX06CKKKE"
      },
      "source": [
        "Factorial of an input number by looping and by recursive functions"
      ]
    },
    {
      "cell_type": "code",
      "source": [
        "a=int(input(\"Enter a number : \"))\n",
        "b=1\n",
        "for i in range(1,a+1):\n",
        "  b=b*i\n",
        "print(\"Factorial : \", b)"
      ],
      "metadata": {
        "id": "tdOwDDuvBRQ4"
      },
      "execution_count": null,
      "outputs": []
    },
    {
      "cell_type": "markdown",
      "source": [
        "Factors of an input number"
      ],
      "metadata": {
        "id": "UZA3pPJnl8A8"
      }
    },
    {
      "cell_type": "code",
      "source": [
        "n=int(input('Enter a number :'))\n",
        "for i in range(2,int(n+1/2)):\n",
        "  if(n%i == 0): # reminder of the division\n",
        "    print(i,end=',')"
      ],
      "metadata": {
        "id": "d97W6OJ6CMfV"
      },
      "execution_count": null,
      "outputs": []
    },
    {
      "cell_type": "markdown",
      "source": [
        "Prime Numbers"
      ],
      "metadata": {
        "id": "WBe-V5gTmJjr"
      }
    },
    {
      "cell_type": "code",
      "source": [
        "#n=int(input(\"Enter a number : \"))\n",
        "n=100 # change this value\n",
        "for i in range(2,n+1):\n",
        "    flag=0\n",
        "    for j in range(2,int(i/2)+1):\n",
        "        if(i%j==0):\n",
        "            flag=1\n",
        "            break\n",
        "    if(flag==0):\n",
        "        print(i,end=', ')"
      ],
      "metadata": {
        "id": "lxjHdavHDY2Z"
      },
      "execution_count": null,
      "outputs": []
    },
    {
      "cell_type": "markdown",
      "source": [
        "Fibonacci numbers by looping and by recursive functions"
      ],
      "metadata": {
        "id": "9VFOWh2amcm8"
      }
    },
    {
      "cell_type": "code",
      "source": [
        "n=20\n",
        "i=0\n",
        "n1=1\n",
        "n2=0\n",
        "while ( i<n):\n",
        "  print(n2,end=',')\n",
        "  temp=n1+n2\n",
        "  n1=n2\n",
        "  n2=temp\n",
        "  i=i+1"
      ],
      "metadata": {
        "colab": {
          "base_uri": "https://localhost:8080/"
        },
        "id": "sv7IrbArDyR7",
        "outputId": "db2bc2c0-565c-4597-c1f4-b1c2b9049ce7"
      },
      "execution_count": null,
      "outputs": [
        {
          "output_type": "stream",
          "name": "stdout",
          "text": [
            "0,1,1,2,3,5,8,13,21,34,55,89,144,233,377,610,987,1597,2584,4181,"
          ]
        }
      ]
    },
    {
      "cell_type": "code",
      "source": [
        "n=15 # number of elements\n",
        "i=0  # counter\n",
        "n1=1 # One before\n",
        "n2=0 # two before\n",
        "while( i<n): #\n",
        "  print(n2, end=', ')\n",
        "  temp=n1+n2\n",
        "  n1,n2=n2,temp # change the values\n",
        "  #n2=temp\n",
        "  i = i+1 # increase the counter"
      ],
      "metadata": {
        "colab": {
          "base_uri": "https://localhost:8080/"
        },
        "id": "9_5HUrWkJsxt",
        "outputId": "85720260-4aae-4d5b-e254-a7c68b3af58f"
      },
      "execution_count": null,
      "outputs": [
        {
          "output_type": "stream",
          "name": "stdout",
          "text": [
            "0, 1, 1, 2, 3, 5, 8, 13, 21, 34, 55, 89, 144, 233, 377, "
          ]
        }
      ]
    },
    {
      "cell_type": "code",
      "source": [
        "n=15 # number of elements\n",
        "n1,n2,i=1,0,0 # Setting the values\n",
        "for i in range( 0,n): #\n",
        "  print(n2, end=', ')\n",
        "  #temp=n1+n2\n",
        "  n1,n2=n2,(n1+n2) # change the values\n",
        "  #n1,n2=n2,temp # change the values\n",
        "  #n2=temp\n",
        "  #i = i+1 # increase the counter"
      ],
      "metadata": {
        "colab": {
          "base_uri": "https://localhost:8080/"
        },
        "id": "dS79O3TXKH-l",
        "outputId": "4c12e22a-9796-455b-a6ac-aefeb6f67a7c"
      },
      "execution_count": null,
      "outputs": [
        {
          "output_type": "stream",
          "name": "stdout",
          "text": [
            "0, 1, 1, 2, 3, 5, 8, 13, 21, 34, 55, 89, 144, 233, 377, "
          ]
        }
      ]
    },
    {
      "cell_type": "markdown",
      "source": [
        "Sum of digits of an input number"
      ],
      "metadata": {
        "id": "93cXm3hPme2F"
      }
    },
    {
      "cell_type": "code",
      "source": [
        "n=input('Enter a number : ')\n",
        "#print(n[1])\n",
        "my_sum=0\n",
        "for i in range(0,len(n)):\n",
        "  my_sum=my_sum+int(n[i])\n",
        "print(my_sum)"
      ],
      "metadata": {
        "colab": {
          "base_uri": "https://localhost:8080/"
        },
        "id": "aFHb61w5EyMJ",
        "outputId": "cbbad752-c197-41f4-d453-1cc6b8744bee"
      },
      "execution_count": null,
      "outputs": [
        {
          "output_type": "stream",
          "name": "stdout",
          "text": [
            "Enter a number : 1234\n",
            "10\n"
          ]
        }
      ]
    },
    {
      "cell_type": "code",
      "source": [
        "n=int(input('Enter a number : '))\n",
        "my_sum=0\n",
        "while(n>0):\n",
        "  i=n%10\n",
        "  my_sum=my_sum+i\n",
        "  n=n//10 # floor value or quitent\n",
        "print(\"Sum of the digits : \", my_sum)"
      ],
      "metadata": {
        "colab": {
          "base_uri": "https://localhost:8080/"
        },
        "id": "YfaAwOjxGEcW",
        "outputId": "993b6706-bf4e-4aa4-8212-5a259138c346"
      },
      "execution_count": null,
      "outputs": [
        {
          "output_type": "stream",
          "name": "stdout",
          "text": [
            "Enter a number : 1234\n",
            "Sum of the digits :  10\n"
          ]
        }
      ]
    },
    {
      "cell_type": "markdown",
      "source": [
        "Create Multiplication table"
      ],
      "metadata": {
        "id": "sc47BcnQ-FfI"
      }
    },
    {
      "cell_type": "code",
      "source": [
        "rows=10\n",
        "columns=10\n",
        "rows,columns=10,10\n",
        "for i in range(1,rows+1):\n",
        "  for j in range(1,columns+1):\n",
        "    c=i*j\n",
        "    print(\"{:>2d}\".format(c),end=' ')\n",
        "    #print(c,end='  ')\n",
        "  print(\"\\n\")"
      ],
      "metadata": {
        "id": "CT3zGN70LFyD"
      },
      "execution_count": null,
      "outputs": []
    },
    {
      "cell_type": "markdown",
      "source": [
        "List of Armstrong numbers"
      ],
      "metadata": {
        "id": "juo7xOtk-oHA"
      }
    },
    {
      "cell_type": "code",
      "source": [
        "n=input('Enter one three digit number ')\n",
        "my_sum=0\n",
        "for i in range(0,len(n)):\n",
        "  my_sum=my_sum+pow(int(n[i]),3)\n",
        "if (my_sum==int(n)):\n",
        "   print(\"This is an Armstrong Number :\",n)\n",
        "else:\n",
        "   print(\"This is NOT an Armstrong Number :\",n)"
      ],
      "metadata": {
        "id": "ve6-LdEhNC2n"
      },
      "execution_count": null,
      "outputs": []
    },
    {
      "cell_type": "code",
      "source": [
        "n=input('Enter  number greater than 9 ')\n",
        "my_sum=0\n",
        "for i in range(0,len(n)):\n",
        "  my_sum=my_sum+pow(int(n[i]),len(n))\n",
        "if (my_sum==int(n)):\n",
        "   print(\"This is an Armstrong Number :\",n)\n",
        "else:\n",
        "   print(\"This is NOT an Armstrong Number :\",n)"
      ],
      "metadata": {
        "id": "oD9B1n9mOX3g"
      },
      "execution_count": null,
      "outputs": []
    },
    {
      "cell_type": "code",
      "source": [
        "for n in range(10,10000): # increase this range to get more numbers\n",
        " my_sum=0\n",
        " my_str=str(n)\n",
        " k=len(my_str)\n",
        " for i in range(0,k):\n",
        "   my_sum=my_sum+pow(int(my_str[i]),k)\n",
        "\n",
        "  #print(\"Sum of cube of digits  : \",my_sum)\n",
        " if(my_sum==n):\n",
        "   print(\"This is an Armstrong number : \", n)"
      ],
      "metadata": {
        "id": "g-GZhHgMOnJ2"
      },
      "execution_count": null,
      "outputs": []
    },
    {
      "cell_type": "markdown",
      "source": [
        "Test if a number is equal to the sum of the cubes of its digits. Find the smallest and largest such numbers."
      ],
      "metadata": {
        "id": "hPM2gSLM_SDx"
      }
    },
    {
      "cell_type": "code",
      "source": [
        "n=input(\" Enter a number \")\n",
        "my_sum=0\n",
        "for i in range(0,len(n)):\n",
        "  my_sum=my_sum+pow(int(n[i]),3)\n",
        "\n",
        "print(\"Sum of cube of digits  : \",my_sum)\n",
        "if(my_sum==int(n)):\n",
        "  print(\"Digits are matching to cube  : \", n)\n",
        "else:\n",
        "  print(\"Digits are NOT matching to cube : \", n)"
      ],
      "metadata": {
        "colab": {
          "base_uri": "https://localhost:8080/"
        },
        "id": "Mm8m3P6DO9P_",
        "outputId": "bce77594-fdba-4b4c-d1b3-6cb8a6263398"
      },
      "execution_count": 12,
      "outputs": [
        {
          "output_type": "stream",
          "name": "stdout",
          "text": [
            " Enter a number 370\n",
            "Sum of cube of digits  :  370\n",
            "Digits are matching to cube  :  370\n"
          ]
        }
      ]
    },
    {
      "cell_type": "markdown",
      "source": [
        "grade in exam using if else elif in Python"
      ],
      "metadata": {
        "id": "w4vUC28t_p9J"
      }
    },
    {
      "cell_type": "code",
      "source": [
        "m=int(input('Enter your mark'))\n",
        "if (m>=80):\n",
        "  print('You got A grade')\n",
        "elif(m>=60):\n",
        "  print('You got B grade')\n",
        "elif(m>=40):\n",
        "  print('You got C grade')\n",
        "else:\n",
        "  print('Failed in this exam')"
      ],
      "metadata": {
        "colab": {
          "base_uri": "https://localhost:8080/"
        },
        "id": "nRhq1JY7Pczz",
        "outputId": "33d94450-d271-4813-cc74-32b443a0bef0"
      },
      "execution_count": 16,
      "outputs": [
        {
          "output_type": "stream",
          "name": "stdout",
          "text": [
            "Enter your mark10\n",
            "Failed in this exam\n"
          ]
        }
      ]
    }
  ]
}