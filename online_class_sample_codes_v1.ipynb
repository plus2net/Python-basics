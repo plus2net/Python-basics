{
  "nbformat": 4,
  "nbformat_minor": 0,
  "metadata": {
    "colab": {
      "provenance": [],
      "authorship_tag": "ABX9TyOJTjdlrv09nh7RNQDmie5e",
      "include_colab_link": true
    },
    "kernelspec": {
      "name": "python3",
      "display_name": "Python 3"
    }
  },
  "cells": [
    {
      "cell_type": "markdown",
      "metadata": {
        "id": "view-in-github",
        "colab_type": "text"
      },
      "source": [
        "<a href=\"https://colab.research.google.com/github/plus2net/Python-basics/blob/main/online_class_sample_codes_v1.ipynb\" target=\"_parent\"><img src=\"https://colab.research.google.com/assets/colab-badge.svg\" alt=\"Open In Colab\"/></a>"
      ]
    },
    {
      "cell_type": "markdown",
      "source": [
        "![alt text](https://www.plus2net.com/images/top2.jpg)        Read more on [Python sample codes](https://www.plus2net.com/python/sample-codes.php)"
      ],
      "metadata": {
        "id": "audw05pSF0iu"
      }
    },
    {
      "cell_type": "markdown",
      "metadata": {
        "id": "WMByX06CKKKE"
      },
      "source": [
        "Factorial of an input number by looping and by recursive functions"
      ]
    },
    {
      "cell_type": "code",
      "source": [
        "a=int(input(\"Enter a number : \"))\n",
        "b=1\n",
        "for i in range(1,a+1):\n",
        "  b=b*i\n",
        "print(\"Factorial : \", b)"
      ],
      "metadata": {
        "id": "tdOwDDuvBRQ4"
      },
      "execution_count": null,
      "outputs": []
    },
    {
      "cell_type": "markdown",
      "source": [
        "Factors of an input number"
      ],
      "metadata": {
        "id": "UZA3pPJnl8A8"
      }
    },
    {
      "cell_type": "code",
      "source": [
        "n=int(input('Enter a number :'))\n",
        "for i in range(2,int(n+1/2)):\n",
        "  if(n%i == 0): # reminder of the division\n",
        "    print(i,end=',')"
      ],
      "metadata": {
        "id": "d97W6OJ6CMfV"
      },
      "execution_count": null,
      "outputs": []
    },
    {
      "cell_type": "markdown",
      "source": [
        "Prime Numbers"
      ],
      "metadata": {
        "id": "WBe-V5gTmJjr"
      }
    },
    {
      "cell_type": "code",
      "source": [
        "#n=int(input(\"Enter a number : \"))\n",
        "n=100 # change this value\n",
        "for i in range(2,n+1):\n",
        "    flag=0\n",
        "    for j in range(2,int(i/2)+1):\n",
        "        if(i%j==0):\n",
        "            flag=1\n",
        "            break\n",
        "    if(flag==0):\n",
        "        print(i,end=', ')"
      ],
      "metadata": {
        "id": "lxjHdavHDY2Z"
      },
      "execution_count": null,
      "outputs": []
    },
    {
      "cell_type": "markdown",
      "source": [
        "Fibonacci numbers by looping and by recursive functions"
      ],
      "metadata": {
        "id": "9VFOWh2amcm8"
      }
    },
    {
      "cell_type": "code",
      "source": [
        "n=20\n",
        "i=0\n",
        "n1=1\n",
        "n2=0\n",
        "while ( i<n):\n",
        "  print(n2,end=',')\n",
        "  temp=n1+n2\n",
        "  n1=n2\n",
        "  n2=temp\n",
        "  i=i+1"
      ],
      "metadata": {
        "colab": {
          "base_uri": "https://localhost:8080/"
        },
        "id": "sv7IrbArDyR7",
        "outputId": "db2bc2c0-565c-4597-c1f4-b1c2b9049ce7"
      },
      "execution_count": null,
      "outputs": [
        {
          "output_type": "stream",
          "name": "stdout",
          "text": [
            "0,1,1,2,3,5,8,13,21,34,55,89,144,233,377,610,987,1597,2584,4181,"
          ]
        }
      ]
    },
    {
      "cell_type": "code",
      "source": [
        "n=15 # number of elements\n",
        "i=0  # counter\n",
        "n1=1 # One before\n",
        "n2=0 # two before\n",
        "while( i<n): #\n",
        "  print(n2, end=', ')\n",
        "  temp=n1+n2\n",
        "  n1,n2=n2,temp # change the values\n",
        "  #n2=temp\n",
        "  i = i+1 # increase the counter"
      ],
      "metadata": {
        "colab": {
          "base_uri": "https://localhost:8080/"
        },
        "id": "9_5HUrWkJsxt",
        "outputId": "85720260-4aae-4d5b-e254-a7c68b3af58f"
      },
      "execution_count": 14,
      "outputs": [
        {
          "output_type": "stream",
          "name": "stdout",
          "text": [
            "0, 1, 1, 2, 3, 5, 8, 13, 21, 34, 55, 89, 144, 233, 377, "
          ]
        }
      ]
    },
    {
      "cell_type": "code",
      "source": [
        "n=15 # number of elements\n",
        "n1,n2,i=1,0,0 # Setting the values\n",
        "for i in range( 0,n): #\n",
        "  print(n2, end=', ')\n",
        "  #temp=n1+n2\n",
        "  n1,n2=n2,(n1+n2) # change the values\n",
        "  #n1,n2=n2,temp # change the values\n",
        "  #n2=temp\n",
        "  #i = i+1 # increase the counter"
      ],
      "metadata": {
        "colab": {
          "base_uri": "https://localhost:8080/"
        },
        "id": "dS79O3TXKH-l",
        "outputId": "4c12e22a-9796-455b-a6ac-aefeb6f67a7c"
      },
      "execution_count": 16,
      "outputs": [
        {
          "output_type": "stream",
          "name": "stdout",
          "text": [
            "0, 1, 1, 2, 3, 5, 8, 13, 21, 34, 55, 89, 144, 233, 377, "
          ]
        }
      ]
    },
    {
      "cell_type": "markdown",
      "source": [
        "Sum of digits of an input number"
      ],
      "metadata": {
        "id": "93cXm3hPme2F"
      }
    },
    {
      "cell_type": "code",
      "source": [
        "n=input('Enter a number : ')\n",
        "#print(n[1])\n",
        "my_sum=0\n",
        "for i in range(0,len(n)):\n",
        "  my_sum=my_sum+int(n[i])\n",
        "print(my_sum)"
      ],
      "metadata": {
        "colab": {
          "base_uri": "https://localhost:8080/"
        },
        "id": "aFHb61w5EyMJ",
        "outputId": "cbbad752-c197-41f4-d453-1cc6b8744bee"
      },
      "execution_count": null,
      "outputs": [
        {
          "output_type": "stream",
          "name": "stdout",
          "text": [
            "Enter a number : 1234\n",
            "10\n"
          ]
        }
      ]
    },
    {
      "cell_type": "code",
      "source": [
        "n=int(input('Enter a number : '))\n",
        "my_sum=0\n",
        "while(n>0):\n",
        "  i=n%10\n",
        "  my_sum=my_sum+i\n",
        "  n=n//10 # floor value or quitent\n",
        "print(\"Sum of the digits : \", my_sum)"
      ],
      "metadata": {
        "colab": {
          "base_uri": "https://localhost:8080/"
        },
        "id": "YfaAwOjxGEcW",
        "outputId": "993b6706-bf4e-4aa4-8212-5a259138c346"
      },
      "execution_count": null,
      "outputs": [
        {
          "output_type": "stream",
          "name": "stdout",
          "text": [
            "Enter a number : 1234\n",
            "Sum of the digits :  10\n"
          ]
        }
      ]
    }
  ]
}