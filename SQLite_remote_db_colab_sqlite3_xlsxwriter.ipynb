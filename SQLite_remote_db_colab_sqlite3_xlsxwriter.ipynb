{
  "nbformat": 4,
  "nbformat_minor": 0,
  "metadata": {
    "kernelspec": {
      "display_name": "Python 3",
      "language": "python",
      "name": "python3"
    },
    "language_info": {
      "codemirror_mode": {
        "name": "ipython",
        "version": 3
      },
      "file_extension": ".py",
      "mimetype": "text/x-python",
      "name": "python",
      "nbconvert_exporter": "python",
      "pygments_lexer": "ipython3",
      "version": "3.6.3"
    },
    "colab": {
      "provenance": [],
      "include_colab_link": true
    }
  },
  "cells": [
    {
      "cell_type": "markdown",
      "metadata": {
        "id": "view-in-github",
        "colab_type": "text"
      },
      "source": [
        "<a href=\"https://colab.research.google.com/github/plus2net/Python-basics/blob/main/SQLite_remote_db_colab_sqlite3_xlsxwriter.ipynb\" target=\"_parent\"><img src=\"https://colab.research.google.com/assets/colab-badge.svg\" alt=\"Open In Colab\"/></a>"
      ]
    },
    {
      "cell_type": "markdown",
      "source": [
        "![alt text](https://www.plus2net.com/images/top2.jpg)        Read more on [SQLite Colab Excel](https://www.plus2net.com/python/sqlite-colab-excel.php)"
      ],
      "metadata": {
        "id": "92fALlH3obiE"
      }
    },
    {
      "cell_type": "code",
      "execution_count": 14,
      "source": [
        "# download my_db.db SQLite Database from plus2net.com\n",
        "!wget https://www.plus2net.com/python/download/my_db.db"
      ],
      "outputs": [
        {
          "output_type": "stream",
          "name": "stdout",
          "text": [
            "--2023-11-18 00:35:55--  https://www.plus2net.com/python/download/my_db.db\n",
            "Resolving www.plus2net.com (www.plus2net.com)... 68.178.227.154\n",
            "Connecting to www.plus2net.com (www.plus2net.com)|68.178.227.154|:443... connected.\n",
            "HTTP request sent, awaiting response... 200 OK\n",
            "Length: 16384 (16K)\n",
            "Saving to: ‘my_db.db’\n",
            "\n",
            "my_db.db            100%[===================>]  16.00K  --.-KB/s    in 0s      \n",
            "\n",
            "2023-11-18 00:35:56 (138 MB/s) - ‘my_db.db’ saved [16384/16384]\n",
            "\n"
          ]
        }
      ],
      "metadata": {
        "id": "Ylg7JbjIAZME",
        "colab": {
          "base_uri": "https://localhost:8080/"
        },
        "outputId": "c6bd3b9e-657f-421f-b2de-dff442adaf3d"
      }
    },
    {
      "cell_type": "code",
      "source": [
        "import sqlite3\n",
        "my_conn = sqlite3.connect('my_db.db') # connect to db"
      ],
      "metadata": {
        "id": "RS82XZ3F-l0b"
      },
      "execution_count": 15,
      "outputs": []
    },
    {
      "cell_type": "code",
      "source": [
        "query=\"SELECT name FROM sqlite_master WHERE type='table' \"\n",
        "my_data=list(my_conn.execute(query)) # rows of data as list\n",
        "print(my_data) # List of tables"
      ],
      "metadata": {
        "id": "NJC57E6SUVnT",
        "colab": {
          "base_uri": "https://localhost:8080/"
        },
        "outputId": "97d938b2-12e6-4fb9-8f2b-711b294ca3c6"
      },
      "execution_count": 16,
      "outputs": [
        {
          "output_type": "stream",
          "name": "stdout",
          "text": [
            "[('category',), ('subcategory',), ('student',)]\n"
          ]
        }
      ]
    },
    {
      "cell_type": "code",
      "source": [
        "query=\"pragma table_info([student])\"\n",
        "my_data=list(my_conn.execute(query)) # rows of data as list\n",
        "l1=[r[1] for r in my_data]\n",
        "print(l1) # List of column header names"
      ],
      "metadata": {
        "colab": {
          "base_uri": "https://localhost:8080/"
        },
        "id": "-JYWcNzE3RXA",
        "outputId": "49a70d27-01a0-4cc1-efab-6615623fc689"
      },
      "execution_count": 40,
      "outputs": [
        {
          "output_type": "stream",
          "name": "stdout",
          "text": [
            "['id', 'name', 'class', 'mark', 'gender']\n"
          ]
        }
      ]
    },
    {
      "cell_type": "code",
      "source": [
        "query=\"SELECT *  FROM student LIMIT 0,5\" # sql\n",
        "my_data=list(my_conn.execute(query)) # rows of data as list\n",
        "print(*my_data) # display  rows"
      ],
      "metadata": {
        "id": "IUUF1dR6P62Z",
        "colab": {
          "base_uri": "https://localhost:8080/"
        },
        "outputId": "0ef4f474-1855-4d13-e0a2-3209af5424e8"
      },
      "execution_count": 20,
      "outputs": [
        {
          "output_type": "stream",
          "name": "stdout",
          "text": [
            "(1, 'John Deo', 'Four', 75, 'female') (2, 'Max Ruin', 'Three', 85, 'male') (3, 'Arnold', 'Three', 55, 'male') (4, 'Krish Star', 'Four', 60, 'female') (5, 'John Mike', 'Four', 60, 'female')\n"
          ]
        }
      ]
    },
    {
      "cell_type": "code",
      "source": [
        "pip install xlsxwriter # Install the library"
      ],
      "metadata": {
        "id": "CL202Oxo09mD"
      },
      "execution_count": null,
      "outputs": []
    },
    {
      "cell_type": "code",
      "source": [
        "query=\"pragma table_info([student])\" # structure of the table\n",
        "my_data=list(my_conn.execute(query)) # rows of data as list\n",
        "l1=[r[1] for r in my_data] # List of column header\n",
        "\n",
        "import xlsxwriter # Or install by using pip install xlsxwriter\n",
        "wb = xlsxwriter.Workbook('my_student.xlsx') # create workbook\n",
        "ws = wb.add_worksheet() # Add worksheet\n",
        "query=\"SELECT * FROM student LIMIT 0,10\" # query\n",
        "my_data=my_conn.execute(query)\n",
        "my_data=[r for r in my_data] # List of rows of data\n",
        "my_format = wb.add_format({'bold': True, 'font_color': 'red',\n",
        " 'align':'center','bg_color':'#FFFF00'}) # Header row format\n",
        "ws.write_row('A1',l1,my_format) # Add header row\n",
        "\n",
        "r,c=1,0 # row=1 and column=0\n",
        "for row_data in my_data:\n",
        "    ws.write_row(r,c,row_data) # add row to excel page\n",
        "    r=r+1 # increase row by 1 for next row\n",
        "wb.close() # Save worksheet"
      ],
      "metadata": {
        "id": "9KI2PqEESX_O"
      },
      "execution_count": null,
      "outputs": []
    },
    {
      "cell_type": "markdown",
      "source": [
        "[More on SQLite database using Colab platform](https://www.plus2net.com/python/sqlite-colab.php)\n",
        "\n",
        "\n",
        "Web site: www.plus2net.com\n",
        "\n",
        "YouTube: https://www.youtube.com/@plus2net1\n",
        "\n",
        "Facebook: https://www.facebook.com/plus2net\n",
        "\n",
        "Instagram: https://www.instagram.com/plus2net.in/\n",
        "\n",
        "LinkedIn: https://www.linkedin.com/in/plus2net/\n",
        "\n",
        "Write to us  https: //www.plus2net.com/contactus.php"
      ],
      "metadata": {
        "id": "x32Q9CyYo69X"
      }
    }
  ]
}