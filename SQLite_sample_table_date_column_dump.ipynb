{
  "nbformat": 4,
  "nbformat_minor": 0,
  "metadata": {
    "kernelspec": {
      "display_name": "Python 3",
      "language": "python",
      "name": "python3"
    },
    "language_info": {
      "codemirror_mode": {
        "name": "ipython",
        "version": 3
      },
      "file_extension": ".py",
      "mimetype": "text/x-python",
      "name": "python",
      "nbconvert_exporter": "python",
      "pygments_lexer": "ipython3",
      "version": "3.6.3"
    },
    "colab": {
      "provenance": [],
      "include_colab_link": true
    }
  },
  "cells": [
    {
      "cell_type": "markdown",
      "metadata": {
        "id": "view-in-github",
        "colab_type": "text"
      },
      "source": [
        "<a href=\"https://colab.research.google.com/github/plus2net/Python-basics/blob/main/SQLite_sample_table_date_column_dump.ipynb\" target=\"_parent\"><img src=\"https://colab.research.google.com/assets/colab-badge.svg\" alt=\"Open In Colab\"/></a>"
      ]
    },
    {
      "cell_type": "markdown",
      "source": [
        "![alt text](https://www.plus2net.com/images/top2.jpg)        Read more on [SQLite Date Queries](https://www.plus2net.com/python/sqlite-date-query.php)"
      ],
      "metadata": {
        "id": "92fALlH3obiE"
      }
    },
    {
      "cell_type": "code",
      "source": [
        "import sqlite3\n",
        "my_path='my_db.db' #Change the path of your database\n",
        "try:\n",
        "    my_conn = sqlite3.connect(my_path) #\n",
        "except sqlite3.Error as my_error:\n",
        "  print(\"error: \",my_error)\n",
        "else:\n",
        "  print(\"Connected to database successfully\")\n",
        "r_set=my_conn.execute(\"CREATE TABLE IF NOT EXISTS dt_table ( \\\n",
        "  record_id varchar(4) NOT NULL, \\\n",
        "  date text NOT NULL, \\\n",
        "  `month-year` varchar(10) NOT NULL)\")\n",
        "my_conn.commit()\n",
        "print('dt_table created inside my_db.db database')"
      ],
      "metadata": {
        "id": "RS82XZ3F-l0b"
      },
      "execution_count": null,
      "outputs": []
    },
    {
      "cell_type": "markdown",
      "source": [
        "Create a List of data and insert the same to the table. All our data are created keeping the today's date as base date. Adjust the range to include more records."
      ],
      "metadata": {
        "id": "DhdPnUliZY1P"
      }
    },
    {
      "cell_type": "code",
      "source": [
        "from datetime import timedelta,date,datetime\n",
        "dt_today = date.today() # Today is the base date\n",
        "data=[] # Blank list to store rows of data\n",
        "for i in range(-2,2): # increase or decrease range of dates\n",
        "  dt = dt_today + timedelta(days=i) # adjusted date\n",
        "  data.append([i,dt,dt.strftime(datetime.strftime(dt,'%b-%Y'))])\n",
        "  # [-2, datetime.date(2023, 11, 18), 'Nov-2023']\n",
        "query=\"INSERT INTO dt_table VALUES (?, ?,?)\" # query to insert data\n",
        "r_set=my_conn.executemany(query,data) # add data to table\n",
        "my_conn.commit()\n",
        "print('Data added to dt_table')"
      ],
      "metadata": {
        "colab": {
          "base_uri": "https://localhost:8080/"
        },
        "id": "NgZlBo3MTdbv",
        "outputId": "bc1958c9-7dbe-4d72-f989-38ff50824ba7"
      },
      "execution_count": 24,
      "outputs": [
        {
          "output_type": "stream",
          "name": "stdout",
          "text": [
            "Data added to dt_table\n"
          ]
        }
      ]
    },
    {
      "cell_type": "code",
      "source": [
        "query=\"SELECT name FROM sqlite_master WHERE type='table' \"\n",
        "my_data=list(my_conn.execute(query)) # rows of data as list\n",
        "print(my_data) # List of tables"
      ],
      "metadata": {
        "id": "NJC57E6SUVnT",
        "colab": {
          "base_uri": "https://localhost:8080/"
        },
        "outputId": "ca918df3-adbb-481c-cf88-8c3999f3942a"
      },
      "execution_count": 19,
      "outputs": [
        {
          "output_type": "stream",
          "name": "stdout",
          "text": [
            "[('dt_table',)]\n"
          ]
        }
      ]
    },
    {
      "cell_type": "code",
      "source": [
        "query=\"pragma table_info([dt_table])\" # show structure\n",
        "my_data=list(my_conn.execute(query)) # rows of data as list\n",
        "print(my_data) # Structure of the table"
      ],
      "metadata": {
        "colab": {
          "base_uri": "https://localhost:8080/"
        },
        "id": "-JYWcNzE3RXA",
        "outputId": "4c03a1d6-0d11-4005-f162-82c61f9bbc9d"
      },
      "execution_count": 20,
      "outputs": [
        {
          "output_type": "stream",
          "name": "stdout",
          "text": [
            "[(0, 'record_id', 'varchar(4)', 1, None, 0), (1, 'date', 'TEXT', 1, None, 0), (2, 'month-year', 'varchar(10)', 1, None, 0)]\n"
          ]
        }
      ]
    },
    {
      "cell_type": "code",
      "source": [
        "query=\"SELECT *  FROM dt_table\" # sql\n",
        "my_data=list(my_conn.execute(query)) # rows of data as list\n",
        "print(my_data) # display  rows"
      ],
      "metadata": {
        "id": "IUUF1dR6P62Z",
        "colab": {
          "base_uri": "https://localhost:8080/"
        },
        "outputId": "bddea7cc-0970-4902-da8d-178e99f525d3"
      },
      "execution_count": 21,
      "outputs": [
        {
          "output_type": "stream",
          "name": "stdout",
          "text": [
            "[('-2', '2023-11-18', 'Nov-2023'), ('-1', '2023-11-19', 'Nov-2023'), ('0', '2023-11-20', 'Nov-2023'), ('1', '2023-11-21', 'Nov-2023')]\n"
          ]
        }
      ]
    },
    {
      "cell_type": "code",
      "source": [
        "query=\"DELETE FROM dt_table\" # Query to delete records\n",
        "#query='DROP TABLE dt_table' # Query to delete table\n",
        "try:\n",
        "  r_set=my_conn.execute(query)\n",
        "  print(\"No of Records deleted : \",r_set.rowcount)\n",
        "  my_conn.commit()\n",
        "except sqlite3.Error as my_error:\n",
        "  print(\"error: \",my_error)"
      ],
      "metadata": {
        "id": "v0R-rx7ITgws",
        "colab": {
          "base_uri": "https://localhost:8080/"
        },
        "outputId": "157f4e66-144f-49cf-ebf2-6968710efa16"
      },
      "execution_count": 23,
      "outputs": [
        {
          "output_type": "stream",
          "name": "stdout",
          "text": [
            "No of Records deleted :  4\n"
          ]
        }
      ]
    },
    {
      "cell_type": "markdown",
      "source": [
        "# Run quries to get records based on Date"
      ],
      "metadata": {
        "id": "I0faGrfiXtI7"
      }
    },
    {
      "cell_type": "code",
      "source": [
        "#Display all records of last 2 days ( no future dates )\n",
        "query=\"SELECT * FROM dt_table WHERE date BETWEEN date('now','-2 day') AND date('now')\"\n",
        "my_data=list(my_conn.execute(query)) # rows of data as list\n",
        "print(my_data) # display  rows"
      ],
      "metadata": {
        "colab": {
          "base_uri": "https://localhost:8080/"
        },
        "id": "OXCtAaNLXIto",
        "outputId": "5c8b9208-bdaf-482c-9533-f11e3fb68d11"
      },
      "execution_count": 25,
      "outputs": [
        {
          "output_type": "stream",
          "name": "stdout",
          "text": [
            "[('-2', '2023-11-18', 'Nov-2023'), ('-1', '2023-11-19', 'Nov-2023'), ('0', '2023-11-20', 'Nov-2023')]\n"
          ]
        }
      ]
    },
    {
      "cell_type": "markdown",
      "source": [
        "[More on SQLite database using Colab platform](https://www.plus2net.com/python/sqlite-colab.php)\n",
        "\n",
        "\n",
        "Web site: www.plus2net.com\n",
        "\n",
        "YouTube: https://www.youtube.com/@plus2net1\n",
        "\n",
        "Facebook: https://www.facebook.com/plus2net\n",
        "\n",
        "Instagram: https://www.instagram.com/plus2net.in/\n",
        "\n",
        "LinkedIn: https://www.linkedin.com/in/plus2net/\n",
        "\n",
        "Write to us  https: //www.plus2net.com/contactus.php"
      ],
      "metadata": {
        "id": "x32Q9CyYo69X"
      }
    }
  ]
}