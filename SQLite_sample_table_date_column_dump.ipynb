{
  "nbformat": 4,
  "nbformat_minor": 0,
  "metadata": {
    "kernelspec": {
      "display_name": "Python 3",
      "language": "python",
      "name": "python3"
    },
    "language_info": {
      "codemirror_mode": {
        "name": "ipython",
        "version": 3
      },
      "file_extension": ".py",
      "mimetype": "text/x-python",
      "name": "python",
      "nbconvert_exporter": "python",
      "pygments_lexer": "ipython3",
      "version": "3.6.3"
    },
    "colab": {
      "provenance": [],
      "include_colab_link": true
    }
  },
  "cells": [
    {
      "cell_type": "markdown",
      "metadata": {
        "id": "view-in-github",
        "colab_type": "text"
      },
      "source": [
        "<a href=\"https://colab.research.google.com/github/plus2net/Python-basics/blob/main/SQLite_sample_table_date_column_dump.ipynb\" target=\"_parent\"><img src=\"https://colab.research.google.com/assets/colab-badge.svg\" alt=\"Open In Colab\"/></a>"
      ]
    },
    {
      "cell_type": "markdown",
      "source": [
        "![alt text](https://www.plus2net.com/images/top2.jpg)        Read more on [SQLite Date Queries](https://www.plus2net.com/python/sqlite-date-query.php)"
      ],
      "metadata": {
        "id": "92fALlH3obiE"
      }
    },
    {
      "cell_type": "code",
      "source": [
        "import sqlite3\n",
        "my_path='my_db.db' #Change the path of your database\n",
        "try:\n",
        "    my_conn = sqlite3.connect(my_path) #\n",
        "except sqlite3.Error as my_error:\n",
        "  print(\"error: \",my_error)\n",
        "else:\n",
        "  print(\"Connected to database successfully\")"
      ],
      "metadata": {
        "id": "RS82XZ3F-l0b"
      },
      "execution_count": null,
      "outputs": []
    },
    {
      "cell_type": "markdown",
      "source": [
        "Delete the table if required."
      ],
      "metadata": {
        "id": "GCHZjkNh1HSH"
      }
    },
    {
      "cell_type": "code",
      "source": [
        "try:\n",
        "  r_set=my_conn.execute('''DROP TABLE table_dt''')\n",
        "except sqlite3.Error as my_error:\n",
        "  print(\"error: \",my_error)\n",
        "else:\n",
        "  print(\"Deleted table table_dt\")"
      ],
      "metadata": {
        "id": "9xocjl5tqsHz"
      },
      "execution_count": null,
      "outputs": []
    },
    {
      "cell_type": "markdown",
      "source": [
        "Create table"
      ],
      "metadata": {
        "id": "9ng1t0Jz1EXo"
      }
    },
    {
      "cell_type": "code",
      "source": [
        "r_set=my_conn.execute(\"CREATE TABLE IF NOT EXISTS table_dt ( \\\n",
        "  record_id varchar(4) NOT NULL, \\\n",
        "  date text NOT NULL, \\\n",
        "  `month-year` varchar(10) NOT NULL)\")\n",
        "my_conn.commit()\n",
        "print('dt_table created inside my_db.db database')"
      ],
      "metadata": {
        "id": "FdmrC-45qkbj"
      },
      "execution_count": null,
      "outputs": []
    },
    {
      "cell_type": "markdown",
      "source": [
        "Create a List of data and insert the same to the table. All our data are created keeping the today's date as base date. Adjust the range to include more records."
      ],
      "metadata": {
        "id": "DhdPnUliZY1P"
      }
    },
    {
      "cell_type": "code",
      "source": [
        "from datetime import timedelta,date,datetime\n",
        "dt_today = date.today() # Today is the base date\n",
        "my_data=[] # Blank list to store rows of data\n",
        "for i in range(-2,2): # increase or decrease range of dates\n",
        "  dt = dt_today + timedelta(days=i) # adjusted date\n",
        "  my_data.append((i,dt.strftime('%Y-%m-%d'),dt.strftime('%b-%Y')))\n",
        "print(my_data)"
      ],
      "metadata": {
        "id": "NgZlBo3MTdbv"
      },
      "execution_count": null,
      "outputs": []
    },
    {
      "cell_type": "code",
      "source": [
        "query=\"INSERT INTO table_dt VALUES (?,?,?)\" # query to insert data\n",
        "r_set=my_conn.executemany(query,my_data) # add data to table\n",
        "my_conn.commit()\n",
        "print('No of records added : ',r_set.rowcount)"
      ],
      "metadata": {
        "colab": {
          "base_uri": "https://localhost:8080/"
        },
        "id": "4u1bCmyIrGsB",
        "outputId": "a20ee7dc-8ef9-4eab-a133-81ce59458166"
      },
      "execution_count": 47,
      "outputs": [
        {
          "output_type": "stream",
          "name": "stdout",
          "text": [
            "No of records added :  4\n"
          ]
        }
      ]
    },
    {
      "cell_type": "markdown",
      "source": [
        "Show all tables inside the Database"
      ],
      "metadata": {
        "id": "qP4JxW-e0WtP"
      }
    },
    {
      "cell_type": "code",
      "source": [
        "query=\"SELECT name FROM sqlite_master WHERE type='table' \"\n",
        "my_data=list(my_conn.execute(query)) # rows of data as list\n",
        "print(my_data) # List of tables"
      ],
      "metadata": {
        "id": "NJC57E6SUVnT"
      },
      "execution_count": null,
      "outputs": []
    },
    {
      "cell_type": "markdown",
      "source": [
        "Show the structure of the table"
      ],
      "metadata": {
        "id": "fRrVx8l60TUR"
      }
    },
    {
      "cell_type": "code",
      "source": [
        "query=\"pragma table_info([table_dt])\" # show structure\n",
        "my_data=list(my_conn.execute(query)) # rows of data as list\n",
        "print(my_data) # Structure of the table"
      ],
      "metadata": {
        "id": "-JYWcNzE3RXA"
      },
      "execution_count": null,
      "outputs": []
    },
    {
      "cell_type": "markdown",
      "source": [
        "Show all records from the table"
      ],
      "metadata": {
        "id": "CzMWOiRm0P_f"
      }
    },
    {
      "cell_type": "code",
      "source": [
        "query=\"SELECT *  FROM table_dt\" # sql\n",
        "my_data=list(my_conn.execute(query)) # rows of data as list\n",
        "print(my_data) # display  rows"
      ],
      "metadata": {
        "id": "IUUF1dR6P62Z"
      },
      "execution_count": null,
      "outputs": []
    },
    {
      "cell_type": "markdown",
      "source": [
        "To delete all records or delete the table"
      ],
      "metadata": {
        "id": "VhCF44Z40JaZ"
      }
    },
    {
      "cell_type": "code",
      "source": [
        "query=\"DELETE FROM table_dt\" # Query to delete records\n",
        "#query='DROP TABLE dt_table' # Query to delete table\n",
        "try:\n",
        "  r_set=my_conn.execute(query)\n",
        "  print(\"No of Records deleted : \",r_set.rowcount)\n",
        "  my_conn.commit()\n",
        "except sqlite3.Error as my_error:\n",
        "  print(\"error: \",my_error)"
      ],
      "metadata": {
        "id": "v0R-rx7ITgws"
      },
      "execution_count": null,
      "outputs": []
    },
    {
      "cell_type": "markdown",
      "source": [
        "# Run quries to get records based on Date"
      ],
      "metadata": {
        "id": "I0faGrfiXtI7"
      }
    },
    {
      "cell_type": "code",
      "source": [
        "#Display all records of last 2 days ( no future dates )\n",
        "query=\"SELECT * FROM table_dt WHERE date BETWEEN date('now','-2 day') AND date('now')\"\n",
        "my_data=list(my_conn.execute(query)) # rows of data as list\n",
        "print(my_data) # display  rows"
      ],
      "metadata": {
        "id": "OXCtAaNLXIto"
      },
      "execution_count": null,
      "outputs": []
    },
    {
      "cell_type": "markdown",
      "source": [
        "[More on SQLite database using Colab platform](https://www.plus2net.com/python/sqlite-colab.php)\n",
        "\n",
        "\n",
        "Web site: www.plus2net.com\n",
        "\n",
        "YouTube: https://www.youtube.com/@plus2net1\n",
        "\n",
        "Facebook: https://www.facebook.com/plus2net\n",
        "\n",
        "Instagram: https://www.instagram.com/plus2net.in/\n",
        "\n",
        "LinkedIn: https://www.linkedin.com/in/plus2net/\n",
        "\n",
        "Write to us  https: //www.plus2net.com/contactus.php"
      ],
      "metadata": {
        "id": "x32Q9CyYo69X"
      }
    }
  ]
}