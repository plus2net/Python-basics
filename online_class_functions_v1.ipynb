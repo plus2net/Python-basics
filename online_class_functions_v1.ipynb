{
  "nbformat": 4,
  "nbformat_minor": 0,
  "metadata": {
    "colab": {
      "provenance": [],
      "authorship_tag": "ABX9TyO6qnN1Mplk8cRV0Js/IlEE",
      "include_colab_link": true
    },
    "kernelspec": {
      "name": "python3",
      "display_name": "Python 3"
    }
  },
  "cells": [
    {
      "cell_type": "markdown",
      "metadata": {
        "id": "view-in-github",
        "colab_type": "text"
      },
      "source": [
        "<a href=\"https://colab.research.google.com/github/plus2net/Python-basics/blob/main/online_class_functions_v1.ipynb\" target=\"_parent\"><img src=\"https://colab.research.google.com/assets/colab-badge.svg\" alt=\"Open In Colab\"/></a>"
      ]
    },
    {
      "cell_type": "markdown",
      "source": [
        "![alt text](https://www.plus2net.com/images/top2.jpg)        Read more on [Python functions ](https://www.plus2net.com/python/functions.php)"
      ],
      "metadata": {
        "id": "audw05pSF0iu"
      }
    },
    {
      "cell_type": "markdown",
      "metadata": {
        "id": "WMByX06CKKKE"
      },
      "source": [
        "Function to print welcome message"
      ]
    },
    {
      "cell_type": "code",
      "source": [
        "def my_fun():\n",
        "  print('Welcome')\n",
        "my_fun() # calling the function"
      ],
      "metadata": {
        "id": "A6mhRr08oQlp"
      },
      "execution_count": null,
      "outputs": []
    },
    {
      "cell_type": "markdown",
      "source": [
        "Pasing parameter to function"
      ],
      "metadata": {
        "id": "WBe-V5gTmJjr"
      }
    },
    {
      "cell_type": "code",
      "source": [
        "def my_fun(n):\n",
        "  print(n+10)\n",
        "my_fun(5)"
      ],
      "metadata": {
        "colab": {
          "base_uri": "https://localhost:8080/"
        },
        "id": "DNzCEiRvo2eU",
        "outputId": "aaac5065-9952-497c-9bad-52cf156591c1"
      },
      "execution_count": null,
      "outputs": [
        {
          "output_type": "stream",
          "name": "stdout",
          "text": [
            "15\n"
          ]
        }
      ]
    },
    {
      "cell_type": "markdown",
      "source": [
        "Returning data from function"
      ],
      "metadata": {
        "id": "9VFOWh2amcm8"
      }
    },
    {
      "cell_type": "code",
      "source": [
        "def my_fun(n1,n2):\n",
        "  return n1+n2\n",
        "print(\"Sum is \",my_fun(5,7))"
      ],
      "metadata": {
        "colab": {
          "base_uri": "https://localhost:8080/"
        },
        "id": "JHk5ZvBNpJiT",
        "outputId": "25ea97d9-22d3-47a6-b84d-a097588a4c66"
      },
      "execution_count": null,
      "outputs": [
        {
          "output_type": "stream",
          "name": "stdout",
          "text": [
            "Sum is  12\n"
          ]
        }
      ]
    },
    {
      "cell_type": "markdown",
      "source": [
        "Passing list to a function"
      ],
      "metadata": {
        "id": "93cXm3hPme2F"
      }
    },
    {
      "cell_type": "code",
      "source": [
        "def my_sum(my_marks):\n",
        "  my_total=sum(my_marks) # Sum of all elements of list\n",
        "  return my_total # returning the sum of the list\n",
        "\n",
        "my_list1=[1,3,4,2,5]\n",
        "print(\"Sum = \",my_sum(my_list1))"
      ],
      "metadata": {
        "colab": {
          "base_uri": "https://localhost:8080/"
        },
        "id": "zYK_DySapgQF",
        "outputId": "a0b4c8fe-56ef-4f00-ba11-a52116c507b9"
      },
      "execution_count": 10,
      "outputs": [
        {
          "output_type": "stream",
          "name": "stdout",
          "text": [
            "Sum =  15\n"
          ]
        }
      ]
    },
    {
      "cell_type": "markdown",
      "source": [
        "Returning list from a function"
      ],
      "metadata": {
        "id": "sc47BcnQ-FfI"
      }
    },
    {
      "cell_type": "code",
      "source": [
        "def my_details(my_marks):\n",
        "  my_total=sum(my_marks)\n",
        "  avg1=my_total/len(my_marks)\n",
        "  a=[my_total,avg1,len(my_marks)]\n",
        "  return a\n",
        "\n",
        "my_list1=[1,3,4,2,5]\n",
        "mark_final=my_details(my_list1)\n",
        "print(\"Details = {}\".format(mark_final))"
      ],
      "metadata": {
        "id": "W03nKxsEqqi1"
      },
      "execution_count": null,
      "outputs": []
    },
    {
      "cell_type": "markdown",
      "source": [
        "Passing string parameters to function"
      ],
      "metadata": {
        "id": "juo7xOtk-oHA"
      }
    },
    {
      "cell_type": "code",
      "source": [
        "def my_string(str1,str2):\n",
        "  str3=str1+str2\n",
        "  return str3\n",
        "str_final=my_string('Welcome to ','Python')\n",
        "print('Here is your final string : ',str_final)"
      ],
      "metadata": {
        "colab": {
          "base_uri": "https://localhost:8080/"
        },
        "id": "z8d4bo2yr3Cq",
        "outputId": "3376a3d1-4c14-49d5-dd48-245bbaac566a"
      },
      "execution_count": null,
      "outputs": [
        {
          "output_type": "stream",
          "name": "stdout",
          "text": [
            "Here is your final string :  Welcome to Python\n"
          ]
        }
      ]
    },
    {
      "cell_type": "markdown",
      "source": [
        "Default Arguments of function."
      ],
      "metadata": {
        "id": "hPM2gSLM_SDx"
      }
    },
    {
      "cell_type": "markdown",
      "source": [
        "Function returning more than one parameter"
      ],
      "metadata": {
        "id": "w4vUC28t_p9J"
      }
    },
    {
      "cell_type": "markdown",
      "source": [
        "**args  *args"
      ],
      "metadata": {
        "id": "JceX05VYePXA"
      }
    },
    {
      "cell_type": "markdown",
      "source": [
        "Docstrings of a function"
      ],
      "metadata": {
        "id": "rQETv2hKeW5n"
      }
    },
    {
      "cell_type": "markdown",
      "source": [
        "Using functions from different file"
      ],
      "metadata": {
        "id": "NeAxXrjYea2Y"
      }
    },
    {
      "cell_type": "markdown",
      "source": [
        "Recursive function"
      ],
      "metadata": {
        "id": "6tB9UjSHee3f"
      }
    }
  ]
}