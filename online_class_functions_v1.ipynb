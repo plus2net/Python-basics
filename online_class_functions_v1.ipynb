{
  "nbformat": 4,
  "nbformat_minor": 0,
  "metadata": {
    "colab": {
      "provenance": [],
      "authorship_tag": "ABX9TyPE/+okTINUCmMuLBAtRMTC",
      "include_colab_link": true
    },
    "kernelspec": {
      "name": "python3",
      "display_name": "Python 3"
    }
  },
  "cells": [
    {
      "cell_type": "markdown",
      "metadata": {
        "id": "view-in-github",
        "colab_type": "text"
      },
      "source": [
        "<a href=\"https://colab.research.google.com/github/plus2net/Python-basics/blob/main/online_class_functions_v1.ipynb\" target=\"_parent\"><img src=\"https://colab.research.google.com/assets/colab-badge.svg\" alt=\"Open In Colab\"/></a>"
      ]
    },
    {
      "cell_type": "markdown",
      "source": [
        "![alt text](https://www.plus2net.com/images/top2.jpg)        Read more on [Python functions ](https://www.plus2net.com/python/functions.php)"
      ],
      "metadata": {
        "id": "audw05pSF0iu"
      }
    },
    {
      "cell_type": "markdown",
      "metadata": {
        "id": "WMByX06CKKKE"
      },
      "source": [
        "Function to print welcome message"
      ]
    },
    {
      "cell_type": "markdown",
      "source": [
        "Pasing parameter to function"
      ],
      "metadata": {
        "id": "WBe-V5gTmJjr"
      }
    },
    {
      "cell_type": "markdown",
      "source": [
        "Returning data from function"
      ],
      "metadata": {
        "id": "9VFOWh2amcm8"
      }
    },
    {
      "cell_type": "markdown",
      "source": [
        "Passing list to a function"
      ],
      "metadata": {
        "id": "93cXm3hPme2F"
      }
    },
    {
      "cell_type": "markdown",
      "source": [
        "Returning list to a function"
      ],
      "metadata": {
        "id": "sc47BcnQ-FfI"
      }
    },
    {
      "cell_type": "markdown",
      "source": [
        "Passing string parameters to function"
      ],
      "metadata": {
        "id": "juo7xOtk-oHA"
      }
    },
    {
      "cell_type": "markdown",
      "source": [
        "Default Arguments of function."
      ],
      "metadata": {
        "id": "hPM2gSLM_SDx"
      }
    },
    {
      "cell_type": "markdown",
      "source": [
        "Function returning more htan one parameter"
      ],
      "metadata": {
        "id": "w4vUC28t_p9J"
      }
    },
    {
      "cell_type": "markdown",
      "source": [
        "*args  **args"
      ],
      "metadata": {
        "id": "JceX05VYePXA"
      }
    },
    {
      "cell_type": "markdown",
      "source": [
        "Docstrings of a function"
      ],
      "metadata": {
        "id": "rQETv2hKeW5n"
      }
    },
    {
      "cell_type": "markdown",
      "source": [
        "Using functions from different file"
      ],
      "metadata": {
        "id": "NeAxXrjYea2Y"
      }
    },
    {
      "cell_type": "markdown",
      "source": [
        "Recursive function"
      ],
      "metadata": {
        "id": "6tB9UjSHee3f"
      }
    }
  ]
}