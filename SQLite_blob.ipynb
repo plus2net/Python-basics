{
  "nbformat": 4,
  "nbformat_minor": 0,
  "metadata": {
    "kernelspec": {
      "display_name": "Python 3",
      "language": "python",
      "name": "python3"
    },
    "language_info": {
      "codemirror_mode": {
        "name": "ipython",
        "version": 3
      },
      "file_extension": ".py",
      "mimetype": "text/x-python",
      "name": "python",
      "nbconvert_exporter": "python",
      "pygments_lexer": "ipython3",
      "version": "3.6.3"
    },
    "colab": {
      "provenance": [],
      "include_colab_link": true
    }
  },
  "cells": [
    {
      "cell_type": "markdown",
      "metadata": {
        "id": "view-in-github",
        "colab_type": "text"
      },
      "source": [
        "<a href=\"https://colab.research.google.com/github/plus2net/Python-basics/blob/main/SQLite_blob.ipynb\" target=\"_parent\"><img src=\"https://colab.research.google.com/assets/colab-badge.svg\" alt=\"Open In Colab\"/></a>"
      ]
    },
    {
      "cell_type": "markdown",
      "source": [
        "![alt text](https://www.plus2net.com/images/top2.jpg)        Read more on [SQLite Colab display image](https://www.plus2net.com/python/sqlite-colab-image.php)"
      ],
      "metadata": {
        "id": "92fALlH3obiE"
      }
    },
    {
      "cell_type": "code",
      "execution_count": null,
      "source": [
        "# download student_blob.db SQLite Database from plus2net.com\n",
        "!wget https://www.plus2net.com/python/download/student_blob.db"
      ],
      "outputs": [],
      "metadata": {
        "id": "Ylg7JbjIAZME"
      }
    },
    {
      "cell_type": "code",
      "source": [
        "import sqlite3 # Connection library\n",
        "my_conn = sqlite3.connect('student_blob.db') # connect to db"
      ],
      "metadata": {
        "id": "RS82XZ3F-l0b"
      },
      "execution_count": 41,
      "outputs": []
    },
    {
      "cell_type": "code",
      "source": [
        "from PIL import Image\n",
        "import io\n",
        "import matplotlib.pyplot as plt"
      ],
      "metadata": {
        "id": "4Rz9Ep-7Q5Xl"
      },
      "execution_count": 42,
      "outputs": []
    },
    {
      "cell_type": "code",
      "source": [
        "query=\"pragma table_info([student_profile])\"\n",
        "my_data=list(my_conn.execute(query)) # structure\n",
        "print(my_data) # Listing structure of table"
      ],
      "metadata": {
        "colab": {
          "base_uri": "https://localhost:8080/"
        },
        "id": "-JYWcNzE3RXA",
        "outputId": "4d6a6e77-5bb8-4fd6-d576-af8e1be4ecfc"
      },
      "execution_count": 43,
      "outputs": [
        {
          "output_type": "stream",
          "name": "stdout",
          "text": [
            "[(0, 'id', 'INTEGER', 0, None, 0), (1, 'student', 'TEXT', 0, None, 0), (2, 'profile_photo', 'BLOB', 0, None, 0)]\n"
          ]
        }
      ]
    },
    {
      "cell_type": "code",
      "source": [
        "r_set=my_conn.execute('SELECT * from student_profile ');\n",
        "\n",
        "for row in r_set:\n",
        "  image = Image.open(io.BytesIO(row[2]))\n",
        "  plt.figure(figsize=(1,1))\n",
        "  plt.axis(False)\n",
        "  plt.imshow(image)\n",
        "  print(row[0],row[1],'')\n",
        "  plt.show()"
      ],
      "metadata": {
        "id": "AifK3TToN0p9"
      },
      "execution_count": null,
      "outputs": []
    },
    {
      "cell_type": "markdown",
      "source": [
        "[More on SQLite database using Colab platform](https://www.plus2net.com/python/sqlite-colab.php)\n",
        "\n",
        "\n",
        "Web site: www.plus2net.com\n",
        "\n",
        "YouTube: https://www.youtube.com/@plus2net1\n",
        "\n",
        "Facebook: https://www.facebook.com/plus2net\n",
        "\n",
        "Instagram: https://www.instagram.com/plus2net.in/\n",
        "\n",
        "LinkedIn: https://www.linkedin.com/in/plus2net/\n",
        "\n",
        "Write to us  https: //www.plus2net.com/contactus.php"
      ],
      "metadata": {
        "id": "x32Q9CyYo69X"
      }
    }
  ]
}