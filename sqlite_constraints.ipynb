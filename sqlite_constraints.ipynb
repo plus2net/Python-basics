{
  "nbformat": 4,
  "nbformat_minor": 0,
  "metadata": {
    "kernelspec": {
      "display_name": "Python 3",
      "language": "python",
      "name": "python3"
    },
    "language_info": {
      "codemirror_mode": {
        "name": "ipython",
        "version": 3
      },
      "file_extension": ".py",
      "mimetype": "text/x-python",
      "name": "python",
      "nbconvert_exporter": "python",
      "pygments_lexer": "ipython3",
      "version": "3.6.3"
    },
    "colab": {
      "provenance": [],
      "include_colab_link": true
    }
  },
  "cells": [
    {
      "cell_type": "markdown",
      "metadata": {
        "id": "view-in-github",
        "colab_type": "text"
      },
      "source": [
        "<a href=\"https://colab.research.google.com/github/plus2net/Python-basics/blob/main/sqlite_constraints.ipynb\" target=\"_parent\"><img src=\"https://colab.research.google.com/assets/colab-badge.svg\" alt=\"Open In Colab\"/></a>"
      ]
    },
    {
      "cell_type": "markdown",
      "source": [
        "![alt text](https://www.plus2net.com/images/top2.jpg)        Read more on [SQLite Colab constraints](https://www.plus2net.com/python/sqlite-check.php)"
      ],
      "metadata": {
        "id": "92fALlH3obiE"
      }
    },
    {
      "cell_type": "markdown",
      "source": [
        "Create or connect to SQLite database"
      ],
      "metadata": {
        "id": "oAELVkdJvUrl"
      }
    },
    {
      "cell_type": "code",
      "source": [
        "import sqlite3\n",
        "my_conn = sqlite3.connect('my_db.db')\n",
        "print(\"Connected to database successfully\")"
      ],
      "metadata": {
        "id": "0A38cQ_2PyvK"
      },
      "execution_count": null,
      "outputs": []
    },
    {
      "cell_type": "markdown",
      "source": [
        "(Optional) , Deleter table students"
      ],
      "metadata": {
        "id": "OS1ngLdZpsjN"
      }
    },
    {
      "cell_type": "code",
      "source": [
        "query='DROP table students'\n",
        "try:\n",
        "  my_conn.execute(query)\n",
        "except sqlite3.Error as my_error:\n",
        "    print(\"error: \",my_error)\n",
        "else:\n",
        "  print(\"Students Table deleted  successfully\")"
      ],
      "metadata": {
        "id": "Cspk3x5LWqWz"
      },
      "execution_count": null,
      "outputs": []
    },
    {
      "cell_type": "markdown",
      "source": [
        "Query to create table with constraints."
      ],
      "metadata": {
        "id": "pDLZscWLp0e3"
      }
    },
    {
      "cell_type": "code",
      "source": [
        "query='CREATE TABLE students (\\\n",
        "    student_id INTEGER PRIMARY KEY,\\\n",
        "    name TEXT NOT NULL,\\\n",
        "    age INTEGER CHECK(age >= 5),\\\n",
        "    email TEXT UNIQUE,\\\n",
        "    class_id INTEGER check(typeof(class_id)=\"integer\"))'"
      ],
      "metadata": {
        "id": "U-OIA6F3PoBK"
      },
      "execution_count": 55,
      "outputs": []
    },
    {
      "cell_type": "markdown",
      "source": [
        "Execute query to create table"
      ],
      "metadata": {
        "id": "uqWTuv67p48K"
      }
    },
    {
      "cell_type": "code",
      "source": [
        "try:\n",
        "  my_conn.execute(query)\n",
        "except sqlite3.Error as my_error:\n",
        "    print(\"error: \",my_error)\n",
        "else:\n",
        "  print(\"Students Table created successfully\")"
      ],
      "metadata": {
        "id": "eMqezOP9QIMC"
      },
      "execution_count": null,
      "outputs": []
    },
    {
      "cell_type": "markdown",
      "source": [
        "Adding data to table ( Query part only )"
      ],
      "metadata": {
        "id": "yvp6Rc1aQ7ep"
      }
    },
    {
      "cell_type": "code",
      "source": [
        "query='''INSERT INTO `students` \\\n",
        "  (`student_id`, `name`, `age`, `email`,`class_id`) VALUES\\\n",
        "  (1, \"John Deo\",20,\"abc@example.com\",5),\\\n",
        "  (2, \"Max Ruin\",21, \"xyz@example.com\", 6),\\\n",
        "  (3, \"Arnold\", 20,\"klm@example.com\", 4);'''"
      ],
      "metadata": {
        "id": "cDaV96naSw7j"
      },
      "execution_count": 57,
      "outputs": []
    },
    {
      "cell_type": "markdown",
      "source": [
        "Execute the query to add rows to table"
      ],
      "metadata": {
        "id": "0E_lWr30qPUC"
      }
    },
    {
      "cell_type": "code",
      "source": [
        "try:\n",
        "  r_set=my_conn.execute(query)\n",
        "except sqlite3.Error as e:\n",
        "    print(\"An error occurred:\", e.args[0])\n",
        "else:\n",
        "  print(\"No of Records added : \",r_set.rowcount)"
      ],
      "metadata": {
        "id": "8zjn97WvQzsT"
      },
      "execution_count": null,
      "outputs": []
    },
    {
      "cell_type": "markdown",
      "source": [
        "Query to add single record to test the constraints"
      ],
      "metadata": {
        "id": "-W7UfW8vqaAo"
      }
    },
    {
      "cell_type": "code",
      "source": [
        "query='''INSERT INTO `students` \\\n",
        "  (`student_id`, `name`, `age`, `email`, `class_id`) VALUES\\\n",
        "  (4, \"John Deo\",5,\"abc4@example.com\",\"123\")'''"
      ],
      "metadata": {
        "id": "l6G4EcN7YVm6"
      },
      "execution_count": 64,
      "outputs": []
    },
    {
      "cell_type": "code",
      "source": [
        "query='''INSERT INTO `students` \\\n",
        "  (`student_id`, `name`, `age`, `email`, `enrolled`,`class_id`) VALUES\\\n",
        "  (4, 'abc',5,\"abc5@example.com\",5)'''"
      ],
      "metadata": {
        "id": "XVfTP_daTmTL"
      },
      "execution_count": 51,
      "outputs": []
    },
    {
      "cell_type": "markdown",
      "source": [
        "Execute the query to check the constraints"
      ],
      "metadata": {
        "id": "GNzzySR4qh2w"
      }
    },
    {
      "cell_type": "code",
      "source": [
        "try:\n",
        "  r_set=my_conn.execute(query)\n",
        "except sqlite3.Error as e:\n",
        "    print(\"An error occurred:\", e.args[0])\n",
        "else:\n",
        "  print(\"No of Records added : \",r_set.rowcount)"
      ],
      "metadata": {
        "id": "gcUvNZizTutD"
      },
      "execution_count": null,
      "outputs": []
    },
    {
      "cell_type": "markdown",
      "source": [
        "Show all records available in students table"
      ],
      "metadata": {
        "id": "KUoxN5LUqnf6"
      }
    },
    {
      "cell_type": "code",
      "source": [
        "query=\"SELECT *  FROM students \"\n",
        "my_data=my_conn.execute(query) #\n",
        "for row in my_data:\n",
        "  print(row)\n"
      ],
      "metadata": {
        "id": "HVYr9C7aURpb"
      },
      "execution_count": null,
      "outputs": []
    },
    {
      "cell_type": "markdown",
      "source": [
        "[Download the code and tutorial on SQLite constraints](https://www.plus2net.com/python/sqlite-check.php)\n",
        "\n",
        "[More on SQLite database using Colab platform](https://www.plus2net.com/python/sqlite-colab.php)\n",
        "\n",
        "\n",
        "Web site: www.plus2net.com\n",
        "\n",
        "YouTube: https://www.youtube.com/@plus2net1\n",
        "\n",
        "Facebook: https://www.facebook.com/plus2net\n",
        "\n",
        "Instagram: https://www.instagram.com/plus2net.in/\n",
        "\n",
        "LinkedIn: https://www.linkedin.com/in/plus2net/\n",
        "\n",
        "Write to us  https: //www.plus2net.com/contactus.php"
      ],
      "metadata": {
        "id": "x32Q9CyYo69X"
      }
    }
  ]
}