{
  "nbformat": 4,
  "nbformat_minor": 0,
  "metadata": {
    "kernelspec": {
      "display_name": "Python 3",
      "language": "python",
      "name": "python3"
    },
    "language_info": {
      "codemirror_mode": {
        "name": "ipython",
        "version": 3
      },
      "file_extension": ".py",
      "mimetype": "text/x-python",
      "name": "python",
      "nbconvert_exporter": "python",
      "pygments_lexer": "ipython3",
      "version": "3.6.3"
    },
    "colab": {
      "provenance": [],
      "include_colab_link": true
    }
  },
  "cells": [
    {
      "cell_type": "markdown",
      "metadata": {
        "id": "view-in-github",
        "colab_type": "text"
      },
      "source": [
        "<a href=\"https://colab.research.google.com/github/plus2net/Python-basics/blob/main/pdf_long_text_1.ipynb\" target=\"_parent\"><img src=\"https://colab.research.google.com/assets/colab-badge.svg\" alt=\"Open In Colab\"/></a>"
      ]
    },
    {
      "cell_type": "markdown",
      "source": [
        "# Handling Long Text with Automatic Page Breaks in ReportLab"
      ],
      "metadata": {
        "id": "HOx1onFiF5-p"
      }
    },
    {
      "cell_type": "code",
      "source": [
        "pip install reportlab # reportlab is used for creating PDF file"
      ],
      "metadata": {
        "id": "2UEhDQQfGU-m"
      },
      "execution_count": null,
      "outputs": []
    },
    {
      "cell_type": "markdown",
      "source": [
        "Import necessary modules from ReportLab."
      ],
      "metadata": {
        "id": "Soa0N4tgwLfW"
      }
    },
    {
      "cell_type": "code",
      "source": [
        "from reportlab.lib.pagesizes import letter\n",
        "from reportlab.lib.styles import getSampleStyleSheet\n",
        "from reportlab.platypus import SimpleDocTemplate, Paragraph, Spacer"
      ],
      "metadata": {
        "id": "KZig3Fr_6OH7"
      },
      "execution_count": 2,
      "outputs": []
    },
    {
      "cell_type": "markdown",
      "source": [
        "Create a PDF document using path\n"
      ],
      "metadata": {
        "id": "8Csq3Pk-6V4C"
      }
    },
    {
      "cell_type": "code",
      "source": [
        "my_path='my_pdf.pdf'  # Change this path by adding drive and directory name"
      ],
      "metadata": {
        "id": "djEq8BaN6bkA"
      },
      "execution_count": 3,
      "outputs": []
    },
    {
      "cell_type": "markdown",
      "source": [
        "creates a document template for generating a PDF file"
      ],
      "metadata": {
        "id": "d3vsO0WD_wio"
      }
    },
    {
      "cell_type": "code",
      "source": [
        "doc = SimpleDocTemplate(my_path, pagesize=letter)"
      ],
      "metadata": {
        "id": "9V-WahxC6nlh"
      },
      "execution_count": 4,
      "outputs": []
    },
    {
      "cell_type": "markdown",
      "source": [
        "Get a sample style sheet"
      ],
      "metadata": {
        "id": "3MzME_DW66VQ"
      }
    },
    {
      "cell_type": "code",
      "source": [
        "styles = getSampleStyleSheet()\n",
        "style = styles[\"Normal\"]"
      ],
      "metadata": {
        "id": "dvivz61T62ka"
      },
      "execution_count": 5,
      "outputs": []
    },
    {
      "cell_type": "markdown",
      "source": [
        "Long text for the paragraphs"
      ],
      "metadata": {
        "id": "hMlm59kF6_Wj"
      }
    },
    {
      "cell_type": "code",
      "source": [
        "long_text = \"\"\"\n",
        "plus2net.com is an invaluable resource for programmers and students looking to enhance their skills\n",
        "in various web programming languages.\n",
        "\n",
        "The site offers a comprehensive Python section that covers a wide range of topics,\n",
        "from basic syntax and data types to advanced concepts like decorators, generators, and context managers.\n",
        "\n",
        "Detailed tutorials, practical examples, and clear explanations make it easy for learners at all levels\n",
        "to understand and apply Python programming in real-world scenarios.\n",
        "\n",
        "Whether you are just starting out or looking to refine your skills, plus2net.com's Python section\n",
        "is designed to provide the knowledge and tools you need to succeed.\n",
        "...\n",
        "\"\"\" * 5  # Repeated to ensure long text"
      ],
      "metadata": {
        "id": "2Sga5SIz7Hto"
      },
      "execution_count": 6,
      "outputs": []
    },
    {
      "cell_type": "markdown",
      "source": [
        "Create a list of flowables"
      ],
      "metadata": {
        "id": "4SkiChqm7L-7"
      }
    },
    {
      "cell_type": "code",
      "source": [
        "elements = []"
      ],
      "metadata": {
        "id": "TxH05yZA7Nia"
      },
      "execution_count": 7,
      "outputs": []
    },
    {
      "cell_type": "markdown",
      "source": [
        "Split the long text into paragraphs and add to the elements list"
      ],
      "metadata": {
        "id": "6cvFJMZz7SNB"
      }
    },
    {
      "cell_type": "code",
      "source": [
        "for paragraph in long_text.split(\"\\n\"):\n",
        "    elements.append(Paragraph(paragraph, style))\n",
        "    elements.append(Spacer(1, 12))  # Add space between paragraphs"
      ],
      "metadata": {
        "id": "vqnHBy_t7Vm6"
      },
      "execution_count": 8,
      "outputs": []
    },
    {
      "cell_type": "markdown",
      "source": [
        "Build the PDF document with the flowables"
      ],
      "metadata": {
        "id": "9b3usi_m7bqC"
      }
    },
    {
      "cell_type": "code",
      "source": [
        "doc.build(elements)"
      ],
      "metadata": {
        "id": "pJHtYaqr7fNC"
      },
      "execution_count": 9,
      "outputs": []
    },
    {
      "cell_type": "markdown",
      "source": [
        "Download the pdf file to your local system"
      ],
      "metadata": {
        "id": "yOrzCEglvO50"
      }
    },
    {
      "cell_type": "code",
      "source": [
        "from google.colab import files\n",
        "files.download('my_pdf.pdf')"
      ],
      "metadata": {
        "colab": {
          "base_uri": "https://localhost:8080/",
          "height": 17
        },
        "id": "8G7H4ezbM1It",
        "outputId": "c03a7d9f-8efb-4507-9e8b-f8027b777da9"
      },
      "execution_count": 10,
      "outputs": [
        {
          "output_type": "display_data",
          "data": {
            "text/plain": [
              "<IPython.core.display.Javascript object>"
            ],
            "application/javascript": [
              "\n",
              "    async function download(id, filename, size) {\n",
              "      if (!google.colab.kernel.accessAllowed) {\n",
              "        return;\n",
              "      }\n",
              "      const div = document.createElement('div');\n",
              "      const label = document.createElement('label');\n",
              "      label.textContent = `Downloading \"${filename}\": `;\n",
              "      div.appendChild(label);\n",
              "      const progress = document.createElement('progress');\n",
              "      progress.max = size;\n",
              "      div.appendChild(progress);\n",
              "      document.body.appendChild(div);\n",
              "\n",
              "      const buffers = [];\n",
              "      let downloaded = 0;\n",
              "\n",
              "      const channel = await google.colab.kernel.comms.open(id);\n",
              "      // Send a message to notify the kernel that we're ready.\n",
              "      channel.send({})\n",
              "\n",
              "      for await (const message of channel.messages) {\n",
              "        // Send a message to notify the kernel that we're ready.\n",
              "        channel.send({})\n",
              "        if (message.buffers) {\n",
              "          for (const buffer of message.buffers) {\n",
              "            buffers.push(buffer);\n",
              "            downloaded += buffer.byteLength;\n",
              "            progress.value = downloaded;\n",
              "          }\n",
              "        }\n",
              "      }\n",
              "      const blob = new Blob(buffers, {type: 'application/binary'});\n",
              "      const a = document.createElement('a');\n",
              "      a.href = window.URL.createObjectURL(blob);\n",
              "      a.download = filename;\n",
              "      div.appendChild(a);\n",
              "      a.click();\n",
              "      div.remove();\n",
              "    }\n",
              "  "
            ]
          },
          "metadata": {}
        },
        {
          "output_type": "display_data",
          "data": {
            "text/plain": [
              "<IPython.core.display.Javascript object>"
            ],
            "application/javascript": [
              "download(\"download_aab1d8a1-fb8b-4fe6-9406-d7e5e8c70357\", \"my_pdf.pdf\", 4198)"
            ]
          },
          "metadata": {}
        }
      ]
    },
    {
      "cell_type": "markdown",
      "source": [
        "[Download the code and tutorial on Paragraph](https://www.plus2net.com/python/pdf-paragraph.php)\n",
        "\n",
        "\n",
        "\n",
        "\n",
        "Web site: www.plus2net.com\n",
        "\n",
        "YouTube: https://www.youtube.com/@plus2net1\n",
        "\n",
        "Facebook: https://www.facebook.com/plus2net\n",
        "\n",
        "Instagram: https://www.instagram.com/plus2net.in/\n",
        "\n",
        "LinkedIn: https://www.linkedin.com/in/plus2net/\n",
        "\n",
        "Write to us  https: //www.plus2net.com/contactus.php"
      ],
      "metadata": {
        "id": "x32Q9CyYo69X"
      }
    }
  ]
}