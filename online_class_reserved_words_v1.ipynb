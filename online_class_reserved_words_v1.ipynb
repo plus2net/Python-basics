{
  "nbformat": 4,
  "nbformat_minor": 0,
  "metadata": {
    "colab": {
      "provenance": [],
      "authorship_tag": "ABX9TyPEpIsPPJ10xQCzgGDOSura",
      "include_colab_link": true
    },
    "kernelspec": {
      "name": "python3",
      "display_name": "Python 3"
    }
  },
  "cells": [
    {
      "cell_type": "markdown",
      "metadata": {
        "id": "view-in-github",
        "colab_type": "text"
      },
      "source": [
        "<a href=\"https://colab.research.google.com/github/plus2net/Python-basics/blob/main/online_class_reserved_words_v1.ipynb\" target=\"_parent\"><img src=\"https://colab.research.google.com/assets/colab-badge.svg\" alt=\"Open In Colab\"/></a>"
      ]
    },
    {
      "cell_type": "markdown",
      "source": [
        "![alt text](https://www.plus2net.com/images/top2.jpg)        Read more on [Python  reserved words ](https://www.plus2net.com/python/reserved-keywords.php)"
      ],
      "metadata": {
        "id": "audw05pSF0iu"
      }
    },
    {
      "cell_type": "markdown",
      "metadata": {
        "id": "WMByX06CKKKE"
      },
      "source": [
        "How to check if the string is reserved word or not"
      ]
    },
    {
      "cell_type": "code",
      "source": [
        "import keyword\n",
        "print(keyword.iskeyword('nonlocal')) # True"
      ],
      "metadata": {
        "id": "aI2inD7r0nOs"
      },
      "execution_count": null,
      "outputs": []
    },
    {
      "cell_type": "markdown",
      "source": [
        "Prepare a list of reserved words used by Python"
      ],
      "metadata": {
        "id": "6thqHvIYh74U"
      }
    },
    {
      "cell_type": "code",
      "source": [
        "print(keyword.kwlist)"
      ],
      "metadata": {
        "colab": {
          "base_uri": "https://localhost:8080/"
        },
        "id": "YrNDk4ym0_Ww",
        "outputId": "ca954b87-1042-40c4-bf9c-0de18ddca1c5"
      },
      "execution_count": 5,
      "outputs": [
        {
          "output_type": "stream",
          "name": "stdout",
          "text": [
            "['False', 'None', 'True', 'and', 'as', 'assert', 'async', 'await', 'break', 'class', 'continue', 'def', 'del', 'elif', 'else', 'except', 'finally', 'for', 'from', 'global', 'if', 'import', 'in', 'is', 'lambda', 'nonlocal', 'not', 'or', 'pass', 'raise', 'return', 'try', 'while', 'with', 'yield']\n"
          ]
        }
      ]
    },
    {
      "cell_type": "markdown",
      "source": [
        "What is the total number of reserved words in Python"
      ],
      "metadata": {
        "id": "b3v2E3Pm9qES"
      }
    },
    {
      "cell_type": "code",
      "source": [
        "print(len(keyword.kwlist))"
      ],
      "metadata": {
        "id": "2-6oB6BZ1U_P"
      },
      "execution_count": null,
      "outputs": []
    },
    {
      "cell_type": "markdown",
      "metadata": {
        "id": "PqNx6LxZKBjp"
      },
      "source": [
        "Check if def is a reserved word or not"
      ]
    },
    {
      "cell_type": "code",
      "source": [
        "def=45"
      ],
      "metadata": {
        "id": "jr_UhXwJ1ftt"
      },
      "execution_count": null,
      "outputs": []
    },
    {
      "cell_type": "markdown",
      "source": [
        "Check if For , Break ,true ... are reserved words or not"
      ],
      "metadata": {
        "id": "yDcTT5TZiDWx"
      }
    },
    {
      "cell_type": "code",
      "source": [
        "print(keyword.iskeyword('True')) # True\n",
        "print(keyword.iskeyword('False')) # True\n",
        "print(keyword.iskeyword('None')) # True"
      ],
      "metadata": {
        "colab": {
          "base_uri": "https://localhost:8080/"
        },
        "id": "gJ9_H29714UV",
        "outputId": "25528f9f-ebed-43cd-814c-227669a4cb81"
      },
      "execution_count": 11,
      "outputs": [
        {
          "output_type": "stream",
          "name": "stdout",
          "text": [
            "True\n",
            "True\n",
            "True\n"
          ]
        }
      ]
    }
  ]
}