{
  "nbformat": 4,
  "nbformat_minor": 0,
  "metadata": {
    "colab": {
      "provenance": [],
      "authorship_tag": "ABX9TyMABrD6FM/tapNCl/1kLsT2",
      "include_colab_link": true
    },
    "kernelspec": {
      "name": "python3",
      "display_name": "Python 3"
    }
  },
  "cells": [
    {
      "cell_type": "markdown",
      "metadata": {
        "id": "view-in-github",
        "colab_type": "text"
      },
      "source": [
        "<a href=\"https://colab.research.google.com/github/plus2net/Python-basics/blob/main/online_class_reserved_words_v1.ipynb\" target=\"_parent\"><img src=\"https://colab.research.google.com/assets/colab-badge.svg\" alt=\"Open In Colab\"/></a>"
      ]
    },
    {
      "cell_type": "markdown",
      "source": [
        "![alt text](https://www.plus2net.com/images/top2.jpg)        Read more on [Python  reserved words ](https://www.plus2net.com/python/reserved-keywords.php)"
      ],
      "metadata": {
        "id": "audw05pSF0iu"
      }
    },
    {
      "cell_type": "markdown",
      "metadata": {
        "id": "WMByX06CKKKE"
      },
      "source": [
        "How to check if the string is reserved word or not"
      ]
    },
    {
      "cell_type": "code",
      "source": [
        "import keyword\n",
        "print(keyword.iskeyword('nonlocal')) # True"
      ],
      "metadata": {
        "id": "aI2inD7r0nOs"
      },
      "execution_count": null,
      "outputs": []
    },
    {
      "cell_type": "markdown",
      "source": [
        "Prepare a list of reserved words used by Python"
      ],
      "metadata": {
        "id": "6thqHvIYh74U"
      }
    },
    {
      "cell_type": "code",
      "source": [
        "print(keyword.kwlist)"
      ],
      "metadata": {
        "colab": {
          "base_uri": "https://localhost:8080/"
        },
        "id": "YrNDk4ym0_Ww",
        "outputId": "ca954b87-1042-40c4-bf9c-0de18ddca1c5"
      },
      "execution_count": null,
      "outputs": [
        {
          "output_type": "stream",
          "name": "stdout",
          "text": [
            "['False', 'None', 'True', 'and', 'as', 'assert', 'async', 'await', 'break', 'class', 'continue', 'def', 'del', 'elif', 'else', 'except', 'finally', 'for', 'from', 'global', 'if', 'import', 'in', 'is', 'lambda', 'nonlocal', 'not', 'or', 'pass', 'raise', 'return', 'try', 'while', 'with', 'yield']\n"
          ]
        }
      ]
    },
    {
      "cell_type": "markdown",
      "source": [
        "What is the total number of reserved words in Python"
      ],
      "metadata": {
        "id": "b3v2E3Pm9qES"
      }
    },
    {
      "cell_type": "code",
      "source": [
        "print(len(keyword.kwlist))"
      ],
      "metadata": {
        "id": "2-6oB6BZ1U_P"
      },
      "execution_count": null,
      "outputs": []
    },
    {
      "cell_type": "markdown",
      "metadata": {
        "id": "PqNx6LxZKBjp"
      },
      "source": [
        "Check if def is a reserved word or not"
      ]
    },
    {
      "cell_type": "code",
      "source": [
        "def=45"
      ],
      "metadata": {
        "id": "jr_UhXwJ1ftt"
      },
      "execution_count": null,
      "outputs": []
    },
    {
      "cell_type": "markdown",
      "source": [
        "Check if For , Break ,true ... are reserved words or not"
      ],
      "metadata": {
        "id": "yDcTT5TZiDWx"
      }
    },
    {
      "cell_type": "code",
      "source": [
        "print(keyword.iskeyword('True')) # True\n",
        "print(keyword.iskeyword('False')) # True\n",
        "print(keyword.iskeyword('None')) # True\n"
      ],
      "metadata": {
        "id": "gJ9_H29714UV"
      },
      "execution_count": null,
      "outputs": []
    },
    {
      "cell_type": "markdown",
      "source": [
        "**Built-in Functions in Python**"
      ],
      "metadata": {
        "id": "m-N01WyllbDl"
      }
    },
    {
      "cell_type": "code",
      "source": [
        "import builtins\n",
        "for i in dir(builtins):\n",
        "  print(i)\n",
        "print(\"Total number of Built-in functions :\", len(dir(builtins)))"
      ],
      "metadata": {
        "id": "ctjiw19eTQoR",
        "collapsed": true,
        "outputId": "54fc4d8f-3ff1-4662-97da-5c67ce631f61",
        "colab": {
          "base_uri": "https://localhost:8080/"
        }
      },
      "execution_count": 2,
      "outputs": [
        {
          "output_type": "stream",
          "name": "stdout",
          "text": [
            "ArithmeticError\n",
            "AssertionError\n",
            "AttributeError\n",
            "BaseException\n",
            "BaseExceptionGroup\n",
            "BlockingIOError\n",
            "BrokenPipeError\n",
            "BufferError\n",
            "BytesWarning\n",
            "ChildProcessError\n",
            "ConnectionAbortedError\n",
            "ConnectionError\n",
            "ConnectionRefusedError\n",
            "ConnectionResetError\n",
            "DeprecationWarning\n",
            "EOFError\n",
            "Ellipsis\n",
            "EncodingWarning\n",
            "EnvironmentError\n",
            "Exception\n",
            "ExceptionGroup\n",
            "False\n",
            "FileExistsError\n",
            "FileNotFoundError\n",
            "FloatingPointError\n",
            "FutureWarning\n",
            "GeneratorExit\n",
            "IOError\n",
            "ImportError\n",
            "ImportWarning\n",
            "IndentationError\n",
            "IndexError\n",
            "InterruptedError\n",
            "IsADirectoryError\n",
            "KeyError\n",
            "KeyboardInterrupt\n",
            "LookupError\n",
            "MemoryError\n",
            "ModuleNotFoundError\n",
            "NameError\n",
            "None\n",
            "NotADirectoryError\n",
            "NotImplemented\n",
            "NotImplementedError\n",
            "OSError\n",
            "OverflowError\n",
            "PendingDeprecationWarning\n",
            "PermissionError\n",
            "ProcessLookupError\n",
            "RecursionError\n",
            "ReferenceError\n",
            "ResourceWarning\n",
            "RuntimeError\n",
            "RuntimeWarning\n",
            "StopAsyncIteration\n",
            "StopIteration\n",
            "SyntaxError\n",
            "SyntaxWarning\n",
            "SystemError\n",
            "SystemExit\n",
            "TabError\n",
            "TimeoutError\n",
            "True\n",
            "TypeError\n",
            "UnboundLocalError\n",
            "UnicodeDecodeError\n",
            "UnicodeEncodeError\n",
            "UnicodeError\n",
            "UnicodeTranslateError\n",
            "UnicodeWarning\n",
            "UserWarning\n",
            "ValueError\n",
            "Warning\n",
            "ZeroDivisionError\n",
            "__IPYTHON__\n",
            "__build_class__\n",
            "__debug__\n",
            "__doc__\n",
            "__import__\n",
            "__loader__\n",
            "__name__\n",
            "__package__\n",
            "__pybind11_internals_v4_gcc_libstdcpp_cxxabi1014__\n",
            "__spec__\n",
            "abs\n",
            "aiter\n",
            "all\n",
            "anext\n",
            "any\n",
            "ascii\n",
            "bin\n",
            "bool\n",
            "breakpoint\n",
            "bytearray\n",
            "bytes\n",
            "callable\n",
            "chr\n",
            "classmethod\n",
            "compile\n",
            "complex\n",
            "copyright\n",
            "credits\n",
            "delattr\n",
            "dict\n",
            "dir\n",
            "display\n",
            "divmod\n",
            "enumerate\n",
            "eval\n",
            "exec\n",
            "execfile\n",
            "filter\n",
            "float\n",
            "format\n",
            "frozenset\n",
            "get_ipython\n",
            "getattr\n",
            "globals\n",
            "hasattr\n",
            "hash\n",
            "help\n",
            "hex\n",
            "id\n",
            "input\n",
            "int\n",
            "isinstance\n",
            "issubclass\n",
            "iter\n",
            "len\n",
            "license\n",
            "list\n",
            "locals\n",
            "map\n",
            "max\n",
            "memoryview\n",
            "min\n",
            "next\n",
            "object\n",
            "oct\n",
            "open\n",
            "ord\n",
            "pow\n",
            "print\n",
            "property\n",
            "range\n",
            "repr\n",
            "reversed\n",
            "round\n",
            "runfile\n",
            "set\n",
            "setattr\n",
            "slice\n",
            "sorted\n",
            "staticmethod\n",
            "str\n",
            "sum\n",
            "super\n",
            "tuple\n",
            "type\n",
            "vars\n",
            "zip\n",
            "Total number of Built-in functions : 161\n"
          ]
        }
      ]
    },
    {
      "cell_type": "markdown",
      "source": [
        "Check if a word is a Python builtin function or not."
      ],
      "metadata": {
        "id": "rKoBkolyyxoo"
      }
    },
    {
      "cell_type": "code",
      "source": [
        "if 'sum' in dir(builtins):\n",
        "  print(' sum is a built-in function')\n",
        "else:\n",
        "  print(' No it is not a builtin function')"
      ],
      "metadata": {
        "colab": {
          "base_uri": "https://localhost:8080/"
        },
        "id": "UOLUtasBT2-f",
        "outputId": "b4ab432c-2f5b-4808-dc3b-b1846340b13c"
      },
      "execution_count": 3,
      "outputs": [
        {
          "output_type": "stream",
          "name": "stdout",
          "text": [
            " sum is a built-in function\n"
          ]
        }
      ]
    },
    {
      "cell_type": "code",
      "source": [
        "#int=22\n",
        "x=int(input(\"Enter a number\"))\n",
        "print(x*2)"
      ],
      "metadata": {
        "colab": {
          "base_uri": "https://localhost:8080/"
        },
        "id": "O9tcdye1UuaX",
        "outputId": "c63ac65a-b225-4245-e537-24f6b1c5abb0"
      },
      "execution_count": null,
      "outputs": [
        {
          "output_type": "stream",
          "name": "stdout",
          "text": [
            "Enter a number8\n",
            "16\n"
          ]
        }
      ]
    },
    {
      "cell_type": "code",
      "source": [
        "x=sum([8,9])\n",
        "print(x)"
      ],
      "metadata": {
        "colab": {
          "base_uri": "https://localhost:8080/"
        },
        "id": "F3M-l0q3Wjr_",
        "outputId": "e847b28a-520f-4bf9-ebeb-17fa91bba17a"
      },
      "execution_count": null,
      "outputs": [
        {
          "output_type": "stream",
          "name": "stdout",
          "text": [
            "17\n"
          ]
        }
      ]
    },
    {
      "cell_type": "code",
      "source": [
        "my_str='welcome'  # No color for variable in this IDE\n",
        "def    # why the color has changed ?"
      ],
      "metadata": {
        "id": "EJ1OFvef0-Dg"
      },
      "execution_count": null,
      "outputs": []
    }
  ]
}