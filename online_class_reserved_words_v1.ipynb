{
  "nbformat": 4,
  "nbformat_minor": 0,
  "metadata": {
    "colab": {
      "provenance": [],
      "authorship_tag": "ABX9TyMPNkno0XEhndn9gkycpYRT",
      "include_colab_link": true
    },
    "kernelspec": {
      "name": "python3",
      "display_name": "Python 3"
    }
  },
  "cells": [
    {
      "cell_type": "markdown",
      "metadata": {
        "id": "view-in-github",
        "colab_type": "text"
      },
      "source": [
        "<a href=\"https://colab.research.google.com/github/plus2net/Python-basics/blob/main/online_class_reserved_words_v1.ipynb\" target=\"_parent\"><img src=\"https://colab.research.google.com/assets/colab-badge.svg\" alt=\"Open In Colab\"/></a>"
      ]
    },
    {
      "cell_type": "markdown",
      "source": [
        "![alt text](https://www.plus2net.com/images/top2.jpg)        Read more on [Python  reserved words ](https://www.plus2net.com/python/reserved-keywords.php)"
      ],
      "metadata": {
        "id": "audw05pSF0iu"
      }
    },
    {
      "cell_type": "markdown",
      "metadata": {
        "id": "WMByX06CKKKE"
      },
      "source": [
        "How to check if the string is reserved word or not"
      ]
    },
    {
      "cell_type": "markdown",
      "source": [
        "Prepare a list of reserved words used by Python"
      ],
      "metadata": {
        "id": "6thqHvIYh74U"
      }
    },
    {
      "cell_type": "markdown",
      "source": [
        "What is the total number of reserved words in Python"
      ],
      "metadata": {
        "id": "b3v2E3Pm9qES"
      }
    },
    {
      "cell_type": "markdown",
      "metadata": {
        "id": "PqNx6LxZKBjp"
      },
      "source": [
        "Check if def is a reserved word or not"
      ]
    },
    {
      "cell_type": "markdown",
      "source": [
        "Check if For , Break ,true ... are reserved words or not"
      ],
      "metadata": {
        "id": "yDcTT5TZiDWx"
      }
    }
  ]
}