{
  "nbformat": 4,
  "nbformat_minor": 0,
  "metadata": {
    "colab": {
      "provenance": [],
      "authorship_tag": "ABX9TyNHM9MIxTFplHPwjxOJ3NVE",
      "include_colab_link": true
    },
    "kernelspec": {
      "name": "python3",
      "display_name": "Python 3"
    },
    "language_info": {
      "name": "python"
    }
  },
  "cells": [
    {
      "cell_type": "markdown",
      "metadata": {
        "id": "view-in-github",
        "colab_type": "text"
      },
      "source": [
        "<a href=\"https://colab.research.google.com/github/plus2net/Python-basics/blob/main/sqlite_blob_sqlalchemy.ipynb\" target=\"_parent\"><img src=\"https://colab.research.google.com/assets/colab-badge.svg\" alt=\"Open In Colab\"/></a>"
      ]
    },
    {
      "cell_type": "code",
      "source": [
        "# download student_blob.db SQLite Database from plus2net.com\n",
        "!wget https://www.plus2net.com/python/download/student_blob.db"
      ],
      "metadata": {
        "id": "9d9gE5CgjZ_n"
      },
      "execution_count": null,
      "outputs": []
    },
    {
      "cell_type": "code",
      "source": [
        "from sqlalchemy import create_engine,text\n",
        "from sqlalchemy.exc import SQLAlchemyError\n",
        "my_conn=create_engine(\"sqlite:///student_blob.db\"+'?check_same_thread=False')\n",
        "my_conn=my_conn.connect()\n",
        "from PIL import Image\n",
        "import io\n",
        "my_data=(1) # ID of the row to display\n",
        "q=\"SELECT * FROM  student_profile WHERE id=1\" # query with place holders\n",
        "try:\n",
        "  my_cursor=my_conn.execute(text(q))\n",
        "  r_set=my_cursor.fetchone()\n",
        "except SQLAlchemyError as e:\n",
        "  #error=str(e.__dict__['orig'])\n",
        "  print(e)\n",
        "else:\n",
        "  student=str(r_set[0])+','+r_set[1]\n",
        "  #print(student)\n",
        "  image = Image.open(io.BytesIO(r_set[2]))\n",
        "  import matplotlib.pyplot as plt\n",
        "  plt.imshow(image)\n",
        "  plt.show()"
      ],
      "metadata": {
        "id": "pH2NO_N3jby7"
      },
      "execution_count": null,
      "outputs": []
    }
  ]
}